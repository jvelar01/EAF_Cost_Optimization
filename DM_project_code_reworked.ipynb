{
 "cells": [
  {
   "cell_type": "code",
   "execution_count": 1,
   "metadata": {},
   "outputs": [],
   "source": [
    "import pandas as pd\n",
    "import seaborn as sns\n",
    "from joblib import dump, load"
   ]
  },
  {
   "cell_type": "markdown",
   "metadata": {},
   "source": [
    "In this project we tried a few different approaches before encountering one in which we could progress. This is caused by the broadness of our dataset, which allows for a lot of questions. Some of this questions uncover very interesting relationships in the data, but unfortunately some other questions lead us to dead ends, at least with the data and time we have available. \n",
    "\n",
    "Our first idea was to predict the tapping temperature of a batch of metal based on the energy usage of the furnace for such metal.\n",
    "\n",
    "This relationship, if strong, could have been used to optimize the energy consumage of the EAF and stabilize the temperature values even further (they are already really stable, probably the most stable variable in the furnace's dataset)"
   ]
  },
  {
   "cell_type": "markdown",
   "metadata": {},
   "source": [
    "We start by doing some preprocessing on the temperature data."
   ]
  },
  {
   "cell_type": "code",
   "execution_count": 2,
   "metadata": {},
   "outputs": [
    {
     "name": "stdout",
     "output_type": "stream",
     "text": [
      "       HEATID             DATETIME    TEMP  VALO2_PPM\n",
      "0      6F0020  2016-01-01 19:15:00  1650.0     1242.0\n",
      "1      6F0021  2016-01-01 20:05:00  1649.0     1160.0\n",
      "2      6F0021  2016-01-01 20:05:00  1649.0     1160.0\n",
      "3      6F0021  2016-01-01 20:03:00  1606.0     1152.0\n",
      "4      6F0022  2016-01-01 21:03:00  1636.0      947.0\n",
      "...       ...                  ...     ...        ...\n",
      "85099  5F8441  2015-12-31 21:53:00  1653.0        0.0\n",
      "85100  5F8441  2015-12-31 21:54:00  1650.0     1133.0\n",
      "85101  5F8441  2015-12-31 21:52:00  1603.0        0.0\n",
      "85102  5F8442  2015-12-31 22:38:00  1667.0     1253.0\n",
      "85103  5F8442  2015-12-31 22:37:00  1633.0        0.0\n",
      "\n",
      "[85104 rows x 4 columns]\n"
     ]
    }
   ],
   "source": [
    "df=pd.read_csv('eaf_temp.csv', sep=',')\n",
    "\n",
    "print(df)"
   ]
  },
  {
   "cell_type": "code",
   "execution_count": null,
   "metadata": {},
   "outputs": [
    {
     "name": "stdout",
     "output_type": "stream",
     "text": [
      "number of rows = 85104\n",
      "number of duplicated rows = 3520\n",
      "       HEATID             DATETIME    TEMP  VALO2_PPM\n",
      "1      6F0021  2016-01-01 20:05:00  1649.0     1160.0\n",
      "2      6F0021  2016-01-01 20:05:00  1649.0     1160.0\n",
      "20     6F0028  2016-01-02 03:25:00  1651.0     1048.0\n",
      "21     6F0028  2016-01-02 03:25:00  1651.0     1048.0\n",
      "94     6F0053  2016-01-03 00:27:00  1500.0       17.0\n",
      "...       ...                  ...     ...        ...\n",
      "84966  5F8403  2015-12-30 01:53:00  1621.0      845.0\n",
      "85036  5F8427  2015-12-31 00:53:00  1663.0        0.0\n",
      "85037  5F8427  2015-12-31 00:53:00  1663.0        0.0\n",
      "85045  5F8429  2015-12-31 03:51:00  1574.0        0.0\n",
      "85046  5F8429  2015-12-31 03:51:00  1574.0        0.0\n",
      "\n",
      "[3520 rows x 4 columns]\n"
     ]
    }
   ],
   "source": [
    "#analyze duplicates\n",
    "df_duplicates=df[df.duplicated(keep=False)]\n",
    "print(\"number of rows =\", len(df)) \n",
    "print(\"number of duplicated rows =\", len(df_duplicates))\n",
    "print(df_duplicates) "
   ]
  },
  {
   "cell_type": "code",
   "execution_count": null,
   "metadata": {},
   "outputs": [
    {
     "data": {
      "text/html": [
       "<div>\n",
       "<style scoped>\n",
       "    .dataframe tbody tr th:only-of-type {\n",
       "        vertical-align: middle;\n",
       "    }\n",
       "\n",
       "    .dataframe tbody tr th {\n",
       "        vertical-align: top;\n",
       "    }\n",
       "\n",
       "    .dataframe thead th {\n",
       "        text-align: right;\n",
       "    }\n",
       "</style>\n",
       "<table border=\"1\" class=\"dataframe\">\n",
       "  <thead>\n",
       "    <tr style=\"text-align: right;\">\n",
       "      <th></th>\n",
       "      <th>HEATID</th>\n",
       "      <th>DATETIME</th>\n",
       "      <th>TEMP</th>\n",
       "      <th>VALO2_PPM</th>\n",
       "    </tr>\n",
       "  </thead>\n",
       "  <tbody>\n",
       "    <tr>\n",
       "      <th>0</th>\n",
       "      <td>6F0020</td>\n",
       "      <td>2016-01-01 19:15:00</td>\n",
       "      <td>1650.0</td>\n",
       "      <td>1242.0</td>\n",
       "    </tr>\n",
       "    <tr>\n",
       "      <th>1</th>\n",
       "      <td>6F0021</td>\n",
       "      <td>2016-01-01 20:05:00</td>\n",
       "      <td>1649.0</td>\n",
       "      <td>1160.0</td>\n",
       "    </tr>\n",
       "    <tr>\n",
       "      <th>2</th>\n",
       "      <td>6F0021</td>\n",
       "      <td>2016-01-01 20:03:00</td>\n",
       "      <td>1606.0</td>\n",
       "      <td>1152.0</td>\n",
       "    </tr>\n",
       "    <tr>\n",
       "      <th>3</th>\n",
       "      <td>6F0022</td>\n",
       "      <td>2016-01-01 21:03:00</td>\n",
       "      <td>1636.0</td>\n",
       "      <td>947.0</td>\n",
       "    </tr>\n",
       "    <tr>\n",
       "      <th>4</th>\n",
       "      <td>6F0022</td>\n",
       "      <td>2016-01-01 21:02:00</td>\n",
       "      <td>1620.0</td>\n",
       "      <td>943.0</td>\n",
       "    </tr>\n",
       "    <tr>\n",
       "      <th>...</th>\n",
       "      <td>...</td>\n",
       "      <td>...</td>\n",
       "      <td>...</td>\n",
       "      <td>...</td>\n",
       "    </tr>\n",
       "    <tr>\n",
       "      <th>83291</th>\n",
       "      <td>5F8441</td>\n",
       "      <td>2015-12-31 21:53:00</td>\n",
       "      <td>1653.0</td>\n",
       "      <td>0.0</td>\n",
       "    </tr>\n",
       "    <tr>\n",
       "      <th>83292</th>\n",
       "      <td>5F8441</td>\n",
       "      <td>2015-12-31 21:54:00</td>\n",
       "      <td>1650.0</td>\n",
       "      <td>1133.0</td>\n",
       "    </tr>\n",
       "    <tr>\n",
       "      <th>83293</th>\n",
       "      <td>5F8441</td>\n",
       "      <td>2015-12-31 21:52:00</td>\n",
       "      <td>1603.0</td>\n",
       "      <td>0.0</td>\n",
       "    </tr>\n",
       "    <tr>\n",
       "      <th>83294</th>\n",
       "      <td>5F8442</td>\n",
       "      <td>2015-12-31 22:38:00</td>\n",
       "      <td>1667.0</td>\n",
       "      <td>1253.0</td>\n",
       "    </tr>\n",
       "    <tr>\n",
       "      <th>83295</th>\n",
       "      <td>5F8442</td>\n",
       "      <td>2015-12-31 22:37:00</td>\n",
       "      <td>1633.0</td>\n",
       "      <td>0.0</td>\n",
       "    </tr>\n",
       "  </tbody>\n",
       "</table>\n",
       "<p>83296 rows × 4 columns</p>\n",
       "</div>"
      ],
      "text/plain": [
       "       HEATID             DATETIME    TEMP  VALO2_PPM\n",
       "0      6F0020  2016-01-01 19:15:00  1650.0     1242.0\n",
       "1      6F0021  2016-01-01 20:05:00  1649.0     1160.0\n",
       "2      6F0021  2016-01-01 20:03:00  1606.0     1152.0\n",
       "3      6F0022  2016-01-01 21:03:00  1636.0      947.0\n",
       "4      6F0022  2016-01-01 21:02:00  1620.0      943.0\n",
       "...       ...                  ...     ...        ...\n",
       "83291  5F8441  2015-12-31 21:53:00  1653.0        0.0\n",
       "83292  5F8441  2015-12-31 21:54:00  1650.0     1133.0\n",
       "83293  5F8441  2015-12-31 21:52:00  1603.0        0.0\n",
       "83294  5F8442  2015-12-31 22:38:00  1667.0     1253.0\n",
       "83295  5F8442  2015-12-31 22:37:00  1633.0        0.0\n",
       "\n",
       "[83296 rows x 4 columns]"
      ]
     },
     "execution_count": 4,
     "metadata": {},
     "output_type": "execute_result"
    }
   ],
   "source": [
    "#drop duplicates\n",
    "df2=df.copy()\n",
    "df2=df.drop_duplicates()\n",
    "df2.reset_index(drop=True)"
   ]
  },
  {
   "cell_type": "code",
   "execution_count": 5,
   "metadata": {},
   "outputs": [
    {
     "data": {
      "text/html": [
       "<div>\n",
       "<style scoped>\n",
       "    .dataframe tbody tr th:only-of-type {\n",
       "        vertical-align: middle;\n",
       "    }\n",
       "\n",
       "    .dataframe tbody tr th {\n",
       "        vertical-align: top;\n",
       "    }\n",
       "\n",
       "    .dataframe thead th {\n",
       "        text-align: right;\n",
       "    }\n",
       "</style>\n",
       "<table border=\"1\" class=\"dataframe\">\n",
       "  <thead>\n",
       "    <tr style=\"text-align: right;\">\n",
       "      <th></th>\n",
       "      <th>TEMP</th>\n",
       "      <th>VALO2_PPM</th>\n",
       "    </tr>\n",
       "  </thead>\n",
       "  <tbody>\n",
       "    <tr>\n",
       "      <th>count</th>\n",
       "      <td>83296.000000</td>\n",
       "      <td>83296.000000</td>\n",
       "    </tr>\n",
       "    <tr>\n",
       "      <th>mean</th>\n",
       "      <td>1632.853859</td>\n",
       "      <td>891.961118</td>\n",
       "    </tr>\n",
       "    <tr>\n",
       "      <th>std</th>\n",
       "      <td>27.355759</td>\n",
       "      <td>1270.705802</td>\n",
       "    </tr>\n",
       "    <tr>\n",
       "      <th>min</th>\n",
       "      <td>1115.000000</td>\n",
       "      <td>0.000000</td>\n",
       "    </tr>\n",
       "    <tr>\n",
       "      <th>25%</th>\n",
       "      <td>1616.000000</td>\n",
       "      <td>580.000000</td>\n",
       "    </tr>\n",
       "    <tr>\n",
       "      <th>50%</th>\n",
       "      <td>1635.000000</td>\n",
       "      <td>797.000000</td>\n",
       "    </tr>\n",
       "    <tr>\n",
       "      <th>75%</th>\n",
       "      <td>1651.000000</td>\n",
       "      <td>990.000000</td>\n",
       "    </tr>\n",
       "    <tr>\n",
       "      <th>max</th>\n",
       "      <td>1850.000000</td>\n",
       "      <td>9999.000000</td>\n",
       "    </tr>\n",
       "  </tbody>\n",
       "</table>\n",
       "</div>"
      ],
      "text/plain": [
       "               TEMP     VALO2_PPM\n",
       "count  83296.000000  83296.000000\n",
       "mean    1632.853859    891.961118\n",
       "std       27.355759   1270.705802\n",
       "min     1115.000000      0.000000\n",
       "25%     1616.000000    580.000000\n",
       "50%     1635.000000    797.000000\n",
       "75%     1651.000000    990.000000\n",
       "max     1850.000000   9999.000000"
      ]
     },
     "execution_count": 5,
     "metadata": {},
     "output_type": "execute_result"
    }
   ],
   "source": [
    "df2.describe()"
   ]
  },
  {
   "cell_type": "markdown",
   "metadata": {},
   "source": [
    "Here, as it will happen a couple of times during our EDA, there is probably potential for a time-series analysis. However, it is unclear to us how to perform it meaningfully, so we will try to use the most representative value for each batch. In this specific case, the most representative value will be the latest measurement of temperature, which is done right before tapping. There are approximately 4 values for each batch. \n",
    "\n",
    "We will have similar situations with energy and gas usage data."
   ]
  },
  {
   "cell_type": "code",
   "execution_count": 6,
   "metadata": {},
   "outputs": [
    {
     "name": "stdout",
     "output_type": "stream",
     "text": [
      "       HEATID            DATETIME    TEMP\n",
      "0      5F0002 2015-01-01 01:32:00  1650.0\n",
      "1      5F0003 2015-01-01 02:18:00  1653.0\n",
      "2      5F0004 2015-01-01 03:18:00  1636.0\n",
      "3      5F0005 2015-01-01 04:07:00  1641.0\n",
      "4      5F0006 2015-01-01 04:57:00  1651.0\n",
      "...       ...                 ...     ...\n",
      "20822  8F5227 2018-07-20 06:36:00  1648.0\n",
      "20823  8F5392 2018-07-25 22:10:00  1685.0\n",
      "20824  8F5471 2018-07-29 07:42:00  1671.0\n",
      "20825  8F5472 2018-07-29 08:29:00  1661.0\n",
      "20826  8F5473 2018-07-29 09:16:00  1656.0\n",
      "\n",
      "[20827 rows x 3 columns]\n"
     ]
    }
   ],
   "source": [
    "df_sorted=df2.drop([\"VALO2_PPM\"],axis=1)\n",
    "\n",
    "df_sorted['DATETIME'] = pd.to_datetime(df2['DATETIME'])  \n",
    "\n",
    "df_sorted = df_sorted.sort_values(by=['HEATID', 'DATETIME'])\n",
    "\n",
    "df3=df_sorted.groupby('HEATID').last().reset_index()\n",
    "\n",
    "print(df3)\n",
    "\n",
    "\n",
    "\n"
   ]
  },
  {
   "cell_type": "code",
   "execution_count": 7,
   "metadata": {},
   "outputs": [
    {
     "data": {
      "text/html": [
       "<div>\n",
       "<style scoped>\n",
       "    .dataframe tbody tr th:only-of-type {\n",
       "        vertical-align: middle;\n",
       "    }\n",
       "\n",
       "    .dataframe tbody tr th {\n",
       "        vertical-align: top;\n",
       "    }\n",
       "\n",
       "    .dataframe thead th {\n",
       "        text-align: right;\n",
       "    }\n",
       "</style>\n",
       "<table border=\"1\" class=\"dataframe\">\n",
       "  <thead>\n",
       "    <tr style=\"text-align: right;\">\n",
       "      <th></th>\n",
       "      <th>TEMP</th>\n",
       "    </tr>\n",
       "  </thead>\n",
       "  <tbody>\n",
       "    <tr>\n",
       "      <th>count</th>\n",
       "      <td>20827.000000</td>\n",
       "    </tr>\n",
       "    <tr>\n",
       "      <th>mean</th>\n",
       "      <td>1649.852835</td>\n",
       "    </tr>\n",
       "    <tr>\n",
       "      <th>std</th>\n",
       "      <td>13.868516</td>\n",
       "    </tr>\n",
       "    <tr>\n",
       "      <th>min</th>\n",
       "      <td>1499.000000</td>\n",
       "    </tr>\n",
       "    <tr>\n",
       "      <th>25%</th>\n",
       "      <td>1641.000000</td>\n",
       "    </tr>\n",
       "    <tr>\n",
       "      <th>50%</th>\n",
       "      <td>1650.000000</td>\n",
       "    </tr>\n",
       "    <tr>\n",
       "      <th>75%</th>\n",
       "      <td>1658.000000</td>\n",
       "    </tr>\n",
       "    <tr>\n",
       "      <th>max</th>\n",
       "      <td>1850.000000</td>\n",
       "    </tr>\n",
       "  </tbody>\n",
       "</table>\n",
       "</div>"
      ],
      "text/plain": [
       "               TEMP\n",
       "count  20827.000000\n",
       "mean    1649.852835\n",
       "std       13.868516\n",
       "min     1499.000000\n",
       "25%     1641.000000\n",
       "50%     1650.000000\n",
       "75%     1658.000000\n",
       "max     1850.000000"
      ]
     },
     "execution_count": 7,
     "metadata": {},
     "output_type": "execute_result"
    }
   ],
   "source": [
    "df4=df3.drop([\"DATETIME\"],axis=1)\n",
    "\n",
    "df4.describe()"
   ]
  },
  {
   "cell_type": "code",
   "execution_count": 8,
   "metadata": {},
   "outputs": [
    {
     "data": {
      "text/plain": [
       "<seaborn.axisgrid.FacetGrid at 0x1990212b550>"
      ]
     },
     "execution_count": 8,
     "metadata": {},
     "output_type": "execute_result"
    },
    {
     "data": {
      "image/png": "[encoded data removed]",
      "text/plain": [
       "<Figure size 500x500 with 1 Axes>"
      ]
     },
     "metadata": {},
     "output_type": "display_data"
    }
   ],
   "source": [
    "sns.displot(df4,x=\"TEMP\",stat='probability')"
   ]
  },
  {
   "cell_type": "markdown",
   "metadata": {},
   "source": [
    "Temperature seems to be more or less normally distributed. This also happens with most of the variables we will be using."
   ]
  },
  {
   "cell_type": "markdown",
   "metadata": {},
   "source": [
    "We look for outliers"
   ]
  },
  {
   "cell_type": "code",
   "execution_count": 9,
   "metadata": {},
   "outputs": [],
   "source": [
    "def find_outliers_IQR(df,c):\n",
    "    print(len(df))\n",
    "    q1=df[c].quantile(0.25)\n",
    "    q3=df[c].quantile(0.75)\n",
    "    IQR=q3-q1\n",
    "    print(\"IQR= (\",q1-1.5*IQR,\",\",q3+1.5*IQR,\")\")\n",
    "    outliers=df[c][((df[c]<(q1-1.5*IQR)) | (df[c]>(q3+1.5*IQR)) )]\n",
    "    print(f\"Number of outliers for {c}: {len(outliers)}\")\n",
    "    print(f\"Max outlier: {outliers.max()}\")\n",
    "    print(f\"Min outlier: {outliers.min()}\")\n",
    "    return outliers.index.tolist()"
   ]
  },
  {
   "cell_type": "code",
   "execution_count": 10,
   "metadata": {},
   "outputs": [
    {
     "name": "stdout",
     "output_type": "stream",
     "text": [
      "20827\n",
      "IQR= ( 1615.5 , 1683.5 )\n",
      "Number of outliers for TEMP: 354\n",
      "Max outlier: 1850.0\n",
      "Min outlier: 1499.0\n"
     ]
    }
   ],
   "source": [
    "outlier_index=find_outliers_IQR(df4,\"TEMP\")"
   ]
  },
  {
   "cell_type": "markdown",
   "metadata": {},
   "source": [
    "Since the outliers are not very extreme, we could entertain doing a logarithmic transformation to keep them. However, we have very few of them, so for now we will just drop them. "
   ]
  },
  {
   "cell_type": "code",
   "execution_count": 11,
   "metadata": {},
   "outputs": [],
   "source": [
    "df5=df4.drop(outlier_index).reset_index()\n"
   ]
  },
  {
   "cell_type": "markdown",
   "metadata": {},
   "source": [
    "We have succesfully processed the temperature values. Now let's see what we can do with the energy consumption table."
   ]
  },
  {
   "cell_type": "code",
   "execution_count": 12,
   "metadata": {},
   "outputs": [],
   "source": [
    "df_transf=pd.read_csv('eaf_transformer.csv', sep=',')"
   ]
  },
  {
   "cell_type": "code",
   "execution_count": 13,
   "metadata": {},
   "outputs": [
    {
     "name": "stdout",
     "output_type": "stream",
     "text": [
      "        TAP  HEATID            STARTTIME DURATION     MW\n",
      "0        11  6F0020  2016-01-01 18:35:00   00: 29    0,5\n",
      "1        17  6F0020  2016-01-01 19:04:00   10: 40     16\n",
      "2        17  6F0020  2016-01-01 18:55:00   03: 00     11\n",
      "3        17  6F0020  2016-01-01 18:37:00   13: 20  16,75\n",
      "4        17  6F0020  2016-01-01 18:36:00   00: 40   0,75\n",
      "...     ...     ...                  ...      ...    ...\n",
      "271707   16  5F8442  2015-12-31 22:17:00   00: 10  0,125\n",
      "271708   16  5F8442  2015-12-31 22:04:00   00: 10      0\n",
      "271709   15  5F8442  2015-12-31 22:32:00   05: 30  8,125\n",
      "271710   15  5F8442  2015-12-31 22:29:00   01: 31  2,125\n",
      "271711   15  5F8442  2015-12-31 22:17:00   00: 10   0,25\n",
      "\n",
      "[271712 rows x 5 columns]\n"
     ]
    }
   ],
   "source": [
    "print(df_transf)"
   ]
  },
  {
   "cell_type": "markdown",
   "metadata": {},
   "source": [
    "Before doing feature engineering, we are going to try to make sure that we are not dealing with extreme, absurd values, specially in duration and MW. To do this analysis, we format both columns to make them usable. "
   ]
  },
  {
   "cell_type": "code",
   "execution_count": 14,
   "metadata": {},
   "outputs": [],
   "source": [
    "dfTc=df_transf.copy()\n",
    "\n",
    "dfTc['MWF'] = df_transf['MW'].str.replace(',', '.').astype(float)\n",
    "\n",
    "dfTc['DURATION_MINUTES'] = df_transf['DURATION'].str.split(':').apply(lambda x: int(x[0]) + int(x[1]) / 60)\n"
   ]
  },
  {
   "cell_type": "code",
   "execution_count": 15,
   "metadata": {},
   "outputs": [
    {
     "name": "stdout",
     "output_type": "stream",
     "text": [
      "271712\n",
      "IQR= ( -4.625 , 8.375 )\n",
      "Number of outliers for MWF: 47547\n",
      "Max outlier: 999.999\n",
      "Min outlier: -1049.624\n"
     ]
    }
   ],
   "source": [
    "out_MWF_ind=find_outliers_IQR(dfTc,\"MWF\")"
   ]
  },
  {
   "cell_type": "markdown",
   "metadata": {},
   "source": [
    "We have negative outliers in our electricity values, let's explore this."
   ]
  },
  {
   "cell_type": "code",
   "execution_count": 16,
   "metadata": {},
   "outputs": [
    {
     "name": "stdout",
     "output_type": "stream",
     "text": [
      "22\n"
     ]
    }
   ],
   "source": [
    "count_negatives = (dfTc['MWF'] < 0).sum()\n",
    "print(count_negatives)\n",
    "#ng_val = dfTc[dfTc['MWF'] < 0]['MWF']\n",
    "#print(ng_val)"
   ]
  },
  {
   "cell_type": "markdown",
   "metadata": {},
   "source": [
    "At least we have very few of them, so we assume they are mistakes and we can drop them."
   ]
  },
  {
   "cell_type": "code",
   "execution_count": 17,
   "metadata": {},
   "outputs": [],
   "source": [
    "indDrop = dfTc[dfTc['MWF'] < 0].index\n",
    "dfTc2=dfTc.drop(indDrop)"
   ]
  },
  {
   "cell_type": "markdown",
   "metadata": {},
   "source": [
    "Now we examine the positive outliers. 10 MW is an outlier according to the IQR, but since here we just want to remove very extreme, possibly faulty values, and not the high true values, we are going to address only values that are more than 50 MW, which is not normal and probably a mistake in the recordings."
   ]
  },
  {
   "cell_type": "code",
   "execution_count": 18,
   "metadata": {},
   "outputs": [
    {
     "name": "stdout",
     "output_type": "stream",
     "text": [
      "5\n"
     ]
    }
   ],
   "source": [
    "count_posMis = (dfTc['MWF'] > 50).sum()\n",
    "print(count_posMis)"
   ]
  },
  {
   "cell_type": "markdown",
   "metadata": {},
   "source": [
    "Again, there are very few values, so we can drop."
   ]
  },
  {
   "cell_type": "code",
   "execution_count": 19,
   "metadata": {},
   "outputs": [],
   "source": [
    "indDrop2 = dfTc2[dfTc2['MWF'] < 0].index\n",
    "dfTc3=dfTc2.drop(indDrop2)"
   ]
  },
  {
   "cell_type": "markdown",
   "metadata": {},
   "source": [
    "This kind of processing will also be a constant along the project, paired sometimes with logarithmic or squared root transformations. We will not touch most of the outliers, since we feel they are relevant to the results. Maybe a more thorough outlier analysis could be performed for a fine optimization, but our models will have other more important problems."
   ]
  },
  {
   "cell_type": "markdown",
   "metadata": {},
   "source": [
    "We are going to have to do some feature engineering to be able to feed our information to an algorithm. Again, time series here might be useful in a more experienced and detailed analysis."
   ]
  },
  {
   "cell_type": "markdown",
   "metadata": {},
   "source": [
    "First we drop some unnecesary columns"
   ]
  },
  {
   "cell_type": "code",
   "execution_count": 20,
   "metadata": {},
   "outputs": [
    {
     "name": "stdout",
     "output_type": "stream",
     "text": [
      "        TAP  HEATID            STARTTIME DURATION     MW     MWF  \\\n",
      "0        11  6F0020  2016-01-01 18:35:00   00: 29    0,5   0.500   \n",
      "1        17  6F0020  2016-01-01 19:04:00   10: 40     16  16.000   \n",
      "2        17  6F0020  2016-01-01 18:55:00   03: 00     11  11.000   \n",
      "3        17  6F0020  2016-01-01 18:37:00   13: 20  16,75  16.750   \n",
      "4        17  6F0020  2016-01-01 18:36:00   00: 40   0,75   0.750   \n",
      "...     ...     ...                  ...      ...    ...     ...   \n",
      "271707   16  5F8442  2015-12-31 22:17:00   00: 10  0,125   0.125   \n",
      "271708   16  5F8442  2015-12-31 22:04:00   00: 10      0   0.000   \n",
      "271709   15  5F8442  2015-12-31 22:32:00   05: 30  8,125   8.125   \n",
      "271710   15  5F8442  2015-12-31 22:29:00   01: 31  2,125   2.125   \n",
      "271711   15  5F8442  2015-12-31 22:17:00   00: 10   0,25   0.250   \n",
      "\n",
      "        DURATION_MINUTES  \n",
      "0               0.483333  \n",
      "1              10.666667  \n",
      "2               3.000000  \n",
      "3              13.333333  \n",
      "4               0.666667  \n",
      "...                  ...  \n",
      "271707          0.166667  \n",
      "271708          0.166667  \n",
      "271709          5.500000  \n",
      "271710          1.516667  \n",
      "271711          0.166667  \n",
      "\n",
      "[271690 rows x 7 columns]\n"
     ]
    }
   ],
   "source": [
    "print(dfTc3)"
   ]
  },
  {
   "cell_type": "code",
   "execution_count": 21,
   "metadata": {},
   "outputs": [],
   "source": [
    "dfTc4=dfTc3.drop([\"STARTTIME\",\"DURATION\",\"MW\"],axis=1)"
   ]
  },
  {
   "cell_type": "code",
   "execution_count": 22,
   "metadata": {},
   "outputs": [
    {
     "name": "stdout",
     "output_type": "stream",
     "text": [
      "        TAP  HEATID     MWF  DURATION_MINUTES\n",
      "0        11  6F0020   0.500          0.483333\n",
      "1        17  6F0020  16.000         10.666667\n",
      "2        17  6F0020  11.000          3.000000\n",
      "3        17  6F0020  16.750         13.333333\n",
      "4        17  6F0020   0.750          0.666667\n",
      "...     ...     ...     ...               ...\n",
      "271707   16  5F8442   0.125          0.166667\n",
      "271708   16  5F8442   0.000          0.166667\n",
      "271709   15  5F8442   8.125          5.500000\n",
      "271710   15  5F8442   2.125          1.516667\n",
      "271711   15  5F8442   0.250          0.166667\n",
      "\n",
      "[271690 rows x 4 columns]\n"
     ]
    }
   ],
   "source": [
    "print(dfTc4)"
   ]
  },
  {
   "cell_type": "code",
   "execution_count": 23,
   "metadata": {},
   "outputs": [
    {
     "name": "stdout",
     "output_type": "stream",
     "text": [
      "[11 17 16 13 15 14 12 18  7  8  9 10  6  4  5  2  1  3]\n"
     ]
    }
   ],
   "source": [
    "print(dfTc3['TAP'].unique())"
   ]
  },
  {
   "cell_type": "markdown",
   "metadata": {},
   "source": [
    "We will take into account the transformer stages later, but we are going to create first some easier and less noisy columns."
   ]
  },
  {
   "cell_type": "markdown",
   "metadata": {},
   "source": [
    "The first thing we are going to do is create a new dataframe that has the total energy spent per batch in megawatts per hour (MWh). We will calculate this by multiplying the electricity and time values."
   ]
  },
  {
   "cell_type": "code",
   "execution_count": 24,
   "metadata": {},
   "outputs": [
    {
     "name": "stdout",
     "output_type": "stream",
     "text": [
      "       HEATID        MWh\n",
      "0      5F0002   4.781944\n",
      "1      5F0003  12.317708\n",
      "2      5F0004   7.157986\n",
      "3      5F0005  10.843160\n",
      "4      5F0006  11.211806\n",
      "...       ...        ...\n",
      "20808  8F5226   8.573194\n",
      "20809  8F5227   9.683472\n",
      "20810  8F5471   4.566250\n",
      "20811  8F5472   2.290833\n",
      "20812  8F5473  15.257361\n",
      "\n",
      "[20813 rows x 2 columns]\n"
     ]
    }
   ],
   "source": [
    "\n",
    "\n",
    "df_T=pd.DataFrame()\n",
    "\n",
    "df_T['MW_permin'] = dfTc4['MWF'] * dfTc4['DURATION_MINUTES']\n",
    "\n",
    "df_T['HEATID']=dfTc4['HEATID']\n",
    "\n",
    "dfT = df_T.groupby('HEATID', as_index=False)['MW_permin'].sum()\n",
    "\n",
    "dfT['MWh'] = dfT['MW_permin'] / 60\n",
    "\n",
    "dfT2=dfT.drop([\"MW_permin\"],axis=1)\n",
    "\n",
    "print(dfT2)\n",
    "\n",
    "\n",
    "\n"
   ]
  },
  {
   "cell_type": "code",
   "execution_count": 25,
   "metadata": {},
   "outputs": [
    {
     "data": {
      "text/plain": [
       "<seaborn.axisgrid.FacetGrid at 0x199045e5510>"
      ]
     },
     "execution_count": 25,
     "metadata": {},
     "output_type": "execute_result"
    },
    {
     "data": {
      "image/png": "[encoded data removed]",
      "text/plain": [
       "<Figure size 500x500 with 1 Axes>"
      ]
     },
     "metadata": {},
     "output_type": "display_data"
    }
   ],
   "source": [
    "sns.displot(dfT2,x=\"MWh\",stat=\"probability\")"
   ]
  },
  {
   "cell_type": "markdown",
   "metadata": {},
   "source": [
    "The values are more or less normally distributed, which is good. We look for outliers. Also, the spent energy seems to vary a lot more than the temperature, which might mean there is room for energy optimizing. "
   ]
  },
  {
   "cell_type": "code",
   "execution_count": 26,
   "metadata": {},
   "outputs": [
    {
     "name": "stdout",
     "output_type": "stream",
     "text": [
      "20813\n",
      "IQR= ( 1.8001388888888874 , 14.815694444444446 )\n",
      "Number of outliers for MWh: 274\n",
      "Max outlier: 47.222175\n",
      "Min outlier: 0.008125\n"
     ]
    }
   ],
   "source": [
    "out_MWh_ind=find_outliers_IQR(dfT2,\"MWh\")"
   ]
  },
  {
   "cell_type": "markdown",
   "metadata": {},
   "source": [
    "We do not have a lot of outliers, so we drop them"
   ]
  },
  {
   "cell_type": "code",
   "execution_count": 27,
   "metadata": {},
   "outputs": [],
   "source": [
    "dfT3=dfT2.drop(out_MWh_ind)"
   ]
  },
  {
   "cell_type": "markdown",
   "metadata": {},
   "source": [
    "We scale the column"
   ]
  },
  {
   "cell_type": "code",
   "execution_count": 28,
   "metadata": {},
   "outputs": [],
   "source": [
    "from sklearn.preprocessing import MinMaxScaler\n",
    "dfT4=dfT3.copy()\n",
    "\n",
    "scaler1 = MinMaxScaler()\n",
    "\n",
    "scaler1.fit(dfT3[[\"MWh\"]])\n",
    "dfT4.loc[:,\"MWh\"] = scaler1.transform(dfT3[[\"MWh\"]])"
   ]
  },
  {
   "cell_type": "code",
   "execution_count": 29,
   "metadata": {},
   "outputs": [
    {
     "name": "stdout",
     "output_type": "stream",
     "text": [
      "       HEATID       MWh\n",
      "0      5F0002  0.226436\n",
      "1      5F0003  0.807465\n",
      "2      5F0004  0.409636\n",
      "3      5F0005  0.693773\n",
      "4      5F0006  0.722197\n",
      "...       ...       ...\n",
      "20807  8F5223  0.583803\n",
      "20808  8F5226  0.518752\n",
      "20809  8F5227  0.604358\n",
      "20810  8F5471  0.209805\n",
      "20811  8F5472  0.034364\n",
      "\n",
      "[20539 rows x 2 columns]\n"
     ]
    }
   ],
   "source": [
    "print(dfT4)"
   ]
  },
  {
   "cell_type": "markdown",
   "metadata": {},
   "source": [
    "We are prepared now for a first benchmark test"
   ]
  },
  {
   "cell_type": "code",
   "execution_count": 30,
   "metadata": {},
   "outputs": [
    {
     "name": "stdout",
     "output_type": "stream",
     "text": [
      "            MWh    TEMP\n",
      "0      0.226436  1650.0\n",
      "1      0.807465  1653.0\n",
      "2      0.409636  1636.0\n",
      "3      0.693773  1641.0\n",
      "4      0.722197  1651.0\n",
      "...         ...     ...\n",
      "20193  0.583803  1648.0\n",
      "20194  0.518752  1651.0\n",
      "20195  0.604358  1648.0\n",
      "20196  0.209805  1671.0\n",
      "20197  0.034364  1661.0\n",
      "\n",
      "[20198 rows x 2 columns]\n"
     ]
    }
   ],
   "source": [
    "dfMer = dfT4.merge(df5, on='HEATID', how='inner')\n",
    "\n",
    "dfMer1= dfMer.drop([\"index\",\"HEATID\"], axis=1)\n",
    "\n",
    "print(dfMer1)"
   ]
  },
  {
   "cell_type": "code",
   "execution_count": 31,
   "metadata": {},
   "outputs": [
    {
     "data": {
      "text/html": [
       "<div>\n",
       "<style scoped>\n",
       "    .dataframe tbody tr th:only-of-type {\n",
       "        vertical-align: middle;\n",
       "    }\n",
       "\n",
       "    .dataframe tbody tr th {\n",
       "        vertical-align: top;\n",
       "    }\n",
       "\n",
       "    .dataframe thead th {\n",
       "        text-align: right;\n",
       "    }\n",
       "</style>\n",
       "<table border=\"1\" class=\"dataframe\">\n",
       "  <thead>\n",
       "    <tr style=\"text-align: right;\">\n",
       "      <th></th>\n",
       "      <th>MWh</th>\n",
       "      <th>TEMP</th>\n",
       "    </tr>\n",
       "  </thead>\n",
       "  <tbody>\n",
       "    <tr>\n",
       "      <th>MWh</th>\n",
       "      <td>1.000000</td>\n",
       "      <td>-0.172143</td>\n",
       "    </tr>\n",
       "    <tr>\n",
       "      <th>TEMP</th>\n",
       "      <td>-0.172143</td>\n",
       "      <td>1.000000</td>\n",
       "    </tr>\n",
       "  </tbody>\n",
       "</table>\n",
       "</div>"
      ],
      "text/plain": [
       "           MWh      TEMP\n",
       "MWh   1.000000 -0.172143\n",
       "TEMP -0.172143  1.000000"
      ]
     },
     "execution_count": 31,
     "metadata": {},
     "output_type": "execute_result"
    }
   ],
   "source": [
    "dfMer1.corr()"
   ]
  },
  {
   "cell_type": "code",
   "execution_count": 32,
   "metadata": {},
   "outputs": [],
   "source": [
    "y1=dfMer1[\"TEMP\"]\n",
    "X1=dfMer1[\"MWh\"]"
   ]
  },
  {
   "cell_type": "markdown",
   "metadata": {},
   "source": [
    "This looks pretty bad. Apparently total consumption of energy was not as relevant as we thought. We will try a baseline model, however, to see how much we will improve later"
   ]
  },
  {
   "cell_type": "code",
   "execution_count": 33,
   "metadata": {},
   "outputs": [],
   "source": [
    "from sklearn.model_selection import train_test_split"
   ]
  },
  {
   "cell_type": "code",
   "execution_count": 34,
   "metadata": {},
   "outputs": [],
   "source": [
    "X_train1, X_test1, y_train1, y_test1 = train_test_split(X1, y1, test_size=0.2)"
   ]
  },
  {
   "cell_type": "markdown",
   "metadata": {},
   "source": [
    "As a benchmark, we will use Linear Regression"
   ]
  },
  {
   "cell_type": "code",
   "execution_count": 35,
   "metadata": {},
   "outputs": [],
   "source": [
    "from sklearn.metrics import mean_squared_error, r2_score\n",
    "from sklearn.metrics import mean_absolute_error\n",
    "from sklearn.metrics import median_absolute_error\n",
    "from sklearn.metrics import explained_variance_score\n",
    "import numpy as np"
   ]
  },
  {
   "cell_type": "code",
   "execution_count": 36,
   "metadata": {},
   "outputs": [],
   "source": [
    "def rss_score(y, y_pred):\n",
    "    return np.sum((y - y_pred)**2)\n",
    "\n",
    "from math import sqrt\n",
    "def my_performance_report(y_pred,y_test):\n",
    "    mse_nn = mean_squared_error(y_test, y_pred)\n",
    "    r2_nn = r2_score(y_test, y_pred)\n",
    "    rss_nn=rss_score(y_test, y_pred)\n",
    "    mae_nn=mean_absolute_error(y_test, y_pred)\n",
    "    medae_nn=median_absolute_error(y_test, y_pred)\n",
    "    evar_nn=explained_variance_score(y_test, y_pred)\n",
    "    print(\"RSS:\")\n",
    "    print(rss_nn)\n",
    "    print(f\"MSE: {mse_nn:.2f}\")\n",
    "    print(f\"RMSE: {sqrt(mse_nn):.2f}\")\n",
    "    print(f\"Mean Absolute Error: {mae_nn:.2f}\")\n",
    "    print(f\"Median Absolute Error: {medae_nn:.2f}\")\n",
    "    print(f\"Explained Variance Score: {evar_nn:.2f}\")\n",
    "    print(f\"R²: {r2_nn:.2f}\")"
   ]
  },
  {
   "cell_type": "code",
   "execution_count": 37,
   "metadata": {},
   "outputs": [],
   "source": [
    "X_train2 = X_train1.values.reshape(-1, 1)  # Convert to 2D so we can predict\n",
    "X_test2 = X_test1.values.reshape(-1, 1)  \n",
    "\n",
    "y_train2 = y_train1.squeeze()  #convert to series for the model also.\n",
    "y_test2 = y_test1.squeeze()  "
   ]
  },
  {
   "cell_type": "code",
   "execution_count": 38,
   "metadata": {},
   "outputs": [
    {
     "data": {
      "text/html": [
       "<style>#sk-container-id-1 {\n",
       "  /* Definition of color scheme common for light and dark mode */\n",
       "  --sklearn-color-text: black;\n",
       "  --sklearn-color-line: gray;\n",
       "  /* Definition of color scheme for unfitted estimators */\n",
       "  --sklearn-color-unfitted-level-0: #fff5e6;\n",
       "  --sklearn-color-unfitted-level-1: #f6e4d2;\n",
       "  --sklearn-color-unfitted-level-2: #ffe0b3;\n",
       "  --sklearn-color-unfitted-level-3: chocolate;\n",
       "  /* Definition of color scheme for fitted estimators */\n",
       "  --sklearn-color-fitted-level-0: #f0f8ff;\n",
       "  --sklearn-color-fitted-level-1: #d4ebff;\n",
       "  --sklearn-color-fitted-level-2: #b3dbfd;\n",
       "  --sklearn-color-fitted-level-3: cornflowerblue;\n",
       "\n",
       "  /* Specific color for light theme */\n",
       "  --sklearn-color-text-on-default-background: var(--sg-text-color, var(--theme-code-foreground, var(--jp-content-font-color1, black)));\n",
       "  --sklearn-color-background: var(--sg-background-color, var(--theme-background, var(--jp-layout-color0, white)));\n",
       "  --sklearn-color-border-box: var(--sg-text-color, var(--theme-code-foreground, var(--jp-content-font-color1, black)));\n",
       "  --sklearn-color-icon: #696969;\n",
       "\n",
       "  @media (prefers-color-scheme: dark) {\n",
       "    /* Redefinition of color scheme for dark theme */\n",
       "    --sklearn-color-text-on-default-background: var(--sg-text-color, var(--theme-code-foreground, var(--jp-content-font-color1, white)));\n",
       "    --sklearn-color-background: var(--sg-background-color, var(--theme-background, var(--jp-layout-color0, #111)));\n",
       "    --sklearn-color-border-box: var(--sg-text-color, var(--theme-code-foreground, var(--jp-content-font-color1, white)));\n",
       "    --sklearn-color-icon: #878787;\n",
       "  }\n",
       "}\n",
       "\n",
       "#sk-container-id-1 {\n",
       "  color: var(--sklearn-color-text);\n",
       "}\n",
       "\n",
       "#sk-container-id-1 pre {\n",
       "  padding: 0;\n",
       "}\n",
       "\n",
       "#sk-container-id-1 input.sk-hidden--visually {\n",
       "  border: 0;\n",
       "  clip: rect(1px 1px 1px 1px);\n",
       "  clip: rect(1px, 1px, 1px, 1px);\n",
       "  height: 1px;\n",
       "  margin: -1px;\n",
       "  overflow: hidden;\n",
       "  padding: 0;\n",
       "  position: absolute;\n",
       "  width: 1px;\n",
       "}\n",
       "\n",
       "#sk-container-id-1 div.sk-dashed-wrapped {\n",
       "  border: 1px dashed var(--sklearn-color-line);\n",
       "  margin: 0 0.4em 0.5em 0.4em;\n",
       "  box-sizing: border-box;\n",
       "  padding-bottom: 0.4em;\n",
       "  background-color: var(--sklearn-color-background);\n",
       "}\n",
       "\n",
       "#sk-container-id-1 div.sk-container {\n",
       "  /* jupyter's `normalize.less` sets `[hidden] { display: none; }`\n",
       "     but bootstrap.min.css set `[hidden] { display: none !important; }`\n",
       "     so we also need the `!important` here to be able to override the\n",
       "     default hidden behavior on the sphinx rendered scikit-learn.org.\n",
       "     See: https://github.com/scikit-learn/scikit-learn/issues/21755 */\n",
       "  display: inline-block !important;\n",
       "  position: relative;\n",
       "}\n",
       "\n",
       "#sk-container-id-1 div.sk-text-repr-fallback {\n",
       "  display: none;\n",
       "}\n",
       "\n",
       "div.sk-parallel-item,\n",
       "div.sk-serial,\n",
       "div.sk-item {\n",
       "  /* draw centered vertical line to link estimators */\n",
       "  background-image: linear-gradient(var(--sklearn-color-text-on-default-background), var(--sklearn-color-text-on-default-background));\n",
       "  background-size: 2px 100%;\n",
       "  background-repeat: no-repeat;\n",
       "  background-position: center center;\n",
       "}\n",
       "\n",
       "/* Parallel-specific style estimator block */\n",
       "\n",
       "#sk-container-id-1 div.sk-parallel-item::after {\n",
       "  content: \"\";\n",
       "  width: 100%;\n",
       "  border-bottom: 2px solid var(--sklearn-color-text-on-default-background);\n",
       "  flex-grow: 1;\n",
       "}\n",
       "\n",
       "#sk-container-id-1 div.sk-parallel {\n",
       "  display: flex;\n",
       "  align-items: stretch;\n",
       "  justify-content: center;\n",
       "  background-color: var(--sklearn-color-background);\n",
       "  position: relative;\n",
       "}\n",
       "\n",
       "#sk-container-id-1 div.sk-parallel-item {\n",
       "  display: flex;\n",
       "  flex-direction: column;\n",
       "}\n",
       "\n",
       "#sk-container-id-1 div.sk-parallel-item:first-child::after {\n",
       "  align-self: flex-end;\n",
       "  width: 50%;\n",
       "}\n",
       "\n",
       "#sk-container-id-1 div.sk-parallel-item:last-child::after {\n",
       "  align-self: flex-start;\n",
       "  width: 50%;\n",
       "}\n",
       "\n",
       "#sk-container-id-1 div.sk-parallel-item:only-child::after {\n",
       "  width: 0;\n",
       "}\n",
       "\n",
       "/* Serial-specific style estimator block */\n",
       "\n",
       "#sk-container-id-1 div.sk-serial {\n",
       "  display: flex;\n",
       "  flex-direction: column;\n",
       "  align-items: center;\n",
       "  background-color: var(--sklearn-color-background);\n",
       "  padding-right: 1em;\n",
       "  padding-left: 1em;\n",
       "}\n",
       "\n",
       "\n",
       "/* Toggleable style: style used for estimator/Pipeline/ColumnTransformer box that is\n",
       "clickable and can be expanded/collapsed.\n",
       "- Pipeline and ColumnTransformer use this feature and define the default style\n",
       "- Estimators will overwrite some part of the style using the `sk-estimator` class\n",
       "*/\n",
       "\n",
       "/* Pipeline and ColumnTransformer style (default) */\n",
       "\n",
       "#sk-container-id-1 div.sk-toggleable {\n",
       "  /* Default theme specific background. It is overwritten whether we have a\n",
       "  specific estimator or a Pipeline/ColumnTransformer */\n",
       "  background-color: var(--sklearn-color-background);\n",
       "}\n",
       "\n",
       "/* Toggleable label */\n",
       "#sk-container-id-1 label.sk-toggleable__label {\n",
       "  cursor: pointer;\n",
       "  display: block;\n",
       "  width: 100%;\n",
       "  margin-bottom: 0;\n",
       "  padding: 0.5em;\n",
       "  box-sizing: border-box;\n",
       "  text-align: center;\n",
       "}\n",
       "\n",
       "#sk-container-id-1 label.sk-toggleable__label-arrow:before {\n",
       "  /* Arrow on the left of the label */\n",
       "  content: \"▸\";\n",
       "  float: left;\n",
       "  margin-right: 0.25em;\n",
       "  color: var(--sklearn-color-icon);\n",
       "}\n",
       "\n",
       "#sk-container-id-1 label.sk-toggleable__label-arrow:hover:before {\n",
       "  color: var(--sklearn-color-text);\n",
       "}\n",
       "\n",
       "/* Toggleable content - dropdown */\n",
       "\n",
       "#sk-container-id-1 div.sk-toggleable__content {\n",
       "  max-height: 0;\n",
       "  max-width: 0;\n",
       "  overflow: hidden;\n",
       "  text-align: left;\n",
       "  /* unfitted */\n",
       "  background-color: var(--sklearn-color-unfitted-level-0);\n",
       "}\n",
       "\n",
       "#sk-container-id-1 div.sk-toggleable__content.fitted {\n",
       "  /* fitted */\n",
       "  background-color: var(--sklearn-color-fitted-level-0);\n",
       "}\n",
       "\n",
       "#sk-container-id-1 div.sk-toggleable__content pre {\n",
       "  margin: 0.2em;\n",
       "  border-radius: 0.25em;\n",
       "  color: var(--sklearn-color-text);\n",
       "  /* unfitted */\n",
       "  background-color: var(--sklearn-color-unfitted-level-0);\n",
       "}\n",
       "\n",
       "#sk-container-id-1 div.sk-toggleable__content.fitted pre {\n",
       "  /* unfitted */\n",
       "  background-color: var(--sklearn-color-fitted-level-0);\n",
       "}\n",
       "\n",
       "#sk-container-id-1 input.sk-toggleable__control:checked~div.sk-toggleable__content {\n",
       "  /* Expand drop-down */\n",
       "  max-height: 200px;\n",
       "  max-width: 100%;\n",
       "  overflow: auto;\n",
       "}\n",
       "\n",
       "#sk-container-id-1 input.sk-toggleable__control:checked~label.sk-toggleable__label-arrow:before {\n",
       "  content: \"▾\";\n",
       "}\n",
       "\n",
       "/* Pipeline/ColumnTransformer-specific style */\n",
       "\n",
       "#sk-container-id-1 div.sk-label input.sk-toggleable__control:checked~label.sk-toggleable__label {\n",
       "  color: var(--sklearn-color-text);\n",
       "  background-color: var(--sklearn-color-unfitted-level-2);\n",
       "}\n",
       "\n",
       "#sk-container-id-1 div.sk-label.fitted input.sk-toggleable__control:checked~label.sk-toggleable__label {\n",
       "  background-color: var(--sklearn-color-fitted-level-2);\n",
       "}\n",
       "\n",
       "/* Estimator-specific style */\n",
       "\n",
       "/* Colorize estimator box */\n",
       "#sk-container-id-1 div.sk-estimator input.sk-toggleable__control:checked~label.sk-toggleable__label {\n",
       "  /* unfitted */\n",
       "  background-color: var(--sklearn-color-unfitted-level-2);\n",
       "}\n",
       "\n",
       "#sk-container-id-1 div.sk-estimator.fitted input.sk-toggleable__control:checked~label.sk-toggleable__label {\n",
       "  /* fitted */\n",
       "  background-color: var(--sklearn-color-fitted-level-2);\n",
       "}\n",
       "\n",
       "#sk-container-id-1 div.sk-label label.sk-toggleable__label,\n",
       "#sk-container-id-1 div.sk-label label {\n",
       "  /* The background is the default theme color */\n",
       "  color: var(--sklearn-color-text-on-default-background);\n",
       "}\n",
       "\n",
       "/* On hover, darken the color of the background */\n",
       "#sk-container-id-1 div.sk-label:hover label.sk-toggleable__label {\n",
       "  color: var(--sklearn-color-text);\n",
       "  background-color: var(--sklearn-color-unfitted-level-2);\n",
       "}\n",
       "\n",
       "/* Label box, darken color on hover, fitted */\n",
       "#sk-container-id-1 div.sk-label.fitted:hover label.sk-toggleable__label.fitted {\n",
       "  color: var(--sklearn-color-text);\n",
       "  background-color: var(--sklearn-color-fitted-level-2);\n",
       "}\n",
       "\n",
       "/* Estimator label */\n",
       "\n",
       "#sk-container-id-1 div.sk-label label {\n",
       "  font-family: monospace;\n",
       "  font-weight: bold;\n",
       "  display: inline-block;\n",
       "  line-height: 1.2em;\n",
       "}\n",
       "\n",
       "#sk-container-id-1 div.sk-label-container {\n",
       "  text-align: center;\n",
       "}\n",
       "\n",
       "/* Estimator-specific */\n",
       "#sk-container-id-1 div.sk-estimator {\n",
       "  font-family: monospace;\n",
       "  border: 1px dotted var(--sklearn-color-border-box);\n",
       "  border-radius: 0.25em;\n",
       "  box-sizing: border-box;\n",
       "  margin-bottom: 0.5em;\n",
       "  /* unfitted */\n",
       "  background-color: var(--sklearn-color-unfitted-level-0);\n",
       "}\n",
       "\n",
       "#sk-container-id-1 div.sk-estimator.fitted {\n",
       "  /* fitted */\n",
       "  background-color: var(--sklearn-color-fitted-level-0);\n",
       "}\n",
       "\n",
       "/* on hover */\n",
       "#sk-container-id-1 div.sk-estimator:hover {\n",
       "  /* unfitted */\n",
       "  background-color: var(--sklearn-color-unfitted-level-2);\n",
       "}\n",
       "\n",
       "#sk-container-id-1 div.sk-estimator.fitted:hover {\n",
       "  /* fitted */\n",
       "  background-color: var(--sklearn-color-fitted-level-2);\n",
       "}\n",
       "\n",
       "/* Specification for estimator info (e.g. \"i\" and \"?\") */\n",
       "\n",
       "/* Common style for \"i\" and \"?\" */\n",
       "\n",
       ".sk-estimator-doc-link,\n",
       "a:link.sk-estimator-doc-link,\n",
       "a:visited.sk-estimator-doc-link {\n",
       "  float: right;\n",
       "  font-size: smaller;\n",
       "  line-height: 1em;\n",
       "  font-family: monospace;\n",
       "  background-color: var(--sklearn-color-background);\n",
       "  border-radius: 1em;\n",
       "  height: 1em;\n",
       "  width: 1em;\n",
       "  text-decoration: none !important;\n",
       "  margin-left: 1ex;\n",
       "  /* unfitted */\n",
       "  border: var(--sklearn-color-unfitted-level-1) 1pt solid;\n",
       "  color: var(--sklearn-color-unfitted-level-1);\n",
       "}\n",
       "\n",
       ".sk-estimator-doc-link.fitted,\n",
       "a:link.sk-estimator-doc-link.fitted,\n",
       "a:visited.sk-estimator-doc-link.fitted {\n",
       "  /* fitted */\n",
       "  border: var(--sklearn-color-fitted-level-1) 1pt solid;\n",
       "  color: var(--sklearn-color-fitted-level-1);\n",
       "}\n",
       "\n",
       "/* On hover */\n",
       "div.sk-estimator:hover .sk-estimator-doc-link:hover,\n",
       ".sk-estimator-doc-link:hover,\n",
       "div.sk-label-container:hover .sk-estimator-doc-link:hover,\n",
       ".sk-estimator-doc-link:hover {\n",
       "  /* unfitted */\n",
       "  background-color: var(--sklearn-color-unfitted-level-3);\n",
       "  color: var(--sklearn-color-background);\n",
       "  text-decoration: none;\n",
       "}\n",
       "\n",
       "div.sk-estimator.fitted:hover .sk-estimator-doc-link.fitted:hover,\n",
       ".sk-estimator-doc-link.fitted:hover,\n",
       "div.sk-label-container:hover .sk-estimator-doc-link.fitted:hover,\n",
       ".sk-estimator-doc-link.fitted:hover {\n",
       "  /* fitted */\n",
       "  background-color: var(--sklearn-color-fitted-level-3);\n",
       "  color: var(--sklearn-color-background);\n",
       "  text-decoration: none;\n",
       "}\n",
       "\n",
       "/* Span, style for the box shown on hovering the info icon */\n",
       ".sk-estimator-doc-link span {\n",
       "  display: none;\n",
       "  z-index: 9999;\n",
       "  position: relative;\n",
       "  font-weight: normal;\n",
       "  right: .2ex;\n",
       "  padding: .5ex;\n",
       "  margin: .5ex;\n",
       "  width: min-content;\n",
       "  min-width: 20ex;\n",
       "  max-width: 50ex;\n",
       "  color: var(--sklearn-color-text);\n",
       "  box-shadow: 2pt 2pt 4pt #999;\n",
       "  /* unfitted */\n",
       "  background: var(--sklearn-color-unfitted-level-0);\n",
       "  border: .5pt solid var(--sklearn-color-unfitted-level-3);\n",
       "}\n",
       "\n",
       ".sk-estimator-doc-link.fitted span {\n",
       "  /* fitted */\n",
       "  background: var(--sklearn-color-fitted-level-0);\n",
       "  border: var(--sklearn-color-fitted-level-3);\n",
       "}\n",
       "\n",
       ".sk-estimator-doc-link:hover span {\n",
       "  display: block;\n",
       "}\n",
       "\n",
       "/* \"?\"-specific style due to the `<a>` HTML tag */\n",
       "\n",
       "#sk-container-id-1 a.estimator_doc_link {\n",
       "  float: right;\n",
       "  font-size: 1rem;\n",
       "  line-height: 1em;\n",
       "  font-family: monospace;\n",
       "  background-color: var(--sklearn-color-background);\n",
       "  border-radius: 1rem;\n",
       "  height: 1rem;\n",
       "  width: 1rem;\n",
       "  text-decoration: none;\n",
       "  /* unfitted */\n",
       "  color: var(--sklearn-color-unfitted-level-1);\n",
       "  border: var(--sklearn-color-unfitted-level-1) 1pt solid;\n",
       "}\n",
       "\n",
       "#sk-container-id-1 a.estimator_doc_link.fitted {\n",
       "  /* fitted */\n",
       "  border: var(--sklearn-color-fitted-level-1) 1pt solid;\n",
       "  color: var(--sklearn-color-fitted-level-1);\n",
       "}\n",
       "\n",
       "/* On hover */\n",
       "#sk-container-id-1 a.estimator_doc_link:hover {\n",
       "  /* unfitted */\n",
       "  background-color: var(--sklearn-color-unfitted-level-3);\n",
       "  color: var(--sklearn-color-background);\n",
       "  text-decoration: none;\n",
       "}\n",
       "\n",
       "#sk-container-id-1 a.estimator_doc_link.fitted:hover {\n",
       "  /* fitted */\n",
       "  background-color: var(--sklearn-color-fitted-level-3);\n",
       "}\n",
       "</style><div id=\"sk-container-id-1\" class=\"sk-top-container\"><div class=\"sk-text-repr-fallback\"><pre>LinearRegression()</pre><b>In a Jupyter environment, please rerun this cell to show the HTML representation or trust the notebook. <br />On GitHub, the HTML representation is unable to render, please try loading this page with nbviewer.org.</b></div><div class=\"sk-container\" hidden><div class=\"sk-item\"><div class=\"sk-estimator fitted sk-toggleable\"><input class=\"sk-toggleable__control sk-hidden--visually\" id=\"sk-estimator-id-1\" type=\"checkbox\" checked><label for=\"sk-estimator-id-1\" class=\"sk-toggleable__label fitted sk-toggleable__label-arrow fitted\">&nbsp;&nbsp;LinearRegression<a class=\"sk-estimator-doc-link fitted\" rel=\"noreferrer\" target=\"_blank\" href=\"https://scikit-learn.org/1.5/modules/generated/sklearn.linear_model.LinearRegression.html\">?<span>Documentation for LinearRegression</span></a><span class=\"sk-estimator-doc-link fitted\">i<span>Fitted</span></span></label><div class=\"sk-toggleable__content fitted\"><pre>LinearRegression()</pre></div> </div></div></div></div>"
      ],
      "text/plain": [
       "LinearRegression()"
      ]
     },
     "execution_count": 38,
     "metadata": {},
     "output_type": "execute_result"
    }
   ],
   "source": [
    "from sklearn.linear_model import LinearRegression\n",
    "lin_reg = LinearRegression()\n",
    "lin_reg.fit(X_train2, y_train2)\n",
    "\n",
    "#yPredLin1 = lin_reg.predict(X_test1)"
   ]
  },
  {
   "cell_type": "code",
   "execution_count": 39,
   "metadata": {},
   "outputs": [
    {
     "name": "stdout",
     "output_type": "stream",
     "text": [
      "RSS:\n",
      "614764.4715045821\n",
      "MSE: 152.17\n",
      "RMSE: 12.34\n",
      "Mean Absolute Error: 9.86\n",
      "Median Absolute Error: 8.13\n",
      "Explained Variance Score: 0.03\n",
      "R²: 0.03\n"
     ]
    }
   ],
   "source": [
    "y_PredLin2= lin_reg.predict(X_test2)\n",
    "my_performance_report(y_PredLin2,y_test2)"
   ]
  },
  {
   "cell_type": "markdown",
   "metadata": {},
   "source": [
    "As expected, we get very bad results, let's do some changes. "
   ]
  },
  {
   "cell_type": "code",
   "execution_count": 40,
   "metadata": {},
   "outputs": [
    {
     "name": "stdout",
     "output_type": "stream",
     "text": [
      "        TAP  HEATID     MWF  DURATION_MINUTES\n",
      "0        11  6F0020   0.500          0.483333\n",
      "1        17  6F0020  16.000         10.666667\n",
      "2        17  6F0020  11.000          3.000000\n",
      "3        17  6F0020  16.750         13.333333\n",
      "4        17  6F0020   0.750          0.666667\n",
      "...     ...     ...     ...               ...\n",
      "271707   16  5F8442   0.125          0.166667\n",
      "271708   16  5F8442   0.000          0.166667\n",
      "271709   15  5F8442   8.125          5.500000\n",
      "271710   15  5F8442   2.125          1.516667\n",
      "271711   15  5F8442   0.250          0.166667\n",
      "\n",
      "[271690 rows x 4 columns]\n"
     ]
    }
   ],
   "source": [
    "print(dfTc4)"
   ]
  },
  {
   "cell_type": "markdown",
   "metadata": {},
   "source": [
    "Now we will try to create meaningful variables to take into account energy consumption. "
   ]
  },
  {
   "cell_type": "markdown",
   "metadata": {},
   "source": [
    "We are going to add the number of times the transformer stage is changed"
   ]
  },
  {
   "cell_type": "code",
   "execution_count": 41,
   "metadata": {},
   "outputs": [
    {
     "name": "stdout",
     "output_type": "stream",
     "text": [
      "       HEATID  N_TF_CHANGES\n",
      "0      5F0002             5\n",
      "1      5F0003             6\n",
      "2      5F0004             7\n",
      "3      5F0005             6\n",
      "4      5F0006             5\n",
      "...       ...           ...\n",
      "20808  8F5226             7\n",
      "20809  8F5227             7\n",
      "20810  8F5471             7\n",
      "20811  8F5472             4\n",
      "20812  8F5473             3\n",
      "\n",
      "[20813 rows x 2 columns]\n"
     ]
    }
   ],
   "source": [
    "dfTc4['TAP_CHANGE'] = dfTc4['TAP'] != dfTc4.groupby('HEATID')['TAP'].shift()\n",
    "tap_changes = dfTc4.groupby('HEATID')['TAP_CHANGE'].sum().reset_index()\n",
    "tap_changes.rename(columns={'TAP_CHANGE': 'N_TF_CHANGES'}, inplace=True)\n",
    "\n",
    "print(tap_changes)"
   ]
  },
  {
   "cell_type": "code",
   "execution_count": 42,
   "metadata": {},
   "outputs": [
    {
     "data": {
      "text/plain": [
       "<seaborn.axisgrid.FacetGrid at 0x199082519d0>"
      ]
     },
     "execution_count": 42,
     "metadata": {},
     "output_type": "execute_result"
    },
    {
     "data": {
      "image/png": "[encoded data removed]",
      "text/plain": [
       "<Figure size 500x500 with 1 Axes>"
      ]
     },
     "metadata": {},
     "output_type": "display_data"
    }
   ],
   "source": [
    "sns.displot(tap_changes,x=\"N_TF_CHANGES\",stat=\"probability\")"
   ]
  },
  {
   "cell_type": "markdown",
   "metadata": {},
   "source": [
    "And also we are going to add the total time spent on melting the batch. "
   ]
  },
  {
   "cell_type": "code",
   "execution_count": 43,
   "metadata": {},
   "outputs": [
    {
     "name": "stdout",
     "output_type": "stream",
     "text": [
      "       HEATID  TOTAL_DURATION_MINUTES\n",
      "0      5F0002               16.833333\n",
      "1      5F0003               33.500000\n",
      "2      5F0004               34.333333\n",
      "3      5F0005               35.683333\n",
      "4      5F0006               35.000000\n",
      "...       ...                     ...\n",
      "20808  8F5226               33.200000\n",
      "20809  8F5227               35.016667\n",
      "20810  8F5471               34.850000\n",
      "20811  8F5472               11.116667\n",
      "20812  8F5473               34.516667\n",
      "\n",
      "[20813 rows x 2 columns]\n"
     ]
    }
   ],
   "source": [
    "total_duration = dfTc4.groupby('HEATID')['DURATION_MINUTES'].sum().reset_index()\n",
    "total_duration.rename(columns={'DURATION_MINUTES': 'TOTAL_DURATION_MINUTES'}, inplace=True)\n",
    "print(total_duration)"
   ]
  },
  {
   "cell_type": "code",
   "execution_count": 44,
   "metadata": {},
   "outputs": [
    {
     "data": {
      "text/plain": [
       "<seaborn.axisgrid.FacetGrid at 0x199097c4190>"
      ]
     },
     "execution_count": 44,
     "metadata": {},
     "output_type": "execute_result"
    },
    {
     "data": {
      "image/png": "[encoded data removed]",
      "text/plain": [
       "<Figure size 500x500 with 1 Axes>"
      ]
     },
     "metadata": {},
     "output_type": "display_data"
    }
   ],
   "source": [
    "sns.displot(total_duration,x=\"TOTAL_DURATION_MINUTES\",stat=\"probability\")"
   ]
  },
  {
   "cell_type": "markdown",
   "metadata": {},
   "source": [
    "We will process the outliers in these columns later"
   ]
  },
  {
   "cell_type": "code",
   "execution_count": 45,
   "metadata": {},
   "outputs": [
    {
     "name": "stdout",
     "output_type": "stream",
     "text": [
      "       HEATID  N_TF_CHANGES  TOTAL_DURATION_MINUTES\n",
      "0      5F0002             5               16.833333\n",
      "1      5F0003             6               33.500000\n",
      "2      5F0004             7               34.333333\n",
      "3      5F0005             6               35.683333\n",
      "4      5F0006             5               35.000000\n",
      "...       ...           ...                     ...\n",
      "20808  8F5226             7               33.200000\n",
      "20809  8F5227             7               35.016667\n",
      "20810  8F5471             7               34.850000\n",
      "20811  8F5472             4               11.116667\n",
      "20812  8F5473             3               34.516667\n",
      "\n",
      "[20813 rows x 3 columns]\n"
     ]
    }
   ],
   "source": [
    "dfTrAddons = pd.merge(tap_changes, total_duration, on='HEATID')\n",
    "\n",
    "print(dfTrAddons)\n"
   ]
  },
  {
   "cell_type": "markdown",
   "metadata": {},
   "source": [
    "We will also try to use later the average of electricity and time spent as an alternative to total energy spent."
   ]
  },
  {
   "cell_type": "code",
   "execution_count": 46,
   "metadata": {},
   "outputs": [
    {
     "name": "stdout",
     "output_type": "stream",
     "text": [
      "       HEATID  TOTAL_MWF\n",
      "0      5F0002     48.625\n",
      "1      5F0003     48.625\n",
      "2      5F0004     47.375\n",
      "3      5F0005     49.250\n",
      "4      5F0006     49.875\n",
      "...       ...        ...\n",
      "20808  8F5226     49.500\n",
      "20809  8F5227     51.250\n",
      "20810  8F5471     49.500\n",
      "20811  8F5472     48.750\n",
      "20812  8F5473     49.750\n",
      "\n",
      "[20813 rows x 2 columns]\n"
     ]
    }
   ],
   "source": [
    "total_mwf = dfTc4.groupby('HEATID')['MWF'].sum().reset_index()\n",
    "total_mwf.rename(columns={'MWF': 'TOTAL_MWF'}, inplace=True)\n",
    "print(total_mwf)"
   ]
  },
  {
   "cell_type": "code",
   "execution_count": 47,
   "metadata": {},
   "outputs": [
    {
     "name": "stdout",
     "output_type": "stream",
     "text": [
      "       HEATID  TOTAL_MWF  TOTAL_DURATION_MINUTES          Avg\n",
      "0      5F0002     48.625               16.833333   818.520833\n",
      "1      5F0003     48.625               33.500000  1628.937500\n",
      "2      5F0004     47.375               34.333333  1626.541667\n",
      "3      5F0005     49.250               35.683333  1757.404167\n",
      "4      5F0006     49.875               35.000000  1745.625000\n",
      "...       ...        ...                     ...          ...\n",
      "20808  8F5226     49.500               33.200000  1643.400000\n",
      "20809  8F5227     51.250               35.016667  1794.604167\n",
      "20810  8F5471     49.500               34.850000  1725.075000\n",
      "20811  8F5472     48.750               11.116667   541.937500\n",
      "20812  8F5473     49.750               34.516667  1717.204167\n",
      "\n",
      "[20813 rows x 4 columns]\n"
     ]
    }
   ],
   "source": [
    "dfAvg=pd.merge(total_mwf, total_duration, on='HEATID')\n",
    "\n",
    "dfAvg['Avg'] = dfAvg['TOTAL_MWF'] * dfAvg['TOTAL_DURATION_MINUTES']\n",
    "\n",
    "\n",
    "print(dfAvg)"
   ]
  },
  {
   "cell_type": "markdown",
   "metadata": {},
   "source": [
    "Another feature we will try to use is the energy consumed in each transformer stage, this way we are taking into account the power and time consumed in each TAP."
   ]
  },
  {
   "cell_type": "code",
   "execution_count": null,
   "metadata": {},
   "outputs": [
    {
     "name": "stdout",
     "output_type": "stream",
     "text": [
      "       HEATID  MWh_TAP_1  MWh_TAP_2  MWh_TAP_3  MWh_TAP_4  MWh_TAP_5  \\\n",
      "0      5F0002        0.0        0.0        0.0        0.0        0.0   \n",
      "1      5F0003        0.0        0.0        0.0        0.0        0.0   \n",
      "2      5F0004        0.0        0.0        0.0        0.0        0.0   \n",
      "3      5F0005        0.0        0.0        0.0        0.0        0.0   \n",
      "4      5F0006        0.0        0.0        0.0        0.0        0.0   \n",
      "...       ...        ...        ...        ...        ...        ...   \n",
      "20808  8F5226        0.0        0.0        0.0        0.0        0.0   \n",
      "20809  8F5227        0.0        0.0        0.0        0.0        0.0   \n",
      "20810  8F5471        0.0        0.0        0.0        0.0        0.0   \n",
      "20811  8F5472        0.0        0.0        0.0        0.0        0.0   \n",
      "20812  8F5473        0.0        0.0        0.0        0.0        0.0   \n",
      "\n",
      "       MWh_TAP_6  MWh_TAP_7  MWh_TAP_8  MWh_TAP_9  MWh_TAP_10  MWh_TAP_11  \\\n",
      "0            0.0        0.0        0.0        0.0         0.0    0.023611   \n",
      "1            0.0        0.0        0.0        0.0         0.0    0.048611   \n",
      "2            0.0        0.0        0.0        0.0         0.0    0.044792   \n",
      "3            0.0        0.0        0.0        0.0         0.0    0.040972   \n",
      "4            0.0        0.0        0.0        0.0         0.0    0.043750   \n",
      "...          ...        ...        ...        ...         ...         ...   \n",
      "20808        0.0        0.0        0.0        0.0         0.0    0.000000   \n",
      "20809        0.0        0.0        0.0        0.0         0.0    0.000000   \n",
      "20810        0.0        0.0        0.0        0.0         0.0    0.000000   \n",
      "20811        0.0        0.0        0.0        0.0         0.0    0.000000   \n",
      "20812        0.0        0.0        0.0        0.0         0.0    0.000000   \n",
      "\n",
      "       MWh_TAP_12  MWh_TAP_13  MWh_TAP_14  MWh_TAP_15  MWh_TAP_16  MWh_TAP_17  \\\n",
      "0        0.001042    0.000694    0.000347    4.756250    0.000000    0.000000   \n",
      "1        0.000694    0.000694    0.001042   12.266667    0.000000    0.000000   \n",
      "2        0.001389    0.000694    0.001736    7.109375    0.000000    0.000000   \n",
      "3        0.000694    0.000694    0.000694   10.800104    0.000000    0.000000   \n",
      "4        0.001389    0.000347    0.000347   11.165972    0.000000    0.000000   \n",
      "...           ...         ...         ...         ...         ...         ...   \n",
      "20808    0.000000    0.000000    0.000000    1.061389    0.003333    7.508472   \n",
      "20809    0.000000    0.000000    0.000000    0.958125    0.002153    8.723194   \n",
      "20810    0.000000    0.126389    0.000000    1.876111    0.000000    2.563750   \n",
      "20811    0.000000    0.034028    0.000000    2.256806    0.000000    0.000000   \n",
      "20812    0.000000    0.038889    0.000694   15.217778    0.000000    0.000000   \n",
      "\n",
      "       MWh_TAP_18  \n",
      "0             0.0  \n",
      "1             0.0  \n",
      "2             0.0  \n",
      "3             0.0  \n",
      "4             0.0  \n",
      "...           ...  \n",
      "20808         0.0  \n",
      "20809         0.0  \n",
      "20810         0.0  \n",
      "20811         0.0  \n",
      "20812         0.0  \n",
      "\n",
      "[20813 rows x 19 columns]\n"
     ]
    }
   ],
   "source": [
    "dfTc4['MWh'] = dfTc4['MWF'] * dfTc4['DURATION_MINUTES'] / 60\n",
    "\n",
    "energy_by_tap = dfTc4.pivot_table(\n",
    "    index='HEATID', \n",
    "    columns='TAP', \n",
    "    values='MWh', \n",
    "    aggfunc='sum', \n",
    "    fill_value=0\n",
    ")\n",
    "\n",
    "energy_by_tap.columns = [f'MWh_TAP_{tap}' for tap in energy_by_tap.columns]\n",
    "\n",
    "energy_by_tap.reset_index(inplace=True)\n",
    "\n",
    "print(energy_by_tap)\n"
   ]
  },
  {
   "cell_type": "code",
   "execution_count": 49,
   "metadata": {},
   "outputs": [
    {
     "data": {
      "image/png": "[encoded data removed]",
      "text/plain": [
       "<Figure size 640x480 with 20 Axes>"
      ]
     },
     "metadata": {},
     "output_type": "display_data"
    }
   ],
   "source": [
    "import matplotlib.pyplot as plt\n",
    "\n",
    "\n",
    "histograms_energy=energy_by_tap.hist()\n",
    "histograms_energy\n",
    "plt.tight_layout()\n",
    "plt.show()"
   ]
  },
  {
   "cell_type": "markdown",
   "metadata": {},
   "source": [
    "These histograms do not give us a lot of hope on the created columns, since it seems like TAP 17 might have way more influence than the rest of columns. Maybe it is worth it to add another 17 columns with the time spent per TAP, we are going to prepare them in case we want to add them. "
   ]
  },
  {
   "cell_type": "code",
   "execution_count": null,
   "metadata": {},
   "outputs": [
    {
     "name": "stdout",
     "output_type": "stream",
     "text": [
      "       HEATID  TIME_TAP_1  TIME_TAP_2  TIME_TAP_3  TIME_TAP_4  TIME_TAP_5  \\\n",
      "0      5F0002         0.0         0.0         0.0         0.0         0.0   \n",
      "1      5F0003         0.0         0.0         0.0         0.0         0.0   \n",
      "2      5F0004         0.0         0.0         0.0         0.0         0.0   \n",
      "3      5F0005         0.0         0.0         0.0         0.0         0.0   \n",
      "4      5F0006         0.0         0.0         0.0         0.0         0.0   \n",
      "...       ...         ...         ...         ...         ...         ...   \n",
      "20808  8F5226         0.0         0.0         0.0         0.0         0.0   \n",
      "20809  8F5227         0.0         0.0         0.0         0.0         0.0   \n",
      "20810  8F5471         0.0         0.0         0.0         0.0         0.0   \n",
      "20811  8F5472         0.0         0.0         0.0         0.0         0.0   \n",
      "20812  8F5473         0.0         0.0         0.0         0.0         0.0   \n",
      "\n",
      "       TIME_TAP_6  TIME_TAP_7  TIME_TAP_8  TIME_TAP_9  TIME_TAP_10  \\\n",
      "0             0.0         0.0         0.0         0.0          0.0   \n",
      "1             0.0         0.0         0.0         0.0          0.0   \n",
      "2             0.0         0.0         0.0         0.0          0.0   \n",
      "3             0.0         0.0         0.0         0.0          0.0   \n",
      "4             0.0         0.0         0.0         0.0          0.0   \n",
      "...           ...         ...         ...         ...          ...   \n",
      "20808         0.0         0.0         0.0         0.0          0.0   \n",
      "20809         0.0         0.0         0.0         0.0          0.0   \n",
      "20810         0.0         0.0         0.0         0.0          0.0   \n",
      "20811         0.0         0.0         0.0         0.0          0.0   \n",
      "20812         0.0         0.0         0.0         0.0          0.0   \n",
      "\n",
      "       TIME_TAP_11  TIME_TAP_12  TIME_TAP_13  TIME_TAP_14  TIME_TAP_15  \\\n",
      "0         1.166667     0.166667     0.333333     0.166667    15.000000   \n",
      "1         2.333333     0.166667     0.166667     0.333333    30.500000   \n",
      "2         2.500000     0.333333     0.166667     0.500000    30.833333   \n",
      "3         2.166667     0.166667     0.166667     0.333333    32.850000   \n",
      "4         2.333333     0.333333     0.166667     0.166667    32.000000   \n",
      "...            ...          ...          ...          ...          ...   \n",
      "20808     0.000000     0.000000     0.000000     0.000000     8.033333   \n",
      "20809     0.000000     0.000000     0.000000     0.000000     7.850000   \n",
      "20810     0.000000     0.000000     3.833333     0.000000    13.716667   \n",
      "20811     0.000000     0.000000     1.166667     0.166667     9.783333   \n",
      "20812     0.000000     0.000000     1.166667     0.166667    33.183333   \n",
      "\n",
      "       TIME_TAP_16  TIME_TAP_17  TIME_TAP_18  \n",
      "0         0.000000     0.000000          0.0  \n",
      "1         0.000000     0.000000          0.0  \n",
      "2         0.000000     0.000000          0.0  \n",
      "3         0.000000     0.000000          0.0  \n",
      "4         0.000000     0.000000          0.0  \n",
      "...            ...          ...          ...  \n",
      "20808     0.650000    24.516667          0.0  \n",
      "20809     0.516667    26.650000          0.0  \n",
      "20810     0.150000    17.150000          0.0  \n",
      "20811     0.000000     0.000000          0.0  \n",
      "20812     0.000000     0.000000          0.0  \n",
      "\n",
      "[20813 rows x 19 columns]\n"
     ]
    }
   ],
   "source": [
    "\n",
    "time_by_tap = dfTc4.pivot_table(\n",
    "    index='HEATID', \n",
    "    columns='TAP', \n",
    "    values='DURATION_MINUTES', \n",
    "    aggfunc='sum', \n",
    "    fill_value=0\n",
    ")\n",
    "\n",
    "time_by_tap.columns = [f'TIME_TAP_{tap}' for tap in time_by_tap.columns]\n",
    "\n",
    "time_by_tap.reset_index(inplace=True)\n",
    "\n",
    "print(time_by_tap)"
   ]
  },
  {
   "cell_type": "code",
   "execution_count": 51,
   "metadata": {},
   "outputs": [
    {
     "data": {
      "image/png": "[encoded data removed]",
      "text/plain": [
       "<Figure size 640x480 with 20 Axes>"
      ]
     },
     "metadata": {},
     "output_type": "display_data"
    }
   ],
   "source": [
    "import matplotlib.pyplot as plt\n",
    "\n",
    "\n",
    "histograms_time=time_by_tap.hist()\n",
    "histograms_time\n",
    "plt.tight_layout()\n",
    "plt.show()"
   ]
  },
  {
   "cell_type": "markdown",
   "metadata": {},
   "source": [
    "We will try using them together and separatedly."
   ]
  },
  {
   "cell_type": "code",
   "execution_count": 52,
   "metadata": {},
   "outputs": [],
   "source": [
    "# this dataframe has energy for tap but not time for tap\n",
    "dfTrAddons2 = pd.merge(dfTrAddons, energy_by_tap, on='HEATID')\n"
   ]
  },
  {
   "cell_type": "code",
   "execution_count": 53,
   "metadata": {},
   "outputs": [],
   "source": [
    "# this dataframe has BOTH energy for tap and time for tap\n",
    "dfTrAddons3 = pd.merge(dfTrAddons2, time_by_tap, on='HEATID')\n",
    "\n"
   ]
  },
  {
   "cell_type": "code",
   "execution_count": 54,
   "metadata": {},
   "outputs": [],
   "source": [
    "# this dataframe does not have energy for tap but has time for tap\n",
    "dfTrAddons4 = pd.merge(dfTrAddons, time_by_tap, on='HEATID')\n",
    "\n"
   ]
  },
  {
   "cell_type": "markdown",
   "metadata": {},
   "source": [
    "For now we are just going to add the first two columns we intended in the first place. "
   ]
  },
  {
   "cell_type": "code",
   "execution_count": 55,
   "metadata": {},
   "outputs": [
    {
     "name": "stdout",
     "output_type": "stream",
     "text": [
      "       HEATID       MWh  index    TEMP  N_TF_CHANGES  TOTAL_DURATION_MINUTES\n",
      "0      5F0002  0.226436      0  1650.0             5               16.833333\n",
      "1      5F0003  0.807465      1  1653.0             6               33.500000\n",
      "2      5F0004  0.409636      2  1636.0             7               34.333333\n",
      "3      5F0005  0.693773      3  1641.0             6               35.683333\n",
      "4      5F0006  0.722197      4  1651.0             5               35.000000\n",
      "...       ...       ...    ...     ...           ...                     ...\n",
      "20193  8F5223  0.583803  20820  1648.0             7               35.966667\n",
      "20194  8F5226  0.518752  20821  1651.0             7               33.200000\n",
      "20195  8F5227  0.604358  20822  1648.0             7               35.016667\n",
      "20196  8F5471  0.209805  20824  1671.0             7               34.850000\n",
      "20197  8F5472  0.034364  20825  1661.0             4               11.116667\n",
      "\n",
      "[20198 rows x 6 columns]\n"
     ]
    }
   ],
   "source": [
    "dfMer2 = dfMer.merge(dfTrAddons, on='HEATID', how='inner')\n",
    "\n",
    "\n",
    "print(dfMer2)"
   ]
  },
  {
   "cell_type": "code",
   "execution_count": 56,
   "metadata": {},
   "outputs": [],
   "source": [
    "dfMer3=dfMer2.drop([\"index\"],axis=1)"
   ]
  },
  {
   "cell_type": "markdown",
   "metadata": {},
   "source": [
    "We look at the outliers in the added columns. "
   ]
  },
  {
   "cell_type": "code",
   "execution_count": 57,
   "metadata": {},
   "outputs": [
    {
     "name": "stdout",
     "output_type": "stream",
     "text": [
      "20198\n",
      "IQR= ( 4.0 , 12.0 )\n",
      "Number of outliers for N_TF_CHANGES: 320\n",
      "Max outlier: 34\n",
      "Min outlier: 1\n"
     ]
    }
   ],
   "source": [
    "outliersNumchanges=find_outliers_IQR(dfMer3,\"N_TF_CHANGES\")"
   ]
  },
  {
   "cell_type": "code",
   "execution_count": 58,
   "metadata": {},
   "outputs": [
    {
     "name": "stdout",
     "output_type": "stream",
     "text": [
      "20198\n",
      "IQR= ( 28.75000000000001 , 40.61666666666666 )\n",
      "Number of outliers for TOTAL_DURATION_MINUTES: 674\n",
      "Max outlier: 86.16666666666667\n",
      "Min outlier: 2.183333333333333\n"
     ]
    }
   ],
   "source": [
    "outliersTotalDuration=find_outliers_IQR(dfMer3,\"TOTAL_DURATION_MINUTES\")"
   ]
  },
  {
   "cell_type": "markdown",
   "metadata": {},
   "source": [
    "Since we do not have a lot of outliers, we will drop them. We might come back to them later. "
   ]
  },
  {
   "cell_type": "code",
   "execution_count": null,
   "metadata": {},
   "outputs": [
    {
     "name": "stdout",
     "output_type": "stream",
     "text": [
      "       HEATID       MWh    TEMP  N_TF_CHANGES  TOTAL_DURATION_MINUTES\n",
      "1      5F0003  0.807465  1653.0             6               33.500000\n",
      "2      5F0004  0.409636  1636.0             7               34.333333\n",
      "3      5F0005  0.693773  1641.0             6               35.683333\n",
      "4      5F0006  0.722197  1651.0             5               35.000000\n",
      "5      5F0007  0.742811  1649.0             7               33.333333\n",
      "...       ...       ...     ...           ...                     ...\n",
      "20192  8F5221  0.358560  1645.0             7               37.200000\n",
      "20193  8F5223  0.583803  1648.0             7               35.966667\n",
      "20194  8F5226  0.518752  1651.0             7               33.200000\n",
      "20195  8F5227  0.604358  1648.0             7               35.016667\n",
      "20196  8F5471  0.209805  1671.0             7               34.850000\n",
      "\n",
      "[19237 rows x 5 columns]\n"
     ]
    }
   ],
   "source": [
    "index_drop = list(set(outliersTotalDuration + outliersNumchanges)) \n",
    "\n",
    "df2ndTry=dfMer3.drop(index_drop) \n",
    "\n",
    "print(df2ndTry)"
   ]
  },
  {
   "cell_type": "code",
   "execution_count": 60,
   "metadata": {},
   "outputs": [],
   "source": [
    "scaler = MinMaxScaler()\n",
    "\n",
    "dfMod2ndTry=df2ndTry.drop(\"HEATID\",axis=1)\n"
   ]
  },
  {
   "cell_type": "code",
   "execution_count": 61,
   "metadata": {},
   "outputs": [
    {
     "name": "stdout",
     "output_type": "stream",
     "text": [
      "            MWh    TEMP  N_TF_CHANGES  TOTAL_DURATION_MINUTES\n",
      "1      0.807465  1653.0         0.250                0.401697\n",
      "2      0.409636  1636.0         0.375                0.472419\n",
      "3      0.693773  1641.0         0.250                0.586987\n",
      "4      0.722197  1651.0         0.125                0.528996\n",
      "5      0.742811  1649.0         0.375                0.387553\n",
      "...         ...     ...           ...                     ...\n",
      "20192  0.358560  1645.0         0.375                0.715700\n",
      "20193  0.583803  1648.0         0.375                0.611033\n",
      "20194  0.518752  1651.0         0.375                0.376238\n",
      "20195  0.604358  1648.0         0.375                0.530410\n",
      "20196  0.209805  1671.0         0.375                0.516266\n",
      "\n",
      "[19237 rows x 4 columns]\n"
     ]
    }
   ],
   "source": [
    "dfMod2ndTry[['N_TF_CHANGES', 'TOTAL_DURATION_MINUTES']] = scaler.fit_transform(dfMod2ndTry[['N_TF_CHANGES', 'TOTAL_DURATION_MINUTES']])\n",
    "\n",
    "print(dfMod2ndTry)"
   ]
  },
  {
   "cell_type": "code",
   "execution_count": 62,
   "metadata": {},
   "outputs": [
    {
     "data": {
      "text/html": [
       "<div>\n",
       "<style scoped>\n",
       "    .dataframe tbody tr th:only-of-type {\n",
       "        vertical-align: middle;\n",
       "    }\n",
       "\n",
       "    .dataframe tbody tr th {\n",
       "        vertical-align: top;\n",
       "    }\n",
       "\n",
       "    .dataframe thead th {\n",
       "        text-align: right;\n",
       "    }\n",
       "</style>\n",
       "<table border=\"1\" class=\"dataframe\">\n",
       "  <thead>\n",
       "    <tr style=\"text-align: right;\">\n",
       "      <th></th>\n",
       "      <th>MWh</th>\n",
       "      <th>TEMP</th>\n",
       "      <th>N_TF_CHANGES</th>\n",
       "      <th>TOTAL_DURATION_MINUTES</th>\n",
       "    </tr>\n",
       "  </thead>\n",
       "  <tbody>\n",
       "    <tr>\n",
       "      <th>MWh</th>\n",
       "      <td>1.000000</td>\n",
       "      <td>-0.175384</td>\n",
       "      <td>-0.175678</td>\n",
       "      <td>0.218828</td>\n",
       "    </tr>\n",
       "    <tr>\n",
       "      <th>TEMP</th>\n",
       "      <td>-0.175384</td>\n",
       "      <td>1.000000</td>\n",
       "      <td>-0.032977</td>\n",
       "      <td>-0.011938</td>\n",
       "    </tr>\n",
       "    <tr>\n",
       "      <th>N_TF_CHANGES</th>\n",
       "      <td>-0.175678</td>\n",
       "      <td>-0.032977</td>\n",
       "      <td>1.000000</td>\n",
       "      <td>0.001486</td>\n",
       "    </tr>\n",
       "    <tr>\n",
       "      <th>TOTAL_DURATION_MINUTES</th>\n",
       "      <td>0.218828</td>\n",
       "      <td>-0.011938</td>\n",
       "      <td>0.001486</td>\n",
       "      <td>1.000000</td>\n",
       "    </tr>\n",
       "  </tbody>\n",
       "</table>\n",
       "</div>"
      ],
      "text/plain": [
       "                             MWh      TEMP  N_TF_CHANGES  \\\n",
       "MWh                     1.000000 -0.175384     -0.175678   \n",
       "TEMP                   -0.175384  1.000000     -0.032977   \n",
       "N_TF_CHANGES           -0.175678 -0.032977      1.000000   \n",
       "TOTAL_DURATION_MINUTES  0.218828 -0.011938      0.001486   \n",
       "\n",
       "                        TOTAL_DURATION_MINUTES  \n",
       "MWh                                   0.218828  \n",
       "TEMP                                 -0.011938  \n",
       "N_TF_CHANGES                          0.001486  \n",
       "TOTAL_DURATION_MINUTES                1.000000  "
      ]
     },
     "execution_count": 62,
     "metadata": {},
     "output_type": "execute_result"
    }
   ],
   "source": [
    "dfMod2ndTry.corr()"
   ]
  },
  {
   "cell_type": "markdown",
   "metadata": {},
   "source": [
    "The columns we added do not seem to provide a lot of value. Let's test it."
   ]
  },
  {
   "cell_type": "code",
   "execution_count": 63,
   "metadata": {},
   "outputs": [],
   "source": [
    "X2try=dfMod2ndTry.drop(\"TEMP\",axis=1)\n",
    "y2try=dfMod2ndTry[\"TEMP\"]"
   ]
  },
  {
   "cell_type": "code",
   "execution_count": 64,
   "metadata": {},
   "outputs": [
    {
     "data": {
      "text/html": [
       "<style>#sk-container-id-2 {\n",
       "  /* Definition of color scheme common for light and dark mode */\n",
       "  --sklearn-color-text: black;\n",
       "  --sklearn-color-line: gray;\n",
       "  /* Definition of color scheme for unfitted estimators */\n",
       "  --sklearn-color-unfitted-level-0: #fff5e6;\n",
       "  --sklearn-color-unfitted-level-1: #f6e4d2;\n",
       "  --sklearn-color-unfitted-level-2: #ffe0b3;\n",
       "  --sklearn-color-unfitted-level-3: chocolate;\n",
       "  /* Definition of color scheme for fitted estimators */\n",
       "  --sklearn-color-fitted-level-0: #f0f8ff;\n",
       "  --sklearn-color-fitted-level-1: #d4ebff;\n",
       "  --sklearn-color-fitted-level-2: #b3dbfd;\n",
       "  --sklearn-color-fitted-level-3: cornflowerblue;\n",
       "\n",
       "  /* Specific color for light theme */\n",
       "  --sklearn-color-text-on-default-background: var(--sg-text-color, var(--theme-code-foreground, var(--jp-content-font-color1, black)));\n",
       "  --sklearn-color-background: var(--sg-background-color, var(--theme-background, var(--jp-layout-color0, white)));\n",
       "  --sklearn-color-border-box: var(--sg-text-color, var(--theme-code-foreground, var(--jp-content-font-color1, black)));\n",
       "  --sklearn-color-icon: #696969;\n",
       "\n",
       "  @media (prefers-color-scheme: dark) {\n",
       "    /* Redefinition of color scheme for dark theme */\n",
       "    --sklearn-color-text-on-default-background: var(--sg-text-color, var(--theme-code-foreground, var(--jp-content-font-color1, white)));\n",
       "    --sklearn-color-background: var(--sg-background-color, var(--theme-background, var(--jp-layout-color0, #111)));\n",
       "    --sklearn-color-border-box: var(--sg-text-color, var(--theme-code-foreground, var(--jp-content-font-color1, white)));\n",
       "    --sklearn-color-icon: #878787;\n",
       "  }\n",
       "}\n",
       "\n",
       "#sk-container-id-2 {\n",
       "  color: var(--sklearn-color-text);\n",
       "}\n",
       "\n",
       "#sk-container-id-2 pre {\n",
       "  padding: 0;\n",
       "}\n",
       "\n",
       "#sk-container-id-2 input.sk-hidden--visually {\n",
       "  border: 0;\n",
       "  clip: rect(1px 1px 1px 1px);\n",
       "  clip: rect(1px, 1px, 1px, 1px);\n",
       "  height: 1px;\n",
       "  margin: -1px;\n",
       "  overflow: hidden;\n",
       "  padding: 0;\n",
       "  position: absolute;\n",
       "  width: 1px;\n",
       "}\n",
       "\n",
       "#sk-container-id-2 div.sk-dashed-wrapped {\n",
       "  border: 1px dashed var(--sklearn-color-line);\n",
       "  margin: 0 0.4em 0.5em 0.4em;\n",
       "  box-sizing: border-box;\n",
       "  padding-bottom: 0.4em;\n",
       "  background-color: var(--sklearn-color-background);\n",
       "}\n",
       "\n",
       "#sk-container-id-2 div.sk-container {\n",
       "  /* jupyter's `normalize.less` sets `[hidden] { display: none; }`\n",
       "     but bootstrap.min.css set `[hidden] { display: none !important; }`\n",
       "     so we also need the `!important` here to be able to override the\n",
       "     default hidden behavior on the sphinx rendered scikit-learn.org.\n",
       "     See: https://github.com/scikit-learn/scikit-learn/issues/21755 */\n",
       "  display: inline-block !important;\n",
       "  position: relative;\n",
       "}\n",
       "\n",
       "#sk-container-id-2 div.sk-text-repr-fallback {\n",
       "  display: none;\n",
       "}\n",
       "\n",
       "div.sk-parallel-item,\n",
       "div.sk-serial,\n",
       "div.sk-item {\n",
       "  /* draw centered vertical line to link estimators */\n",
       "  background-image: linear-gradient(var(--sklearn-color-text-on-default-background), var(--sklearn-color-text-on-default-background));\n",
       "  background-size: 2px 100%;\n",
       "  background-repeat: no-repeat;\n",
       "  background-position: center center;\n",
       "}\n",
       "\n",
       "/* Parallel-specific style estimator block */\n",
       "\n",
       "#sk-container-id-2 div.sk-parallel-item::after {\n",
       "  content: \"\";\n",
       "  width: 100%;\n",
       "  border-bottom: 2px solid var(--sklearn-color-text-on-default-background);\n",
       "  flex-grow: 1;\n",
       "}\n",
       "\n",
       "#sk-container-id-2 div.sk-parallel {\n",
       "  display: flex;\n",
       "  align-items: stretch;\n",
       "  justify-content: center;\n",
       "  background-color: var(--sklearn-color-background);\n",
       "  position: relative;\n",
       "}\n",
       "\n",
       "#sk-container-id-2 div.sk-parallel-item {\n",
       "  display: flex;\n",
       "  flex-direction: column;\n",
       "}\n",
       "\n",
       "#sk-container-id-2 div.sk-parallel-item:first-child::after {\n",
       "  align-self: flex-end;\n",
       "  width: 50%;\n",
       "}\n",
       "\n",
       "#sk-container-id-2 div.sk-parallel-item:last-child::after {\n",
       "  align-self: flex-start;\n",
       "  width: 50%;\n",
       "}\n",
       "\n",
       "#sk-container-id-2 div.sk-parallel-item:only-child::after {\n",
       "  width: 0;\n",
       "}\n",
       "\n",
       "/* Serial-specific style estimator block */\n",
       "\n",
       "#sk-container-id-2 div.sk-serial {\n",
       "  display: flex;\n",
       "  flex-direction: column;\n",
       "  align-items: center;\n",
       "  background-color: var(--sklearn-color-background);\n",
       "  padding-right: 1em;\n",
       "  padding-left: 1em;\n",
       "}\n",
       "\n",
       "\n",
       "/* Toggleable style: style used for estimator/Pipeline/ColumnTransformer box that is\n",
       "clickable and can be expanded/collapsed.\n",
       "- Pipeline and ColumnTransformer use this feature and define the default style\n",
       "- Estimators will overwrite some part of the style using the `sk-estimator` class\n",
       "*/\n",
       "\n",
       "/* Pipeline and ColumnTransformer style (default) */\n",
       "\n",
       "#sk-container-id-2 div.sk-toggleable {\n",
       "  /* Default theme specific background. It is overwritten whether we have a\n",
       "  specific estimator or a Pipeline/ColumnTransformer */\n",
       "  background-color: var(--sklearn-color-background);\n",
       "}\n",
       "\n",
       "/* Toggleable label */\n",
       "#sk-container-id-2 label.sk-toggleable__label {\n",
       "  cursor: pointer;\n",
       "  display: block;\n",
       "  width: 100%;\n",
       "  margin-bottom: 0;\n",
       "  padding: 0.5em;\n",
       "  box-sizing: border-box;\n",
       "  text-align: center;\n",
       "}\n",
       "\n",
       "#sk-container-id-2 label.sk-toggleable__label-arrow:before {\n",
       "  /* Arrow on the left of the label */\n",
       "  content: \"▸\";\n",
       "  float: left;\n",
       "  margin-right: 0.25em;\n",
       "  color: var(--sklearn-color-icon);\n",
       "}\n",
       "\n",
       "#sk-container-id-2 label.sk-toggleable__label-arrow:hover:before {\n",
       "  color: var(--sklearn-color-text);\n",
       "}\n",
       "\n",
       "/* Toggleable content - dropdown */\n",
       "\n",
       "#sk-container-id-2 div.sk-toggleable__content {\n",
       "  max-height: 0;\n",
       "  max-width: 0;\n",
       "  overflow: hidden;\n",
       "  text-align: left;\n",
       "  /* unfitted */\n",
       "  background-color: var(--sklearn-color-unfitted-level-0);\n",
       "}\n",
       "\n",
       "#sk-container-id-2 div.sk-toggleable__content.fitted {\n",
       "  /* fitted */\n",
       "  background-color: var(--sklearn-color-fitted-level-0);\n",
       "}\n",
       "\n",
       "#sk-container-id-2 div.sk-toggleable__content pre {\n",
       "  margin: 0.2em;\n",
       "  border-radius: 0.25em;\n",
       "  color: var(--sklearn-color-text);\n",
       "  /* unfitted */\n",
       "  background-color: var(--sklearn-color-unfitted-level-0);\n",
       "}\n",
       "\n",
       "#sk-container-id-2 div.sk-toggleable__content.fitted pre {\n",
       "  /* unfitted */\n",
       "  background-color: var(--sklearn-color-fitted-level-0);\n",
       "}\n",
       "\n",
       "#sk-container-id-2 input.sk-toggleable__control:checked~div.sk-toggleable__content {\n",
       "  /* Expand drop-down */\n",
       "  max-height: 200px;\n",
       "  max-width: 100%;\n",
       "  overflow: auto;\n",
       "}\n",
       "\n",
       "#sk-container-id-2 input.sk-toggleable__control:checked~label.sk-toggleable__label-arrow:before {\n",
       "  content: \"▾\";\n",
       "}\n",
       "\n",
       "/* Pipeline/ColumnTransformer-specific style */\n",
       "\n",
       "#sk-container-id-2 div.sk-label input.sk-toggleable__control:checked~label.sk-toggleable__label {\n",
       "  color: var(--sklearn-color-text);\n",
       "  background-color: var(--sklearn-color-unfitted-level-2);\n",
       "}\n",
       "\n",
       "#sk-container-id-2 div.sk-label.fitted input.sk-toggleable__control:checked~label.sk-toggleable__label {\n",
       "  background-color: var(--sklearn-color-fitted-level-2);\n",
       "}\n",
       "\n",
       "/* Estimator-specific style */\n",
       "\n",
       "/* Colorize estimator box */\n",
       "#sk-container-id-2 div.sk-estimator input.sk-toggleable__control:checked~label.sk-toggleable__label {\n",
       "  /* unfitted */\n",
       "  background-color: var(--sklearn-color-unfitted-level-2);\n",
       "}\n",
       "\n",
       "#sk-container-id-2 div.sk-estimator.fitted input.sk-toggleable__control:checked~label.sk-toggleable__label {\n",
       "  /* fitted */\n",
       "  background-color: var(--sklearn-color-fitted-level-2);\n",
       "}\n",
       "\n",
       "#sk-container-id-2 div.sk-label label.sk-toggleable__label,\n",
       "#sk-container-id-2 div.sk-label label {\n",
       "  /* The background is the default theme color */\n",
       "  color: var(--sklearn-color-text-on-default-background);\n",
       "}\n",
       "\n",
       "/* On hover, darken the color of the background */\n",
       "#sk-container-id-2 div.sk-label:hover label.sk-toggleable__label {\n",
       "  color: var(--sklearn-color-text);\n",
       "  background-color: var(--sklearn-color-unfitted-level-2);\n",
       "}\n",
       "\n",
       "/* Label box, darken color on hover, fitted */\n",
       "#sk-container-id-2 div.sk-label.fitted:hover label.sk-toggleable__label.fitted {\n",
       "  color: var(--sklearn-color-text);\n",
       "  background-color: var(--sklearn-color-fitted-level-2);\n",
       "}\n",
       "\n",
       "/* Estimator label */\n",
       "\n",
       "#sk-container-id-2 div.sk-label label {\n",
       "  font-family: monospace;\n",
       "  font-weight: bold;\n",
       "  display: inline-block;\n",
       "  line-height: 1.2em;\n",
       "}\n",
       "\n",
       "#sk-container-id-2 div.sk-label-container {\n",
       "  text-align: center;\n",
       "}\n",
       "\n",
       "/* Estimator-specific */\n",
       "#sk-container-id-2 div.sk-estimator {\n",
       "  font-family: monospace;\n",
       "  border: 1px dotted var(--sklearn-color-border-box);\n",
       "  border-radius: 0.25em;\n",
       "  box-sizing: border-box;\n",
       "  margin-bottom: 0.5em;\n",
       "  /* unfitted */\n",
       "  background-color: var(--sklearn-color-unfitted-level-0);\n",
       "}\n",
       "\n",
       "#sk-container-id-2 div.sk-estimator.fitted {\n",
       "  /* fitted */\n",
       "  background-color: var(--sklearn-color-fitted-level-0);\n",
       "}\n",
       "\n",
       "/* on hover */\n",
       "#sk-container-id-2 div.sk-estimator:hover {\n",
       "  /* unfitted */\n",
       "  background-color: var(--sklearn-color-unfitted-level-2);\n",
       "}\n",
       "\n",
       "#sk-container-id-2 div.sk-estimator.fitted:hover {\n",
       "  /* fitted */\n",
       "  background-color: var(--sklearn-color-fitted-level-2);\n",
       "}\n",
       "\n",
       "/* Specification for estimator info (e.g. \"i\" and \"?\") */\n",
       "\n",
       "/* Common style for \"i\" and \"?\" */\n",
       "\n",
       ".sk-estimator-doc-link,\n",
       "a:link.sk-estimator-doc-link,\n",
       "a:visited.sk-estimator-doc-link {\n",
       "  float: right;\n",
       "  font-size: smaller;\n",
       "  line-height: 1em;\n",
       "  font-family: monospace;\n",
       "  background-color: var(--sklearn-color-background);\n",
       "  border-radius: 1em;\n",
       "  height: 1em;\n",
       "  width: 1em;\n",
       "  text-decoration: none !important;\n",
       "  margin-left: 1ex;\n",
       "  /* unfitted */\n",
       "  border: var(--sklearn-color-unfitted-level-1) 1pt solid;\n",
       "  color: var(--sklearn-color-unfitted-level-1);\n",
       "}\n",
       "\n",
       ".sk-estimator-doc-link.fitted,\n",
       "a:link.sk-estimator-doc-link.fitted,\n",
       "a:visited.sk-estimator-doc-link.fitted {\n",
       "  /* fitted */\n",
       "  border: var(--sklearn-color-fitted-level-1) 1pt solid;\n",
       "  color: var(--sklearn-color-fitted-level-1);\n",
       "}\n",
       "\n",
       "/* On hover */\n",
       "div.sk-estimator:hover .sk-estimator-doc-link:hover,\n",
       ".sk-estimator-doc-link:hover,\n",
       "div.sk-label-container:hover .sk-estimator-doc-link:hover,\n",
       ".sk-estimator-doc-link:hover {\n",
       "  /* unfitted */\n",
       "  background-color: var(--sklearn-color-unfitted-level-3);\n",
       "  color: var(--sklearn-color-background);\n",
       "  text-decoration: none;\n",
       "}\n",
       "\n",
       "div.sk-estimator.fitted:hover .sk-estimator-doc-link.fitted:hover,\n",
       ".sk-estimator-doc-link.fitted:hover,\n",
       "div.sk-label-container:hover .sk-estimator-doc-link.fitted:hover,\n",
       ".sk-estimator-doc-link.fitted:hover {\n",
       "  /* fitted */\n",
       "  background-color: var(--sklearn-color-fitted-level-3);\n",
       "  color: var(--sklearn-color-background);\n",
       "  text-decoration: none;\n",
       "}\n",
       "\n",
       "/* Span, style for the box shown on hovering the info icon */\n",
       ".sk-estimator-doc-link span {\n",
       "  display: none;\n",
       "  z-index: 9999;\n",
       "  position: relative;\n",
       "  font-weight: normal;\n",
       "  right: .2ex;\n",
       "  padding: .5ex;\n",
       "  margin: .5ex;\n",
       "  width: min-content;\n",
       "  min-width: 20ex;\n",
       "  max-width: 50ex;\n",
       "  color: var(--sklearn-color-text);\n",
       "  box-shadow: 2pt 2pt 4pt #999;\n",
       "  /* unfitted */\n",
       "  background: var(--sklearn-color-unfitted-level-0);\n",
       "  border: .5pt solid var(--sklearn-color-unfitted-level-3);\n",
       "}\n",
       "\n",
       ".sk-estimator-doc-link.fitted span {\n",
       "  /* fitted */\n",
       "  background: var(--sklearn-color-fitted-level-0);\n",
       "  border: var(--sklearn-color-fitted-level-3);\n",
       "}\n",
       "\n",
       ".sk-estimator-doc-link:hover span {\n",
       "  display: block;\n",
       "}\n",
       "\n",
       "/* \"?\"-specific style due to the `<a>` HTML tag */\n",
       "\n",
       "#sk-container-id-2 a.estimator_doc_link {\n",
       "  float: right;\n",
       "  font-size: 1rem;\n",
       "  line-height: 1em;\n",
       "  font-family: monospace;\n",
       "  background-color: var(--sklearn-color-background);\n",
       "  border-radius: 1rem;\n",
       "  height: 1rem;\n",
       "  width: 1rem;\n",
       "  text-decoration: none;\n",
       "  /* unfitted */\n",
       "  color: var(--sklearn-color-unfitted-level-1);\n",
       "  border: var(--sklearn-color-unfitted-level-1) 1pt solid;\n",
       "}\n",
       "\n",
       "#sk-container-id-2 a.estimator_doc_link.fitted {\n",
       "  /* fitted */\n",
       "  border: var(--sklearn-color-fitted-level-1) 1pt solid;\n",
       "  color: var(--sklearn-color-fitted-level-1);\n",
       "}\n",
       "\n",
       "/* On hover */\n",
       "#sk-container-id-2 a.estimator_doc_link:hover {\n",
       "  /* unfitted */\n",
       "  background-color: var(--sklearn-color-unfitted-level-3);\n",
       "  color: var(--sklearn-color-background);\n",
       "  text-decoration: none;\n",
       "}\n",
       "\n",
       "#sk-container-id-2 a.estimator_doc_link.fitted:hover {\n",
       "  /* fitted */\n",
       "  background-color: var(--sklearn-color-fitted-level-3);\n",
       "}\n",
       "</style><div id=\"sk-container-id-2\" class=\"sk-top-container\"><div class=\"sk-text-repr-fallback\"><pre>LinearRegression()</pre><b>In a Jupyter environment, please rerun this cell to show the HTML representation or trust the notebook. <br />On GitHub, the HTML representation is unable to render, please try loading this page with nbviewer.org.</b></div><div class=\"sk-container\" hidden><div class=\"sk-item\"><div class=\"sk-estimator fitted sk-toggleable\"><input class=\"sk-toggleable__control sk-hidden--visually\" id=\"sk-estimator-id-2\" type=\"checkbox\" checked><label for=\"sk-estimator-id-2\" class=\"sk-toggleable__label fitted sk-toggleable__label-arrow fitted\">&nbsp;&nbsp;LinearRegression<a class=\"sk-estimator-doc-link fitted\" rel=\"noreferrer\" target=\"_blank\" href=\"https://scikit-learn.org/1.5/modules/generated/sklearn.linear_model.LinearRegression.html\">?<span>Documentation for LinearRegression</span></a><span class=\"sk-estimator-doc-link fitted\">i<span>Fitted</span></span></label><div class=\"sk-toggleable__content fitted\"><pre>LinearRegression()</pre></div> </div></div></div></div>"
      ],
      "text/plain": [
       "LinearRegression()"
      ]
     },
     "execution_count": 64,
     "metadata": {},
     "output_type": "execute_result"
    }
   ],
   "source": [
    "from sklearn.model_selection import train_test_split\n",
    "X_train2try, X_test2try, y_train2try, y_test2try = train_test_split(X2try, y2try, test_size=0.2)\n",
    "from sklearn.linear_model import LinearRegression\n",
    "lReg2try = LinearRegression()\n",
    "lReg2try.fit(X_train2try, y_train2try)\n"
   ]
  },
  {
   "cell_type": "code",
   "execution_count": 65,
   "metadata": {},
   "outputs": [
    {
     "name": "stdout",
     "output_type": "stream",
     "text": [
      "RSS:\n",
      "565380.2820430205\n",
      "MSE: 146.93\n",
      "RMSE: 12.12\n",
      "Mean Absolute Error: 9.66\n",
      "Median Absolute Error: 8.07\n",
      "Explained Variance Score: 0.04\n",
      "R²: 0.04\n"
     ]
    }
   ],
   "source": [
    "y_PredLin2try= lReg2try.predict(X_test2try)\n",
    "my_performance_report(y_PredLin2try,y_test2try)"
   ]
  },
  {
   "cell_type": "markdown",
   "metadata": {},
   "source": [
    "It looks like our engineered columns are not effective at all. This might be caused by our lack of expertise in the field, or by a lack of relationship between energy usage and temperature."
   ]
  },
  {
   "cell_type": "markdown",
   "metadata": {},
   "source": [
    "We will try now adding the 17 energy per tap values. If that does not work, we might need to change the approach of the project."
   ]
  },
  {
   "cell_type": "code",
   "execution_count": 66,
   "metadata": {},
   "outputs": [],
   "source": [
    "dfTrAddons3rd=dfTrAddons3.drop(['N_TF_CHANGES', 'TOTAL_DURATION_MINUTES'],axis=1)"
   ]
  },
  {
   "cell_type": "code",
   "execution_count": 67,
   "metadata": {},
   "outputs": [],
   "source": [
    "df3rdTry = df2ndTry.merge(dfTrAddons3rd, on='HEATID', how='inner')"
   ]
  },
  {
   "cell_type": "code",
   "execution_count": 68,
   "metadata": {},
   "outputs": [
    {
     "name": "stdout",
     "output_type": "stream",
     "text": [
      "       HEATID       MWh    TEMP  N_TF_CHANGES  TOTAL_DURATION_MINUTES  \\\n",
      "0      5F0003  0.807465  1653.0             6               33.500000   \n",
      "1      5F0004  0.409636  1636.0             7               34.333333   \n",
      "2      5F0005  0.693773  1641.0             6               35.683333   \n",
      "3      5F0006  0.722197  1651.0             5               35.000000   \n",
      "4      5F0007  0.742811  1649.0             7               33.333333   \n",
      "...       ...       ...     ...           ...                     ...   \n",
      "19232  8F5221  0.358560  1645.0             7               37.200000   \n",
      "19233  8F5223  0.583803  1648.0             7               35.966667   \n",
      "19234  8F5226  0.518752  1651.0             7               33.200000   \n",
      "19235  8F5227  0.604358  1648.0             7               35.016667   \n",
      "19236  8F5471  0.209805  1671.0             7               34.850000   \n",
      "\n",
      "       MWh_TAP_1  MWh_TAP_2  MWh_TAP_3  MWh_TAP_4  MWh_TAP_5  ...  TIME_TAP_9  \\\n",
      "0            0.0        0.0        0.0        0.0        0.0  ...         0.0   \n",
      "1            0.0        0.0        0.0        0.0        0.0  ...         0.0   \n",
      "2            0.0        0.0        0.0        0.0        0.0  ...         0.0   \n",
      "3            0.0        0.0        0.0        0.0        0.0  ...         0.0   \n",
      "4            0.0        0.0        0.0        0.0        0.0  ...         0.0   \n",
      "...          ...        ...        ...        ...        ...  ...         ...   \n",
      "19232        0.0        0.0        0.0        0.0        0.0  ...         0.0   \n",
      "19233        0.0        0.0        0.0        0.0        0.0  ...         0.0   \n",
      "19234        0.0        0.0        0.0        0.0        0.0  ...         0.0   \n",
      "19235        0.0        0.0        0.0        0.0        0.0  ...         0.0   \n",
      "19236        0.0        0.0        0.0        0.0        0.0  ...         0.0   \n",
      "\n",
      "       TIME_TAP_10  TIME_TAP_11  TIME_TAP_12  TIME_TAP_13  TIME_TAP_14  \\\n",
      "0              0.0     2.333333     0.166667     0.166667     0.333333   \n",
      "1              0.0     2.500000     0.333333     0.166667     0.500000   \n",
      "2              0.0     2.166667     0.166667     0.166667     0.333333   \n",
      "3              0.0     2.333333     0.333333     0.166667     0.166667   \n",
      "4              0.0     2.166667     0.333333     0.166667     0.166667   \n",
      "...            ...          ...          ...          ...          ...   \n",
      "19232          0.0     0.000000     0.000000     0.000000     0.000000   \n",
      "19233          0.0     0.000000     0.000000     0.000000     0.000000   \n",
      "19234          0.0     0.000000     0.000000     0.000000     0.000000   \n",
      "19235          0.0     0.000000     0.000000     0.000000     0.000000   \n",
      "19236          0.0     0.000000     0.000000     3.833333     0.000000   \n",
      "\n",
      "       TIME_TAP_15  TIME_TAP_16  TIME_TAP_17  TIME_TAP_18  \n",
      "0        30.500000     0.000000     0.000000          0.0  \n",
      "1        30.833333     0.000000     0.000000          0.0  \n",
      "2        32.850000     0.000000     0.000000          0.0  \n",
      "3        32.000000     0.000000     0.000000          0.0  \n",
      "4        30.500000     0.000000     0.000000          0.0  \n",
      "...            ...          ...          ...          ...  \n",
      "19232    13.683333     0.516667    23.000000          0.0  \n",
      "19233     9.633333     0.500000    25.833333          0.0  \n",
      "19234     8.033333     0.650000    24.516667          0.0  \n",
      "19235     7.850000     0.516667    26.650000          0.0  \n",
      "19236    13.716667     0.150000    17.150000          0.0  \n",
      "\n",
      "[19237 rows x 41 columns]\n"
     ]
    }
   ],
   "source": [
    "print(df3rdTry)"
   ]
  },
  {
   "cell_type": "code",
   "execution_count": 69,
   "metadata": {},
   "outputs": [],
   "source": [
    "scaler3rd = MinMaxScaler()\n",
    "\n",
    "df3rdTryS=df3rdTry.copy()\n",
    "\n",
    "# Select only the numerical columns\n",
    "numerical_cols = df3rdTry.select_dtypes(include=['number']).columns\n",
    "\n",
    "# Apply MinMaxScaler to the numerical columns\n",
    "df3rdTryS[numerical_cols] = scaler3rd.fit_transform(df3rdTry[numerical_cols])\n",
    "\n",
    "#maybe scaling is not such a good idea here, because o.1 in tap 1 counts the same as 15 in tap 17"
   ]
  },
  {
   "cell_type": "code",
   "execution_count": 70,
   "metadata": {},
   "outputs": [
    {
     "name": "stdout",
     "output_type": "stream",
     "text": [
      "       HEATID       MWh      TEMP  N_TF_CHANGES  TOTAL_DURATION_MINUTES  \\\n",
      "0      5F0003  0.797225  0.552239         0.250                0.401697   \n",
      "1      5F0004  0.378237  0.298507         0.375                0.472419   \n",
      "2      5F0005  0.677486  0.373134         0.250                0.586987   \n",
      "3      5F0006  0.707422  0.522388         0.125                0.528996   \n",
      "4      5F0007  0.729132  0.492537         0.375                0.387553   \n",
      "...       ...       ...       ...           ...                     ...   \n",
      "19232  8F5221  0.324445  0.432836         0.375                0.715700   \n",
      "19233  8F5223  0.561667  0.477612         0.375                0.611033   \n",
      "19234  8F5226  0.493157  0.522388         0.375                0.376238   \n",
      "19235  8F5227  0.583315  0.477612         0.375                0.530410   \n",
      "19236  8F5471  0.167779  0.820896         0.375                0.516266   \n",
      "\n",
      "       MWh_TAP_1  MWh_TAP_2  MWh_TAP_3  MWh_TAP_4  MWh_TAP_5  ...  TIME_TAP_9  \\\n",
      "0            0.0        0.0        0.0        0.0        0.0  ...         0.0   \n",
      "1            0.0        0.0        0.0        0.0        0.0  ...         0.0   \n",
      "2            0.0        0.0        0.0        0.0        0.0  ...         0.0   \n",
      "3            0.0        0.0        0.0        0.0        0.0  ...         0.0   \n",
      "4            0.0        0.0        0.0        0.0        0.0  ...         0.0   \n",
      "...          ...        ...        ...        ...        ...  ...         ...   \n",
      "19232        0.0        0.0        0.0        0.0        0.0  ...         0.0   \n",
      "19233        0.0        0.0        0.0        0.0        0.0  ...         0.0   \n",
      "19234        0.0        0.0        0.0        0.0        0.0  ...         0.0   \n",
      "19235        0.0        0.0        0.0        0.0        0.0  ...         0.0   \n",
      "19236        0.0        0.0        0.0        0.0        0.0  ...         0.0   \n",
      "\n",
      "       TIME_TAP_10  TIME_TAP_11  TIME_TAP_12  TIME_TAP_13  TIME_TAP_14  \\\n",
      "0              0.0     0.063665     0.019608     0.005181     0.036364   \n",
      "1              0.0     0.068213     0.039216     0.005181     0.054545   \n",
      "2              0.0     0.059118     0.019608     0.005181     0.036364   \n",
      "3              0.0     0.063665     0.039216     0.005181     0.018182   \n",
      "4              0.0     0.059118     0.039216     0.005181     0.018182   \n",
      "...            ...          ...          ...          ...          ...   \n",
      "19232          0.0     0.000000     0.000000     0.000000     0.000000   \n",
      "19233          0.0     0.000000     0.000000     0.000000     0.000000   \n",
      "19234          0.0     0.000000     0.000000     0.000000     0.000000   \n",
      "19235          0.0     0.000000     0.000000     0.000000     0.000000   \n",
      "19236          0.0     0.000000     0.000000     0.119171     0.000000   \n",
      "\n",
      "       TIME_TAP_15  TIME_TAP_16  TIME_TAP_17  TIME_TAP_18  \n",
      "0         0.792208     0.000000     0.000000          0.0  \n",
      "1         0.800866     0.000000     0.000000          0.0  \n",
      "2         0.853247     0.000000     0.000000          0.0  \n",
      "3         0.831169     0.000000     0.000000          0.0  \n",
      "4         0.792208     0.000000     0.000000          0.0  \n",
      "...            ...          ...          ...          ...  \n",
      "19232     0.355411     0.014352     0.591767          0.0  \n",
      "19233     0.250216     0.013889     0.664666          0.0  \n",
      "19234     0.208658     0.018056     0.630789          0.0  \n",
      "19235     0.203896     0.014352     0.685678          0.0  \n",
      "19236     0.356277     0.004167     0.441252          0.0  \n",
      "\n",
      "[19237 rows x 41 columns]\n"
     ]
    }
   ],
   "source": [
    "print(df3rdTryS)"
   ]
  },
  {
   "cell_type": "code",
   "execution_count": 71,
   "metadata": {},
   "outputs": [
    {
     "data": {
      "text/html": [
       "<style>#sk-container-id-3 {\n",
       "  /* Definition of color scheme common for light and dark mode */\n",
       "  --sklearn-color-text: black;\n",
       "  --sklearn-color-line: gray;\n",
       "  /* Definition of color scheme for unfitted estimators */\n",
       "  --sklearn-color-unfitted-level-0: #fff5e6;\n",
       "  --sklearn-color-unfitted-level-1: #f6e4d2;\n",
       "  --sklearn-color-unfitted-level-2: #ffe0b3;\n",
       "  --sklearn-color-unfitted-level-3: chocolate;\n",
       "  /* Definition of color scheme for fitted estimators */\n",
       "  --sklearn-color-fitted-level-0: #f0f8ff;\n",
       "  --sklearn-color-fitted-level-1: #d4ebff;\n",
       "  --sklearn-color-fitted-level-2: #b3dbfd;\n",
       "  --sklearn-color-fitted-level-3: cornflowerblue;\n",
       "\n",
       "  /* Specific color for light theme */\n",
       "  --sklearn-color-text-on-default-background: var(--sg-text-color, var(--theme-code-foreground, var(--jp-content-font-color1, black)));\n",
       "  --sklearn-color-background: var(--sg-background-color, var(--theme-background, var(--jp-layout-color0, white)));\n",
       "  --sklearn-color-border-box: var(--sg-text-color, var(--theme-code-foreground, var(--jp-content-font-color1, black)));\n",
       "  --sklearn-color-icon: #696969;\n",
       "\n",
       "  @media (prefers-color-scheme: dark) {\n",
       "    /* Redefinition of color scheme for dark theme */\n",
       "    --sklearn-color-text-on-default-background: var(--sg-text-color, var(--theme-code-foreground, var(--jp-content-font-color1, white)));\n",
       "    --sklearn-color-background: var(--sg-background-color, var(--theme-background, var(--jp-layout-color0, #111)));\n",
       "    --sklearn-color-border-box: var(--sg-text-color, var(--theme-code-foreground, var(--jp-content-font-color1, white)));\n",
       "    --sklearn-color-icon: #878787;\n",
       "  }\n",
       "}\n",
       "\n",
       "#sk-container-id-3 {\n",
       "  color: var(--sklearn-color-text);\n",
       "}\n",
       "\n",
       "#sk-container-id-3 pre {\n",
       "  padding: 0;\n",
       "}\n",
       "\n",
       "#sk-container-id-3 input.sk-hidden--visually {\n",
       "  border: 0;\n",
       "  clip: rect(1px 1px 1px 1px);\n",
       "  clip: rect(1px, 1px, 1px, 1px);\n",
       "  height: 1px;\n",
       "  margin: -1px;\n",
       "  overflow: hidden;\n",
       "  padding: 0;\n",
       "  position: absolute;\n",
       "  width: 1px;\n",
       "}\n",
       "\n",
       "#sk-container-id-3 div.sk-dashed-wrapped {\n",
       "  border: 1px dashed var(--sklearn-color-line);\n",
       "  margin: 0 0.4em 0.5em 0.4em;\n",
       "  box-sizing: border-box;\n",
       "  padding-bottom: 0.4em;\n",
       "  background-color: var(--sklearn-color-background);\n",
       "}\n",
       "\n",
       "#sk-container-id-3 div.sk-container {\n",
       "  /* jupyter's `normalize.less` sets `[hidden] { display: none; }`\n",
       "     but bootstrap.min.css set `[hidden] { display: none !important; }`\n",
       "     so we also need the `!important` here to be able to override the\n",
       "     default hidden behavior on the sphinx rendered scikit-learn.org.\n",
       "     See: https://github.com/scikit-learn/scikit-learn/issues/21755 */\n",
       "  display: inline-block !important;\n",
       "  position: relative;\n",
       "}\n",
       "\n",
       "#sk-container-id-3 div.sk-text-repr-fallback {\n",
       "  display: none;\n",
       "}\n",
       "\n",
       "div.sk-parallel-item,\n",
       "div.sk-serial,\n",
       "div.sk-item {\n",
       "  /* draw centered vertical line to link estimators */\n",
       "  background-image: linear-gradient(var(--sklearn-color-text-on-default-background), var(--sklearn-color-text-on-default-background));\n",
       "  background-size: 2px 100%;\n",
       "  background-repeat: no-repeat;\n",
       "  background-position: center center;\n",
       "}\n",
       "\n",
       "/* Parallel-specific style estimator block */\n",
       "\n",
       "#sk-container-id-3 div.sk-parallel-item::after {\n",
       "  content: \"\";\n",
       "  width: 100%;\n",
       "  border-bottom: 2px solid var(--sklearn-color-text-on-default-background);\n",
       "  flex-grow: 1;\n",
       "}\n",
       "\n",
       "#sk-container-id-3 div.sk-parallel {\n",
       "  display: flex;\n",
       "  align-items: stretch;\n",
       "  justify-content: center;\n",
       "  background-color: var(--sklearn-color-background);\n",
       "  position: relative;\n",
       "}\n",
       "\n",
       "#sk-container-id-3 div.sk-parallel-item {\n",
       "  display: flex;\n",
       "  flex-direction: column;\n",
       "}\n",
       "\n",
       "#sk-container-id-3 div.sk-parallel-item:first-child::after {\n",
       "  align-self: flex-end;\n",
       "  width: 50%;\n",
       "}\n",
       "\n",
       "#sk-container-id-3 div.sk-parallel-item:last-child::after {\n",
       "  align-self: flex-start;\n",
       "  width: 50%;\n",
       "}\n",
       "\n",
       "#sk-container-id-3 div.sk-parallel-item:only-child::after {\n",
       "  width: 0;\n",
       "}\n",
       "\n",
       "/* Serial-specific style estimator block */\n",
       "\n",
       "#sk-container-id-3 div.sk-serial {\n",
       "  display: flex;\n",
       "  flex-direction: column;\n",
       "  align-items: center;\n",
       "  background-color: var(--sklearn-color-background);\n",
       "  padding-right: 1em;\n",
       "  padding-left: 1em;\n",
       "}\n",
       "\n",
       "\n",
       "/* Toggleable style: style used for estimator/Pipeline/ColumnTransformer box that is\n",
       "clickable and can be expanded/collapsed.\n",
       "- Pipeline and ColumnTransformer use this feature and define the default style\n",
       "- Estimators will overwrite some part of the style using the `sk-estimator` class\n",
       "*/\n",
       "\n",
       "/* Pipeline and ColumnTransformer style (default) */\n",
       "\n",
       "#sk-container-id-3 div.sk-toggleable {\n",
       "  /* Default theme specific background. It is overwritten whether we have a\n",
       "  specific estimator or a Pipeline/ColumnTransformer */\n",
       "  background-color: var(--sklearn-color-background);\n",
       "}\n",
       "\n",
       "/* Toggleable label */\n",
       "#sk-container-id-3 label.sk-toggleable__label {\n",
       "  cursor: pointer;\n",
       "  display: block;\n",
       "  width: 100%;\n",
       "  margin-bottom: 0;\n",
       "  padding: 0.5em;\n",
       "  box-sizing: border-box;\n",
       "  text-align: center;\n",
       "}\n",
       "\n",
       "#sk-container-id-3 label.sk-toggleable__label-arrow:before {\n",
       "  /* Arrow on the left of the label */\n",
       "  content: \"▸\";\n",
       "  float: left;\n",
       "  margin-right: 0.25em;\n",
       "  color: var(--sklearn-color-icon);\n",
       "}\n",
       "\n",
       "#sk-container-id-3 label.sk-toggleable__label-arrow:hover:before {\n",
       "  color: var(--sklearn-color-text);\n",
       "}\n",
       "\n",
       "/* Toggleable content - dropdown */\n",
       "\n",
       "#sk-container-id-3 div.sk-toggleable__content {\n",
       "  max-height: 0;\n",
       "  max-width: 0;\n",
       "  overflow: hidden;\n",
       "  text-align: left;\n",
       "  /* unfitted */\n",
       "  background-color: var(--sklearn-color-unfitted-level-0);\n",
       "}\n",
       "\n",
       "#sk-container-id-3 div.sk-toggleable__content.fitted {\n",
       "  /* fitted */\n",
       "  background-color: var(--sklearn-color-fitted-level-0);\n",
       "}\n",
       "\n",
       "#sk-container-id-3 div.sk-toggleable__content pre {\n",
       "  margin: 0.2em;\n",
       "  border-radius: 0.25em;\n",
       "  color: var(--sklearn-color-text);\n",
       "  /* unfitted */\n",
       "  background-color: var(--sklearn-color-unfitted-level-0);\n",
       "}\n",
       "\n",
       "#sk-container-id-3 div.sk-toggleable__content.fitted pre {\n",
       "  /* unfitted */\n",
       "  background-color: var(--sklearn-color-fitted-level-0);\n",
       "}\n",
       "\n",
       "#sk-container-id-3 input.sk-toggleable__control:checked~div.sk-toggleable__content {\n",
       "  /* Expand drop-down */\n",
       "  max-height: 200px;\n",
       "  max-width: 100%;\n",
       "  overflow: auto;\n",
       "}\n",
       "\n",
       "#sk-container-id-3 input.sk-toggleable__control:checked~label.sk-toggleable__label-arrow:before {\n",
       "  content: \"▾\";\n",
       "}\n",
       "\n",
       "/* Pipeline/ColumnTransformer-specific style */\n",
       "\n",
       "#sk-container-id-3 div.sk-label input.sk-toggleable__control:checked~label.sk-toggleable__label {\n",
       "  color: var(--sklearn-color-text);\n",
       "  background-color: var(--sklearn-color-unfitted-level-2);\n",
       "}\n",
       "\n",
       "#sk-container-id-3 div.sk-label.fitted input.sk-toggleable__control:checked~label.sk-toggleable__label {\n",
       "  background-color: var(--sklearn-color-fitted-level-2);\n",
       "}\n",
       "\n",
       "/* Estimator-specific style */\n",
       "\n",
       "/* Colorize estimator box */\n",
       "#sk-container-id-3 div.sk-estimator input.sk-toggleable__control:checked~label.sk-toggleable__label {\n",
       "  /* unfitted */\n",
       "  background-color: var(--sklearn-color-unfitted-level-2);\n",
       "}\n",
       "\n",
       "#sk-container-id-3 div.sk-estimator.fitted input.sk-toggleable__control:checked~label.sk-toggleable__label {\n",
       "  /* fitted */\n",
       "  background-color: var(--sklearn-color-fitted-level-2);\n",
       "}\n",
       "\n",
       "#sk-container-id-3 div.sk-label label.sk-toggleable__label,\n",
       "#sk-container-id-3 div.sk-label label {\n",
       "  /* The background is the default theme color */\n",
       "  color: var(--sklearn-color-text-on-default-background);\n",
       "}\n",
       "\n",
       "/* On hover, darken the color of the background */\n",
       "#sk-container-id-3 div.sk-label:hover label.sk-toggleable__label {\n",
       "  color: var(--sklearn-color-text);\n",
       "  background-color: var(--sklearn-color-unfitted-level-2);\n",
       "}\n",
       "\n",
       "/* Label box, darken color on hover, fitted */\n",
       "#sk-container-id-3 div.sk-label.fitted:hover label.sk-toggleable__label.fitted {\n",
       "  color: var(--sklearn-color-text);\n",
       "  background-color: var(--sklearn-color-fitted-level-2);\n",
       "}\n",
       "\n",
       "/* Estimator label */\n",
       "\n",
       "#sk-container-id-3 div.sk-label label {\n",
       "  font-family: monospace;\n",
       "  font-weight: bold;\n",
       "  display: inline-block;\n",
       "  line-height: 1.2em;\n",
       "}\n",
       "\n",
       "#sk-container-id-3 div.sk-label-container {\n",
       "  text-align: center;\n",
       "}\n",
       "\n",
       "/* Estimator-specific */\n",
       "#sk-container-id-3 div.sk-estimator {\n",
       "  font-family: monospace;\n",
       "  border: 1px dotted var(--sklearn-color-border-box);\n",
       "  border-radius: 0.25em;\n",
       "  box-sizing: border-box;\n",
       "  margin-bottom: 0.5em;\n",
       "  /* unfitted */\n",
       "  background-color: var(--sklearn-color-unfitted-level-0);\n",
       "}\n",
       "\n",
       "#sk-container-id-3 div.sk-estimator.fitted {\n",
       "  /* fitted */\n",
       "  background-color: var(--sklearn-color-fitted-level-0);\n",
       "}\n",
       "\n",
       "/* on hover */\n",
       "#sk-container-id-3 div.sk-estimator:hover {\n",
       "  /* unfitted */\n",
       "  background-color: var(--sklearn-color-unfitted-level-2);\n",
       "}\n",
       "\n",
       "#sk-container-id-3 div.sk-estimator.fitted:hover {\n",
       "  /* fitted */\n",
       "  background-color: var(--sklearn-color-fitted-level-2);\n",
       "}\n",
       "\n",
       "/* Specification for estimator info (e.g. \"i\" and \"?\") */\n",
       "\n",
       "/* Common style for \"i\" and \"?\" */\n",
       "\n",
       ".sk-estimator-doc-link,\n",
       "a:link.sk-estimator-doc-link,\n",
       "a:visited.sk-estimator-doc-link {\n",
       "  float: right;\n",
       "  font-size: smaller;\n",
       "  line-height: 1em;\n",
       "  font-family: monospace;\n",
       "  background-color: var(--sklearn-color-background);\n",
       "  border-radius: 1em;\n",
       "  height: 1em;\n",
       "  width: 1em;\n",
       "  text-decoration: none !important;\n",
       "  margin-left: 1ex;\n",
       "  /* unfitted */\n",
       "  border: var(--sklearn-color-unfitted-level-1) 1pt solid;\n",
       "  color: var(--sklearn-color-unfitted-level-1);\n",
       "}\n",
       "\n",
       ".sk-estimator-doc-link.fitted,\n",
       "a:link.sk-estimator-doc-link.fitted,\n",
       "a:visited.sk-estimator-doc-link.fitted {\n",
       "  /* fitted */\n",
       "  border: var(--sklearn-color-fitted-level-1) 1pt solid;\n",
       "  color: var(--sklearn-color-fitted-level-1);\n",
       "}\n",
       "\n",
       "/* On hover */\n",
       "div.sk-estimator:hover .sk-estimator-doc-link:hover,\n",
       ".sk-estimator-doc-link:hover,\n",
       "div.sk-label-container:hover .sk-estimator-doc-link:hover,\n",
       ".sk-estimator-doc-link:hover {\n",
       "  /* unfitted */\n",
       "  background-color: var(--sklearn-color-unfitted-level-3);\n",
       "  color: var(--sklearn-color-background);\n",
       "  text-decoration: none;\n",
       "}\n",
       "\n",
       "div.sk-estimator.fitted:hover .sk-estimator-doc-link.fitted:hover,\n",
       ".sk-estimator-doc-link.fitted:hover,\n",
       "div.sk-label-container:hover .sk-estimator-doc-link.fitted:hover,\n",
       ".sk-estimator-doc-link.fitted:hover {\n",
       "  /* fitted */\n",
       "  background-color: var(--sklearn-color-fitted-level-3);\n",
       "  color: var(--sklearn-color-background);\n",
       "  text-decoration: none;\n",
       "}\n",
       "\n",
       "/* Span, style for the box shown on hovering the info icon */\n",
       ".sk-estimator-doc-link span {\n",
       "  display: none;\n",
       "  z-index: 9999;\n",
       "  position: relative;\n",
       "  font-weight: normal;\n",
       "  right: .2ex;\n",
       "  padding: .5ex;\n",
       "  margin: .5ex;\n",
       "  width: min-content;\n",
       "  min-width: 20ex;\n",
       "  max-width: 50ex;\n",
       "  color: var(--sklearn-color-text);\n",
       "  box-shadow: 2pt 2pt 4pt #999;\n",
       "  /* unfitted */\n",
       "  background: var(--sklearn-color-unfitted-level-0);\n",
       "  border: .5pt solid var(--sklearn-color-unfitted-level-3);\n",
       "}\n",
       "\n",
       ".sk-estimator-doc-link.fitted span {\n",
       "  /* fitted */\n",
       "  background: var(--sklearn-color-fitted-level-0);\n",
       "  border: var(--sklearn-color-fitted-level-3);\n",
       "}\n",
       "\n",
       ".sk-estimator-doc-link:hover span {\n",
       "  display: block;\n",
       "}\n",
       "\n",
       "/* \"?\"-specific style due to the `<a>` HTML tag */\n",
       "\n",
       "#sk-container-id-3 a.estimator_doc_link {\n",
       "  float: right;\n",
       "  font-size: 1rem;\n",
       "  line-height: 1em;\n",
       "  font-family: monospace;\n",
       "  background-color: var(--sklearn-color-background);\n",
       "  border-radius: 1rem;\n",
       "  height: 1rem;\n",
       "  width: 1rem;\n",
       "  text-decoration: none;\n",
       "  /* unfitted */\n",
       "  color: var(--sklearn-color-unfitted-level-1);\n",
       "  border: var(--sklearn-color-unfitted-level-1) 1pt solid;\n",
       "}\n",
       "\n",
       "#sk-container-id-3 a.estimator_doc_link.fitted {\n",
       "  /* fitted */\n",
       "  border: var(--sklearn-color-fitted-level-1) 1pt solid;\n",
       "  color: var(--sklearn-color-fitted-level-1);\n",
       "}\n",
       "\n",
       "/* On hover */\n",
       "#sk-container-id-3 a.estimator_doc_link:hover {\n",
       "  /* unfitted */\n",
       "  background-color: var(--sklearn-color-unfitted-level-3);\n",
       "  color: var(--sklearn-color-background);\n",
       "  text-decoration: none;\n",
       "}\n",
       "\n",
       "#sk-container-id-3 a.estimator_doc_link.fitted:hover {\n",
       "  /* fitted */\n",
       "  background-color: var(--sklearn-color-fitted-level-3);\n",
       "}\n",
       "</style><div id=\"sk-container-id-3\" class=\"sk-top-container\"><div class=\"sk-text-repr-fallback\"><pre>LinearRegression()</pre><b>In a Jupyter environment, please rerun this cell to show the HTML representation or trust the notebook. <br />On GitHub, the HTML representation is unable to render, please try loading this page with nbviewer.org.</b></div><div class=\"sk-container\" hidden><div class=\"sk-item\"><div class=\"sk-estimator fitted sk-toggleable\"><input class=\"sk-toggleable__control sk-hidden--visually\" id=\"sk-estimator-id-3\" type=\"checkbox\" checked><label for=\"sk-estimator-id-3\" class=\"sk-toggleable__label fitted sk-toggleable__label-arrow fitted\">&nbsp;&nbsp;LinearRegression<a class=\"sk-estimator-doc-link fitted\" rel=\"noreferrer\" target=\"_blank\" href=\"https://scikit-learn.org/1.5/modules/generated/sklearn.linear_model.LinearRegression.html\">?<span>Documentation for LinearRegression</span></a><span class=\"sk-estimator-doc-link fitted\">i<span>Fitted</span></span></label><div class=\"sk-toggleable__content fitted\"><pre>LinearRegression()</pre></div> </div></div></div></div>"
      ],
      "text/plain": [
       "LinearRegression()"
      ]
     },
     "execution_count": 71,
     "metadata": {},
     "output_type": "execute_result"
    }
   ],
   "source": [
    "X3try=dfMod2ndTry.drop(\"TEMP\",axis=1)\n",
    "y3try=dfMod2ndTry[\"TEMP\"]\n",
    "\n",
    "from sklearn.model_selection import train_test_split\n",
    "X_train3try, X_test3try, y_train3try, y_test3try = train_test_split(X3try, y3try, test_size=0.2)\n",
    "from sklearn.linear_model import LinearRegression\n",
    "lReg3try = LinearRegression()\n",
    "lReg3try.fit(X_train3try, y_train3try)"
   ]
  },
  {
   "cell_type": "code",
   "execution_count": 72,
   "metadata": {},
   "outputs": [
    {
     "name": "stdout",
     "output_type": "stream",
     "text": [
      "RSS:\n",
      "571284.4409016593\n",
      "MSE: 148.46\n",
      "RMSE: 12.18\n",
      "Mean Absolute Error: 9.75\n",
      "Median Absolute Error: 8.23\n",
      "Explained Variance Score: 0.04\n",
      "R²: 0.04\n"
     ]
    }
   ],
   "source": [
    "y_PredLin3try= lReg3try.predict(X_test3try)\n",
    "my_performance_report(y_PredLin3try,y_test3try)"
   ]
  },
  {
   "cell_type": "markdown",
   "metadata": {},
   "source": [
    "Adding our columns does not provide any benefit, it seems."
   ]
  },
  {
   "cell_type": "markdown",
   "metadata": {},
   "source": [
    "Let's see if adding material composition would report us any results"
   ]
  },
  {
   "cell_type": "code",
   "execution_count": 73,
   "metadata": {},
   "outputs": [],
   "source": [
    "df_chem=pd.read_csv('lf_initial_chemical_measurements.csv', sep=',')"
   ]
  },
  {
   "cell_type": "code",
   "execution_count": 74,
   "metadata": {},
   "outputs": [
    {
     "name": "stdout",
     "output_type": "stream",
     "text": [
      "       HEATID  POSITIONROW             DATETIME    VALC   VALSI   VALMN  \\\n",
      "0      6F0020            1  2016-01-01 19:59:00  0,2312  0,2449  1,2652   \n",
      "1      6F0021            1  2016-01-01 20:59:00  0,2507  0,2687  1,2916   \n",
      "2      6F0022            1  2016-01-01 21:53:00   0,234  0,2276  1,1963   \n",
      "3      6F0023            1  2016-01-01 23:27:00  0,3652  0,2154  0,7934   \n",
      "4      6F0024            1  2016-01-02 00:32:00   0,374  0,1932  0,7948   \n",
      "...       ...          ...                  ...     ...     ...     ...   \n",
      "20822  5F8438            1  2015-12-31 20:09:00  0,1713  0,1593  0,4194   \n",
      "20823  5F8439            1  2015-12-31 20:38:00  0,1812  0,1928  0,3834   \n",
      "20824  5F8440            1  2015-12-31 21:29:00  0,1752  0,2399  0,3864   \n",
      "20825  5F8441            1  2015-12-31 22:20:00  0,1736   0,218  0,3644   \n",
      "20826  5F8442            1  2015-12-31 23:04:00  0,1828   0,232  0,4115   \n",
      "\n",
      "         VALP    VALS   VALCU   VALCR   VALMO   VALNI  \n",
      "0      0,0076  0,0147  0,2072  0,0726  0,0194  0,1323  \n",
      "1      0,0055  0,0204  0,2045  0,0747  0,0206  0,1326  \n",
      "2      0,0056  0,0193  0,1898  0,0695  0,0203  0,1218  \n",
      "3      0,0078   0,025  0,2154  0,0956  0,0342  0,2051  \n",
      "4      0,0071  0,0202  0,2191  0,1029  0,0267  0,1534  \n",
      "...       ...     ...     ...     ...     ...     ...  \n",
      "20822  0,0064  0,0246  0,1921  0,1189  0,0382  0,1069  \n",
      "20823  0,0065  0,0196  0,1859  0,0853  0,0253  0,1042  \n",
      "20824  0,0065  0,0129  0,1605  0,0773  0,0117  0,0914  \n",
      "20825  0,0061  0,0176  0,1827  0,0772  0,0159  0,1262  \n",
      "20826  0,0064  0,0147  0,1916  0,0772  0,0138  0,1047  \n",
      "\n",
      "[20827 rows x 12 columns]\n"
     ]
    }
   ],
   "source": [
    "print(df_chem)"
   ]
  },
  {
   "cell_type": "code",
   "execution_count": 75,
   "metadata": {},
   "outputs": [
    {
     "name": "stdout",
     "output_type": "stream",
     "text": [
      "HEATID         0\n",
      "POSITIONROW    0\n",
      "DATETIME       0\n",
      "VALC           0\n",
      "VALSI          0\n",
      "VALMN          0\n",
      "VALP           0\n",
      "VALS           0\n",
      "VALCU          0\n",
      "VALCR          0\n",
      "VALMO          0\n",
      "VALNI          0\n",
      "dtype: int64\n"
     ]
    }
   ],
   "source": [
    "df_chem.drop_duplicates(inplace=True)\n",
    "print(df_chem.isnull().sum())"
   ]
  },
  {
   "cell_type": "code",
   "execution_count": 76,
   "metadata": {},
   "outputs": [
    {
     "data": {
      "image/png": "[encoded data removed]",
      "text/plain": [
       "<Figure size 640x480 with 9 Axes>"
      ]
     },
     "metadata": {},
     "output_type": "display_data"
    }
   ],
   "source": [
    "df_chem2 = df_chem.drop(columns=['DATETIME', 'POSITIONROW'])\n",
    "\n",
    "df_chem3 = df_chem2.apply(lambda col: col.str.replace(\",\", \".\").astype(float) \n",
    "                          if col.name != \"HEATID\" and col.dtypes == \"object\" else col)\n",
    "histograms=df_chem3.hist()\n",
    "histograms\n",
    "plt.tight_layout()\n",
    "plt.show()"
   ]
  },
  {
   "cell_type": "code",
   "execution_count": 77,
   "metadata": {},
   "outputs": [
    {
     "data": {
      "text/html": [
       "<div>\n",
       "<style scoped>\n",
       "    .dataframe tbody tr th:only-of-type {\n",
       "        vertical-align: middle;\n",
       "    }\n",
       "\n",
       "    .dataframe tbody tr th {\n",
       "        vertical-align: top;\n",
       "    }\n",
       "\n",
       "    .dataframe thead th {\n",
       "        text-align: right;\n",
       "    }\n",
       "</style>\n",
       "<table border=\"1\" class=\"dataframe\">\n",
       "  <thead>\n",
       "    <tr style=\"text-align: right;\">\n",
       "      <th></th>\n",
       "      <th>VALC</th>\n",
       "      <th>VALSI</th>\n",
       "      <th>VALMN</th>\n",
       "      <th>VALP</th>\n",
       "      <th>VALS</th>\n",
       "      <th>VALCU</th>\n",
       "      <th>VALCR</th>\n",
       "      <th>VALMO</th>\n",
       "      <th>VALNI</th>\n",
       "      <th>TEMP</th>\n",
       "    </tr>\n",
       "  </thead>\n",
       "  <tbody>\n",
       "    <tr>\n",
       "      <th>VALC</th>\n",
       "      <td>1.000000</td>\n",
       "      <td>-0.037305</td>\n",
       "      <td>0.346248</td>\n",
       "      <td>0.051569</td>\n",
       "      <td>0.180886</td>\n",
       "      <td>0.025428</td>\n",
       "      <td>-0.141316</td>\n",
       "      <td>-0.066047</td>\n",
       "      <td>0.006276</td>\n",
       "      <td>0.020134</td>\n",
       "    </tr>\n",
       "    <tr>\n",
       "      <th>VALSI</th>\n",
       "      <td>-0.037305</td>\n",
       "      <td>1.000000</td>\n",
       "      <td>0.561971</td>\n",
       "      <td>0.019893</td>\n",
       "      <td>-0.097227</td>\n",
       "      <td>0.015756</td>\n",
       "      <td>0.001292</td>\n",
       "      <td>0.049651</td>\n",
       "      <td>0.038146</td>\n",
       "      <td>0.039450</td>\n",
       "    </tr>\n",
       "    <tr>\n",
       "      <th>VALMN</th>\n",
       "      <td>0.346248</td>\n",
       "      <td>0.561971</td>\n",
       "      <td>1.000000</td>\n",
       "      <td>0.035603</td>\n",
       "      <td>0.067150</td>\n",
       "      <td>0.048465</td>\n",
       "      <td>-0.241042</td>\n",
       "      <td>-0.019392</td>\n",
       "      <td>0.054349</td>\n",
       "      <td>0.061784</td>\n",
       "    </tr>\n",
       "    <tr>\n",
       "      <th>VALP</th>\n",
       "      <td>0.051569</td>\n",
       "      <td>0.019893</td>\n",
       "      <td>0.035603</td>\n",
       "      <td>1.000000</td>\n",
       "      <td>-0.006350</td>\n",
       "      <td>0.027072</td>\n",
       "      <td>-0.010391</td>\n",
       "      <td>0.609139</td>\n",
       "      <td>-0.059904</td>\n",
       "      <td>0.045137</td>\n",
       "    </tr>\n",
       "    <tr>\n",
       "      <th>VALS</th>\n",
       "      <td>0.180886</td>\n",
       "      <td>-0.097227</td>\n",
       "      <td>0.067150</td>\n",
       "      <td>-0.006350</td>\n",
       "      <td>1.000000</td>\n",
       "      <td>0.178406</td>\n",
       "      <td>-0.218369</td>\n",
       "      <td>-0.072034</td>\n",
       "      <td>0.106926</td>\n",
       "      <td>-0.022840</td>\n",
       "    </tr>\n",
       "    <tr>\n",
       "      <th>VALCU</th>\n",
       "      <td>0.025428</td>\n",
       "      <td>0.015756</td>\n",
       "      <td>0.048465</td>\n",
       "      <td>0.027072</td>\n",
       "      <td>0.178406</td>\n",
       "      <td>1.000000</td>\n",
       "      <td>-0.143216</td>\n",
       "      <td>-0.068121</td>\n",
       "      <td>0.313165</td>\n",
       "      <td>-0.076994</td>\n",
       "    </tr>\n",
       "    <tr>\n",
       "      <th>VALCR</th>\n",
       "      <td>-0.141316</td>\n",
       "      <td>0.001292</td>\n",
       "      <td>-0.241042</td>\n",
       "      <td>-0.010391</td>\n",
       "      <td>-0.218369</td>\n",
       "      <td>-0.143216</td>\n",
       "      <td>1.000000</td>\n",
       "      <td>0.282774</td>\n",
       "      <td>-0.015109</td>\n",
       "      <td>0.071333</td>\n",
       "    </tr>\n",
       "    <tr>\n",
       "      <th>VALMO</th>\n",
       "      <td>-0.066047</td>\n",
       "      <td>0.049651</td>\n",
       "      <td>-0.019392</td>\n",
       "      <td>0.609139</td>\n",
       "      <td>-0.072034</td>\n",
       "      <td>-0.068121</td>\n",
       "      <td>0.282774</td>\n",
       "      <td>1.000000</td>\n",
       "      <td>-0.010773</td>\n",
       "      <td>0.065897</td>\n",
       "    </tr>\n",
       "    <tr>\n",
       "      <th>VALNI</th>\n",
       "      <td>0.006276</td>\n",
       "      <td>0.038146</td>\n",
       "      <td>0.054349</td>\n",
       "      <td>-0.059904</td>\n",
       "      <td>0.106926</td>\n",
       "      <td>0.313165</td>\n",
       "      <td>-0.015109</td>\n",
       "      <td>-0.010773</td>\n",
       "      <td>1.000000</td>\n",
       "      <td>-0.028713</td>\n",
       "    </tr>\n",
       "    <tr>\n",
       "      <th>TEMP</th>\n",
       "      <td>0.020134</td>\n",
       "      <td>0.039450</td>\n",
       "      <td>0.061784</td>\n",
       "      <td>0.045137</td>\n",
       "      <td>-0.022840</td>\n",
       "      <td>-0.076994</td>\n",
       "      <td>0.071333</td>\n",
       "      <td>0.065897</td>\n",
       "      <td>-0.028713</td>\n",
       "      <td>1.000000</td>\n",
       "    </tr>\n",
       "  </tbody>\n",
       "</table>\n",
       "</div>"
      ],
      "text/plain": [
       "           VALC     VALSI     VALMN      VALP      VALS     VALCU     VALCR  \\\n",
       "VALC   1.000000 -0.037305  0.346248  0.051569  0.180886  0.025428 -0.141316   \n",
       "VALSI -0.037305  1.000000  0.561971  0.019893 -0.097227  0.015756  0.001292   \n",
       "VALMN  0.346248  0.561971  1.000000  0.035603  0.067150  0.048465 -0.241042   \n",
       "VALP   0.051569  0.019893  0.035603  1.000000 -0.006350  0.027072 -0.010391   \n",
       "VALS   0.180886 -0.097227  0.067150 -0.006350  1.000000  0.178406 -0.218369   \n",
       "VALCU  0.025428  0.015756  0.048465  0.027072  0.178406  1.000000 -0.143216   \n",
       "VALCR -0.141316  0.001292 -0.241042 -0.010391 -0.218369 -0.143216  1.000000   \n",
       "VALMO -0.066047  0.049651 -0.019392  0.609139 -0.072034 -0.068121  0.282774   \n",
       "VALNI  0.006276  0.038146  0.054349 -0.059904  0.106926  0.313165 -0.015109   \n",
       "TEMP   0.020134  0.039450  0.061784  0.045137 -0.022840 -0.076994  0.071333   \n",
       "\n",
       "          VALMO     VALNI      TEMP  \n",
       "VALC  -0.066047  0.006276  0.020134  \n",
       "VALSI  0.049651  0.038146  0.039450  \n",
       "VALMN -0.019392  0.054349  0.061784  \n",
       "VALP   0.609139 -0.059904  0.045137  \n",
       "VALS  -0.072034  0.106926 -0.022840  \n",
       "VALCU -0.068121  0.313165 -0.076994  \n",
       "VALCR  0.282774 -0.015109  0.071333  \n",
       "VALMO  1.000000 -0.010773  0.065897  \n",
       "VALNI -0.010773  1.000000 -0.028713  \n",
       "TEMP   0.065897 -0.028713  1.000000  "
      ]
     },
     "execution_count": 77,
     "metadata": {},
     "output_type": "execute_result"
    }
   ],
   "source": [
    "dfTEMP = df_chem3.merge(df5, on='HEATID', how='inner')\n",
    "dfTEMP1=dfTEMP.drop([\"HEATID\",\"index\"],axis=1)\n",
    "dfTEMP1.corr()"
   ]
  },
  {
   "cell_type": "markdown",
   "metadata": {},
   "source": [
    "It seems like it is going to be very difficult to relate energy consumption with final temperature, even if we added material composition as a predictor. This, however, is a valuable piece of information, since it tells us that the problems we might have in our process are not really related to temperature. It seems as if the energy consumption just adapts to what the metal needs each time to get to the optimal temperature. What we would like to do then is to find the optimal parameters of a process so that we consume the least energy. "
   ]
  },
  {
   "cell_type": "markdown",
   "metadata": {},
   "source": [
    "What we are going to do then is to try to predict energy based on other parameters, such as material composition, gas flow, etc."
   ]
  },
  {
   "cell_type": "code",
   "execution_count": 78,
   "metadata": {},
   "outputs": [],
   "source": [
    "dfBase = df_chem3.merge(dfT2, on='HEATID', how='inner')"
   ]
  },
  {
   "cell_type": "code",
   "execution_count": 79,
   "metadata": {},
   "outputs": [
    {
     "name": "stdout",
     "output_type": "stream",
     "text": [
      "       HEATID    VALC   VALSI   VALMN    VALP    VALS   VALCU   VALCR   VALMO  \\\n",
      "0      6F0020  0.2312  0.2449  1.2652  0.0076  0.0147  0.2072  0.0726  0.0194   \n",
      "1      6F0021  0.2507  0.2687  1.2916  0.0055  0.0204  0.2045  0.0747  0.0206   \n",
      "2      6F0022  0.2340  0.2276  1.1963  0.0056  0.0193  0.1898  0.0695  0.0203   \n",
      "3      6F0023  0.3652  0.2154  0.7934  0.0078  0.0250  0.2154  0.0956  0.0342   \n",
      "4      6F0024  0.3740  0.1932  0.7948  0.0071  0.0202  0.2191  0.1029  0.0267   \n",
      "...       ...     ...     ...     ...     ...     ...     ...     ...     ...   \n",
      "20808  5F8438  0.1713  0.1593  0.4194  0.0064  0.0246  0.1921  0.1189  0.0382   \n",
      "20809  5F8439  0.1812  0.1928  0.3834  0.0065  0.0196  0.1859  0.0853  0.0253   \n",
      "20810  5F8440  0.1752  0.2399  0.3864  0.0065  0.0129  0.1605  0.0773  0.0117   \n",
      "20811  5F8441  0.1736  0.2180  0.3644  0.0061  0.0176  0.1827  0.0772  0.0159   \n",
      "20812  5F8442  0.1828  0.2320  0.4115  0.0064  0.0147  0.1916  0.0772  0.0138   \n",
      "\n",
      "        VALNI        MWh  \n",
      "0      0.1323   7.139792  \n",
      "1      0.1326  14.255660  \n",
      "2      0.1218  11.602674  \n",
      "3      0.2051  14.305000  \n",
      "4      0.1534  10.989514  \n",
      "...       ...        ...  \n",
      "20808  0.1069   8.575521  \n",
      "20809  0.1042  10.631597  \n",
      "20810  0.0914  11.917743  \n",
      "20811  0.1262  10.671910  \n",
      "20812  0.1047   5.981840  \n",
      "\n",
      "[20813 rows x 11 columns]\n"
     ]
    }
   ],
   "source": [
    "print(dfBase)"
   ]
  },
  {
   "cell_type": "code",
   "execution_count": 80,
   "metadata": {},
   "outputs": [],
   "source": [
    "dfBase1=dfBase.drop([\"HEATID\"],axis=1)"
   ]
  },
  {
   "cell_type": "code",
   "execution_count": 81,
   "metadata": {},
   "outputs": [],
   "source": [
    "YChem=dfBase1[\"MWh\"]\n",
    "XChem=dfBase1.drop([\"MWh\"],axis=1)"
   ]
  },
  {
   "cell_type": "code",
   "execution_count": 82,
   "metadata": {},
   "outputs": [
    {
     "name": "stdout",
     "output_type": "stream",
     "text": [
      "IQR for column VALC: 0.15449999999999997 (np.float64(-0.08864999999999995), np.float64(0.52935))\n",
      "Number of outliers for VALC: 4\n",
      "Max outlier for VALC: 0.7114\n",
      "Min outlier for VALC: 0.5476\n",
      "IQR for column VALSI: 0.15040000000000003 (np.float64(-0.04510000000000006), np.float64(0.5565000000000001))\n",
      "Number of outliers for VALSI: 555\n",
      "Max outlier for VALSI: 1.2883\n",
      "Min outlier for VALSI: 0.5566\n",
      "IQR for column VALMN: 0.8616999999999999 (np.float64(-0.8616499999999998), np.float64(2.5851499999999996))\n",
      "Number of outliers for VALMN: 0\n",
      "Max outlier for VALMN: nan\n",
      "Min outlier for VALMN: nan\n",
      "IQR for column VALP: 0.0026999999999999993 (np.float64(0.002850000000000001), np.float64(0.013649999999999999))\n",
      "Number of outliers for VALP: 960\n",
      "Max outlier for VALP: 0.42\n",
      "Min outlier for VALP: 0.0024\n",
      "IQR for column VALS: 0.011600000000000001 (np.float64(-0.002100000000000003), np.float64(0.044300000000000006))\n",
      "Number of outliers for VALS: 176\n",
      "Max outlier for VALS: 0.0909\n",
      "Min outlier for VALS: 0.0444\n",
      "IQR for column VALCU: 0.03090000000000001 (np.float64(0.13615), np.float64(0.25975000000000004))\n",
      "Number of outliers for VALCU: 533\n",
      "Max outlier for VALCU: 0.4643\n",
      "Min outlier for VALCU: 0.0611\n",
      "IQR for column VALCR: 0.03849999999999999 (np.float64(0.022850000000000016), np.float64(0.17684999999999998))\n",
      "Number of outliers for VALCR: 2231\n",
      "Max outlier for VALCR: 2.4356\n",
      "Min outlier for VALCR: 0.1769\n",
      "IQR for column VALMO: 0.007099999999999999 (np.float64(0.0037500000000000016), np.float64(0.03215))\n",
      "Number of outliers for VALMO: 1544\n",
      "Max outlier for VALMO: 1.2339\n",
      "Min outlier for VALMO: 0.0322\n",
      "IQR for column VALNI: 0.024500000000000008 (np.float64(0.08434999999999998), np.float64(0.18235))\n",
      "Number of outliers for VALNI: 990\n",
      "Max outlier for VALNI: 0.4476\n",
      "Min outlier for VALNI: 0.0668\n",
      "Total unique outliers: 5139\n"
     ]
    }
   ],
   "source": [
    "outliers_indices = []\n",
    "\n",
    "for column in XChem.columns:\n",
    "    q1 = XChem[column].quantile(0.25)\n",
    "    q3 = XChem[column].quantile(0.75)\n",
    "    IQR = q3 - q1\n",
    "    print(f\"IQR for column {column}: {IQR} {(q1 - 1.5 * IQR, q3 + 1.5 * IQR)}\")\n",
    "    \n",
    "    outliers = XChem[column][((XChem[column] < (q1 - 1.5 * IQR)) | (XChem[column] > (q3 + 1.5 * IQR)))]\n",
    "    \n",
    "    outliers_indices.extend(outliers.index)\n",
    "    \n",
    "    print(f\"Number of outliers for {column}: {len(outliers)}\")\n",
    "    print(f\"Max outlier for {column}: {outliers.max()}\")\n",
    "    print(f\"Min outlier for {column}: {outliers.min()}\")\n",
    "    #print(outliers)\n",
    "\n",
    "outliers_indices = list(set(outliers_indices))\n",
    "\n",
    "print(f\"Total unique outliers: {len(outliers_indices)}\")"
   ]
  },
  {
   "cell_type": "markdown",
   "metadata": {},
   "source": [
    "There are a lot of outliers here. Maybe a logarithmic transformation of the data would be advisable."
   ]
  },
  {
   "cell_type": "code",
   "execution_count": 83,
   "metadata": {},
   "outputs": [],
   "source": [
    "#XChemD=XChem.drop(outliers_indices)\n",
    "#YChemD=YChem.drop(outliers_indices)\n",
    "\n",
    "#dropping the outliers was not effective because of a loss of information, that is why this line is commented."
   ]
  },
  {
   "cell_type": "code",
   "execution_count": 84,
   "metadata": {},
   "outputs": [],
   "source": [
    "XChemL=XChem.apply(np.log)"
   ]
  },
  {
   "cell_type": "code",
   "execution_count": 85,
   "metadata": {},
   "outputs": [],
   "source": [
    "#we tried a scaler but it did not really improve our results\n",
    "\n",
    "#scaler = MinMaxScaler()\n",
    "\n",
    "#XChem = pd.DataFrame(scaler.fit_transform(XChem1), columns=XChem1.columns, index=XChem1.index)"
   ]
  },
  {
   "cell_type": "markdown",
   "metadata": {},
   "source": [
    "Let's see if the number of outliers is more manageable now."
   ]
  },
  {
   "cell_type": "code",
   "execution_count": 86,
   "metadata": {},
   "outputs": [
    {
     "name": "stdout",
     "output_type": "stream",
     "text": [
      "IQR for column VALC: 0.7322066163965315 (np.float64(-3.0425215170145288), np.float64(-0.1136950514284032))\n",
      "Number of outliers for VALC: 35\n",
      "Max outlier for VALC: -3.0449225177447627\n",
      "Min outlier for VALC: -3.4769990950784373\n",
      "IQR for column VALSI: 0.6060854371546309 (np.float64(-2.621152656941148), np.float64(-0.19681090832262416))\n",
      "Number of outliers for VALSI: 353\n",
      "Max outlier for VALSI: 0.253323519815342\n",
      "Min outlier for VALSI: -4.261580481598014\n",
      "IQR for column VALMN: 1.0985349282070027 (np.float64(-2.4896816266708486), np.float64(1.904458086157162))\n",
      "Number of outliers for VALMN: 2\n",
      "Max outlier for VALMN: -2.622790357151387\n",
      "Min outlier for VALMN: -2.766209115275742\n",
      "IQR for column VALP: 0.3302416868705764 (np.float64(-5.471596397684788), np.float64(-4.150629650202482))\n",
      "Number of outliers for VALP: 685\n",
      "Max outlier for VALP: -0.8675005677047231\n",
      "Min outlier for VALP: -6.032286541628237\n",
      "IQR for column VALS: 0.5642734582094038 (np.float64(-5.026312637897853), np.float64(-2.769218805060238))\n",
      "Number of outliers for VALS: 790\n",
      "Max outlier for VALS: -2.397995277798704\n",
      "Min outlier for VALS: -6.502290170873972\n",
      "IQR for column VALCU: 0.15641816584510693 (np.float64(-1.9356323547272514), np.float64(-1.3099596913468237))\n",
      "Number of outliers for VALCU: 503\n",
      "Max outlier for VALCU: -0.767224383956261\n",
      "Min outlier for VALCU: -2.7952434128045875\n",
      "IQR for column VALCR: 0.39046482684867145 (np.float64(-3.1039538697425613), np.float64(-1.5420945623478757))\n",
      "Number of outliers for VALCR: 2070\n",
      "Max outlier for VALCR: 0.890193132752282\n",
      "Min outlier for VALCR: -3.302257433807252\n",
      "IQR for column VALMO: 0.4008247285516622 (np.float64(-4.8417641652276755), np.float64(-3.238465251021027))\n",
      "Number of outliers for VALMO: 1143\n",
      "Max outlier for VALMO: 0.21017988492235104\n",
      "Min outlier for VALMO: -5.240048458424061\n",
      "IQR for column VALNI: 0.18424648520353903 (np.float64(-2.387508356228399), np.float64(-1.6505224154142428))\n",
      "Number of outliers for VALNI: 747\n",
      "Max outlier for VALNI: -0.8038553025443669\n",
      "Min outlier for VALNI: -2.706052198439537\n",
      "Total unique outliers: 4277\n"
     ]
    }
   ],
   "source": [
    "outliers_indices = []\n",
    "\n",
    "for column in XChemL.columns:\n",
    "    q1 = XChemL[column].quantile(0.25)\n",
    "    q3 = XChemL[column].quantile(0.75)\n",
    "    IQR = q3 - q1\n",
    "    print(f\"IQR for column {column}: {IQR} {(q1 - 1.5 * IQR, q3 + 1.5 * IQR)}\")\n",
    "    \n",
    "    outliers = XChemL[column][((XChemL[column] < (q1 - 1.5 * IQR)) | (XChemL[column] > (q3 + 1.5 * IQR)))]\n",
    "    \n",
    "    outliers_indices.extend(outliers.index)\n",
    "    \n",
    "    print(f\"Number of outliers for {column}: {len(outliers)}\")\n",
    "    print(f\"Max outlier for {column}: {outliers.max()}\")\n",
    "    print(f\"Min outlier for {column}: {outliers.min()}\")\n",
    "    #print(outliers)\n",
    "\n",
    "outliers_indices = list(set(outliers_indices))\n",
    "\n",
    "print(f\"Total unique outliers: {len(outliers_indices)}\")"
   ]
  },
  {
   "cell_type": "markdown",
   "metadata": {},
   "source": [
    "We might need to process the outliers a bit further. This was not possible due to a lack of time, but it would be advisable in a deeper analysis."
   ]
  },
  {
   "cell_type": "code",
   "execution_count": 90,
   "metadata": {},
   "outputs": [
    {
     "data": {
      "text/html": [
       "<div>\n",
       "<style scoped>\n",
       "    .dataframe tbody tr th:only-of-type {\n",
       "        vertical-align: middle;\n",
       "    }\n",
       "\n",
       "    .dataframe tbody tr th {\n",
       "        vertical-align: top;\n",
       "    }\n",
       "\n",
       "    .dataframe thead th {\n",
       "        text-align: right;\n",
       "    }\n",
       "</style>\n",
       "<table border=\"1\" class=\"dataframe\">\n",
       "  <thead>\n",
       "    <tr style=\"text-align: right;\">\n",
       "      <th></th>\n",
       "      <th>VALC</th>\n",
       "      <th>VALSI</th>\n",
       "      <th>VALMN</th>\n",
       "      <th>VALP</th>\n",
       "      <th>VALS</th>\n",
       "      <th>VALCU</th>\n",
       "      <th>VALCR</th>\n",
       "      <th>VALMO</th>\n",
       "      <th>VALNI</th>\n",
       "      <th>MWh</th>\n",
       "    </tr>\n",
       "  </thead>\n",
       "  <tbody>\n",
       "    <tr>\n",
       "      <th>VALC</th>\n",
       "      <td>1.000000</td>\n",
       "      <td>-0.034734</td>\n",
       "      <td>0.348599</td>\n",
       "      <td>0.052546</td>\n",
       "      <td>0.181105</td>\n",
       "      <td>0.024826</td>\n",
       "      <td>-0.143464</td>\n",
       "      <td>-0.066438</td>\n",
       "      <td>0.004909</td>\n",
       "      <td>0.124438</td>\n",
       "    </tr>\n",
       "    <tr>\n",
       "      <th>VALSI</th>\n",
       "      <td>-0.034734</td>\n",
       "      <td>1.000000</td>\n",
       "      <td>0.562426</td>\n",
       "      <td>0.020215</td>\n",
       "      <td>-0.096935</td>\n",
       "      <td>0.014510</td>\n",
       "      <td>-0.000480</td>\n",
       "      <td>0.049860</td>\n",
       "      <td>0.038208</td>\n",
       "      <td>-0.028436</td>\n",
       "    </tr>\n",
       "    <tr>\n",
       "      <th>VALMN</th>\n",
       "      <td>0.348599</td>\n",
       "      <td>0.562426</td>\n",
       "      <td>1.000000</td>\n",
       "      <td>0.034985</td>\n",
       "      <td>0.068014</td>\n",
       "      <td>0.046852</td>\n",
       "      <td>-0.243262</td>\n",
       "      <td>-0.020824</td>\n",
       "      <td>0.053286</td>\n",
       "      <td>0.011140</td>\n",
       "    </tr>\n",
       "    <tr>\n",
       "      <th>VALP</th>\n",
       "      <td>0.052546</td>\n",
       "      <td>0.020215</td>\n",
       "      <td>0.034985</td>\n",
       "      <td>1.000000</td>\n",
       "      <td>-0.007555</td>\n",
       "      <td>0.028465</td>\n",
       "      <td>-0.009435</td>\n",
       "      <td>0.609248</td>\n",
       "      <td>-0.062016</td>\n",
       "      <td>0.176129</td>\n",
       "    </tr>\n",
       "    <tr>\n",
       "      <th>VALS</th>\n",
       "      <td>0.181105</td>\n",
       "      <td>-0.096935</td>\n",
       "      <td>0.068014</td>\n",
       "      <td>-0.007555</td>\n",
       "      <td>1.000000</td>\n",
       "      <td>0.177820</td>\n",
       "      <td>-0.221014</td>\n",
       "      <td>-0.073677</td>\n",
       "      <td>0.107362</td>\n",
       "      <td>0.007077</td>\n",
       "    </tr>\n",
       "    <tr>\n",
       "      <th>VALCU</th>\n",
       "      <td>0.024826</td>\n",
       "      <td>0.014510</td>\n",
       "      <td>0.046852</td>\n",
       "      <td>0.028465</td>\n",
       "      <td>0.177820</td>\n",
       "      <td>1.000000</td>\n",
       "      <td>-0.142888</td>\n",
       "      <td>-0.067170</td>\n",
       "      <td>0.314117</td>\n",
       "      <td>0.056620</td>\n",
       "    </tr>\n",
       "    <tr>\n",
       "      <th>VALCR</th>\n",
       "      <td>-0.143464</td>\n",
       "      <td>-0.000480</td>\n",
       "      <td>-0.243262</td>\n",
       "      <td>-0.009435</td>\n",
       "      <td>-0.221014</td>\n",
       "      <td>-0.142888</td>\n",
       "      <td>1.000000</td>\n",
       "      <td>0.285866</td>\n",
       "      <td>-0.015309</td>\n",
       "      <td>-0.102256</td>\n",
       "    </tr>\n",
       "    <tr>\n",
       "      <th>VALMO</th>\n",
       "      <td>-0.066438</td>\n",
       "      <td>0.049860</td>\n",
       "      <td>-0.020824</td>\n",
       "      <td>0.609248</td>\n",
       "      <td>-0.073677</td>\n",
       "      <td>-0.067170</td>\n",
       "      <td>0.285866</td>\n",
       "      <td>1.000000</td>\n",
       "      <td>-0.013599</td>\n",
       "      <td>0.079023</td>\n",
       "    </tr>\n",
       "    <tr>\n",
       "      <th>VALNI</th>\n",
       "      <td>0.004909</td>\n",
       "      <td>0.038208</td>\n",
       "      <td>0.053286</td>\n",
       "      <td>-0.062016</td>\n",
       "      <td>0.107362</td>\n",
       "      <td>0.314117</td>\n",
       "      <td>-0.015309</td>\n",
       "      <td>-0.013599</td>\n",
       "      <td>1.000000</td>\n",
       "      <td>-0.029681</td>\n",
       "    </tr>\n",
       "    <tr>\n",
       "      <th>MWh</th>\n",
       "      <td>0.124438</td>\n",
       "      <td>-0.028436</td>\n",
       "      <td>0.011140</td>\n",
       "      <td>0.176129</td>\n",
       "      <td>0.007077</td>\n",
       "      <td>0.056620</td>\n",
       "      <td>-0.102256</td>\n",
       "      <td>0.079023</td>\n",
       "      <td>-0.029681</td>\n",
       "      <td>1.000000</td>\n",
       "    </tr>\n",
       "  </tbody>\n",
       "</table>\n",
       "</div>"
      ],
      "text/plain": [
       "           VALC     VALSI     VALMN      VALP      VALS     VALCU     VALCR  \\\n",
       "VALC   1.000000 -0.034734  0.348599  0.052546  0.181105  0.024826 -0.143464   \n",
       "VALSI -0.034734  1.000000  0.562426  0.020215 -0.096935  0.014510 -0.000480   \n",
       "VALMN  0.348599  0.562426  1.000000  0.034985  0.068014  0.046852 -0.243262   \n",
       "VALP   0.052546  0.020215  0.034985  1.000000 -0.007555  0.028465 -0.009435   \n",
       "VALS   0.181105 -0.096935  0.068014 -0.007555  1.000000  0.177820 -0.221014   \n",
       "VALCU  0.024826  0.014510  0.046852  0.028465  0.177820  1.000000 -0.142888   \n",
       "VALCR -0.143464 -0.000480 -0.243262 -0.009435 -0.221014 -0.142888  1.000000   \n",
       "VALMO -0.066438  0.049860 -0.020824  0.609248 -0.073677 -0.067170  0.285866   \n",
       "VALNI  0.004909  0.038208  0.053286 -0.062016  0.107362  0.314117 -0.015309   \n",
       "MWh    0.124438 -0.028436  0.011140  0.176129  0.007077  0.056620 -0.102256   \n",
       "\n",
       "          VALMO     VALNI       MWh  \n",
       "VALC  -0.066438  0.004909  0.124438  \n",
       "VALSI  0.049860  0.038208 -0.028436  \n",
       "VALMN -0.020824  0.053286  0.011140  \n",
       "VALP   0.609248 -0.062016  0.176129  \n",
       "VALS  -0.073677  0.107362  0.007077  \n",
       "VALCU -0.067170  0.314117  0.056620  \n",
       "VALCR  0.285866 -0.015309 -0.102256  \n",
       "VALMO  1.000000 -0.013599  0.079023  \n",
       "VALNI -0.013599  1.000000 -0.029681  \n",
       "MWh    0.079023 -0.029681  1.000000  "
      ]
     },
     "execution_count": 90,
     "metadata": {},
     "output_type": "execute_result"
    }
   ],
   "source": [
    "dfBase1.corr()"
   ]
  },
  {
   "cell_type": "markdown",
   "metadata": {},
   "source": [
    "The relationships between the variables are a bit better than before. Still, this is going to be a hard problem to solve. "
   ]
  },
  {
   "cell_type": "code",
   "execution_count": 91,
   "metadata": {},
   "outputs": [
    {
     "name": "stdout",
     "output_type": "stream",
     "text": [
      "RSS:\n",
      "25764.688023005965\n",
      "MSE: 6.19\n",
      "RMSE: 2.49\n",
      "Mean Absolute Error: 1.96\n",
      "Median Absolute Error: 1.64\n",
      "Explained Variance Score: 0.06\n",
      "R²: 0.06\n"
     ]
    }
   ],
   "source": [
    "from sklearn.model_selection import train_test_split\n",
    "XTrainCh, XTestCh, yTrainCh, yTestCh = train_test_split(XChemL, YChem, test_size=0.2)\n",
    "from sklearn.linear_model import LinearRegression\n",
    "lReg1Chem = LinearRegression()\n",
    "lReg1Chem.fit(XTrainCh, yTrainCh)\n",
    "\n",
    "yPredLCh= lReg1Chem.predict(XTestCh)\n",
    "my_performance_report(yPredLCh,yTestCh)"
   ]
  },
  {
   "cell_type": "markdown",
   "metadata": {},
   "source": [
    "Again, results are slightly better"
   ]
  },
  {
   "cell_type": "markdown",
   "metadata": {},
   "source": [
    "We are going to take into account the mass of metal charged in the furnace. "
   ]
  },
  {
   "cell_type": "code",
   "execution_count": 92,
   "metadata": {},
   "outputs": [
    {
     "name": "stdout",
     "output_type": "stream",
     "text": [
      "        MAT_CODE                 MAT_DEC  HEATID             DATETIME  \\\n",
      "0         205051                      3A  6F0020  2016-01-01 18:51:00   \n",
      "1         205051                      3A  6F0020  2016-01-01 19:24:00   \n",
      "2         360258  In-house produced lime  6F0020  2016-01-01 18:33:00   \n",
      "3         205051                      3A  6F0020  2016-01-01 18:51:00   \n",
      "4         360258  In-house produced lime  6F0020  2016-01-01 18:51:00   \n",
      "...          ...                     ...     ...                  ...   \n",
      "137680    201010        Steelmaking iron  5F8442  2015-12-31 22:14:00   \n",
      "137681    205051                      3A  5F8442  2015-12-31 22:14:00   \n",
      "137682    360258  In-house produced lime  5F8442  2015-12-31 22:14:00   \n",
      "137683    360258  In-house produced lime  5F8442  2015-12-31 22:01:00   \n",
      "137684    205051                      3A  5F8442  2015-12-31 22:01:00   \n",
      "\n",
      "       CHARGED_AMOUNT  \n",
      "0               54071  \n",
      "1               75240  \n",
      "2                2502  \n",
      "3                4773  \n",
      "4                2500  \n",
      "...               ...  \n",
      "137680          19350  \n",
      "137681           7390  \n",
      "137682           2253  \n",
      "137683           2251  \n",
      "137684          82529  \n",
      "\n",
      "[137685 rows x 5 columns]\n"
     ]
    },
    {
     "name": "stderr",
     "output_type": "stream",
     "text": [
      "C:\\Users\\quinito\\AppData\\Local\\Temp\\ipykernel_17136\\3390344670.py:1: DtypeWarning: Columns (4) have mixed types. Specify dtype option on import or set low_memory=False.\n",
      "  dfCharged=pd.read_csv('basket_charged.csv', sep=',')\n"
     ]
    }
   ],
   "source": [
    "dfCharged=pd.read_csv('basket_charged.csv', sep=',')\n",
    "\n",
    "print(dfCharged)"
   ]
  },
  {
   "cell_type": "code",
   "execution_count": 93,
   "metadata": {},
   "outputs": [
    {
     "data": {
      "text/plain": [
       "MAT_CODE           int64\n",
       "MAT_DEC           object\n",
       "HEATID            object\n",
       "DATETIME          object\n",
       "CHARGED_AMOUNT    object\n",
       "dtype: object"
      ]
     },
     "execution_count": 93,
     "metadata": {},
     "output_type": "execute_result"
    }
   ],
   "source": [
    "dfCharged.dtypes"
   ]
  },
  {
   "cell_type": "code",
   "execution_count": 94,
   "metadata": {},
   "outputs": [],
   "source": [
    "dfCharged1=dfCharged.copy()\n",
    "dfCharged1['CHARGED_AMOUNT'] = pd.to_numeric(dfCharged['CHARGED_AMOUNT'], errors='coerce').fillna(0).astype(int)"
   ]
  },
  {
   "cell_type": "code",
   "execution_count": null,
   "metadata": {},
   "outputs": [
    {
     "name": "stdout",
     "output_type": "stream",
     "text": [
      "       HEATID  TOTAL_CHARGED_AMOUNT\n",
      "0      5F0002                128590\n",
      "1      5F0003                128826\n",
      "2      5F0004                133715\n",
      "3      5F0005                129233\n",
      "4      5F0006                132505\n",
      "...       ...                   ...\n",
      "20801  8F5226                128886\n",
      "20802  8F5227                128737\n",
      "20803  8F5471                124999\n",
      "20804  8F5472                128222\n",
      "20805  8F5473                128664\n",
      "\n",
      "[20806 rows x 2 columns]\n"
     ]
    }
   ],
   "source": [
    "totalKg = dfCharged1.groupby('HEATID')['CHARGED_AMOUNT'].sum().reset_index()\n",
    "\n",
    "totalKg.columns = ['HEATID', 'TOTAL_CHARGED_AMOUNT']\n",
    "\n",
    "print(totalKg)"
   ]
  },
  {
   "cell_type": "code",
   "execution_count": 96,
   "metadata": {},
   "outputs": [],
   "source": [
    "dfLast = totalKg.merge(dfT3, on='HEATID', how='inner')"
   ]
  },
  {
   "cell_type": "code",
   "execution_count": 97,
   "metadata": {},
   "outputs": [
    {
     "name": "stdout",
     "output_type": "stream",
     "text": [
      "       TOTAL_CHARGED_AMOUNT        MWh\n",
      "0                    128590   4.781944\n",
      "1                    128826  12.317708\n",
      "2                    133715   7.157986\n",
      "3                    129233  10.843160\n",
      "4                    132505  11.211806\n",
      "...                     ...        ...\n",
      "20529                133157   9.416875\n",
      "20530                128886   8.573194\n",
      "20531                128737   9.683472\n",
      "20532                124999   4.566250\n",
      "20533                128222   2.290833\n",
      "\n",
      "[20534 rows x 2 columns]\n"
     ]
    }
   ],
   "source": [
    "dfLast1=dfLast.drop([\"HEATID\"],axis=1)\n",
    "\n",
    "print(dfLast1)"
   ]
  },
  {
   "cell_type": "code",
   "execution_count": 98,
   "metadata": {},
   "outputs": [
    {
     "data": {
      "text/html": [
       "<div>\n",
       "<style scoped>\n",
       "    .dataframe tbody tr th:only-of-type {\n",
       "        vertical-align: middle;\n",
       "    }\n",
       "\n",
       "    .dataframe tbody tr th {\n",
       "        vertical-align: top;\n",
       "    }\n",
       "\n",
       "    .dataframe thead th {\n",
       "        text-align: right;\n",
       "    }\n",
       "</style>\n",
       "<table border=\"1\" class=\"dataframe\">\n",
       "  <thead>\n",
       "    <tr style=\"text-align: right;\">\n",
       "      <th></th>\n",
       "      <th>TOTAL_CHARGED_AMOUNT</th>\n",
       "      <th>MWh</th>\n",
       "    </tr>\n",
       "  </thead>\n",
       "  <tbody>\n",
       "    <tr>\n",
       "      <th>TOTAL_CHARGED_AMOUNT</th>\n",
       "      <td>1.000000</td>\n",
       "      <td>0.159959</td>\n",
       "    </tr>\n",
       "    <tr>\n",
       "      <th>MWh</th>\n",
       "      <td>0.159959</td>\n",
       "      <td>1.000000</td>\n",
       "    </tr>\n",
       "  </tbody>\n",
       "</table>\n",
       "</div>"
      ],
      "text/plain": [
       "                      TOTAL_CHARGED_AMOUNT       MWh\n",
       "TOTAL_CHARGED_AMOUNT              1.000000  0.159959\n",
       "MWh                               0.159959  1.000000"
      ]
     },
     "execution_count": 98,
     "metadata": {},
     "output_type": "execute_result"
    }
   ],
   "source": [
    "dfLast1.corr()"
   ]
  },
  {
   "cell_type": "markdown",
   "metadata": {},
   "source": [
    "Correlation is pretty weak, but not that bad. We are also going to try to do a little bit better of an engineering on the target variable, taking more into account time, so instead of doing power * time, we will do avg power * avg time. This way maybe the values will be more predictable and similar."
   ]
  },
  {
   "cell_type": "code",
   "execution_count": 99,
   "metadata": {},
   "outputs": [],
   "source": [
    "dfHope=totalKg.merge(dfAvg, on='HEATID', how='inner')"
   ]
  },
  {
   "cell_type": "code",
   "execution_count": 100,
   "metadata": {},
   "outputs": [],
   "source": [
    "dfHopeMore=dfHope.merge(dfBase, on='HEATID', how='inner')"
   ]
  },
  {
   "cell_type": "code",
   "execution_count": 101,
   "metadata": {},
   "outputs": [
    {
     "name": "stdout",
     "output_type": "stream",
     "text": [
      "       HEATID  TOTAL_CHARGED_AMOUNT  TOTAL_MWF  TOTAL_DURATION_MINUTES  \\\n",
      "0      5F0002                128590     48.625               16.833333   \n",
      "1      5F0003                128826     48.625               33.500000   \n",
      "2      5F0004                133715     47.375               34.333333   \n",
      "3      5F0005                129233     49.250               35.683333   \n",
      "4      5F0006                132505     49.875               35.000000   \n",
      "...       ...                   ...        ...                     ...   \n",
      "20791  8F5226                128886     49.500               33.200000   \n",
      "20792  8F5227                128737     51.250               35.016667   \n",
      "20793  8F5471                124999     49.500               34.850000   \n",
      "20794  8F5472                128222     48.750               11.116667   \n",
      "20795  8F5473                128664     49.750               34.516667   \n",
      "\n",
      "               Avg    VALC   VALSI   VALMN    VALP    VALS   VALCU   VALCR  \\\n",
      "0       818.520833  0.1457  0.2760  0.5306  0.1457  0.0167  0.1998  0.5240   \n",
      "1      1628.937500  0.1359  0.2898  0.5285  0.1359  0.0048  0.1897  0.5159   \n",
      "2      1626.541667  0.2183  0.3296  1.1203  0.2183  0.0273  0.2372  0.0942   \n",
      "3      1757.404167  0.1436  0.2701  0.5227  0.1436  0.0092  0.1948  0.4835   \n",
      "4      1745.625000  0.2368  0.2227  1.3179  0.2368  0.0165  0.2437  0.0839   \n",
      "...            ...     ...     ...     ...     ...     ...     ...     ...   \n",
      "20791  1643.400000  0.1443  0.1296  0.4355  0.0072  0.0083  0.1998  0.8328   \n",
      "20792  1794.604167  0.1122  0.0914  0.4283  0.0076  0.0322  0.1949  0.7945   \n",
      "20793  1725.075000  0.1059  0.0643  0.4618  0.0088  0.0149  0.1367  0.4242   \n",
      "20794   541.937500  0.1440  0.1991  0.4518  0.0072  0.0030  0.1390  0.8715   \n",
      "20795  1717.204167  0.1239  0.1820  0.4102  0.0076  0.0063  0.1026  0.7973   \n",
      "\n",
      "        VALMO   VALNI        MWh  \n",
      "0      0.2760  0.1201   4.781944  \n",
      "1      0.2898  0.1076  12.317708  \n",
      "2      0.3296  0.1003   7.157986  \n",
      "3      0.2701  0.1021  10.843160  \n",
      "4      0.2227  0.1216  11.211806  \n",
      "...       ...     ...        ...  \n",
      "20791  0.1157  0.1525   8.573194  \n",
      "20792  0.1156  0.1264   9.683472  \n",
      "20793  0.2353  0.1087   4.566250  \n",
      "20794  0.2654  0.1226   2.290833  \n",
      "20795  0.2386  0.1107  15.257361  \n",
      "\n",
      "[20796 rows x 15 columns]\n"
     ]
    }
   ],
   "source": [
    "print(dfHopeMore)"
   ]
  },
  {
   "cell_type": "code",
   "execution_count": 102,
   "metadata": {},
   "outputs": [],
   "source": [
    "Finaldf=dfHopeMore.drop([\"HEATID\",\"TOTAL_MWF\",\"TOTAL_DURATION_MINUTES\"],axis=1)"
   ]
  },
  {
   "cell_type": "code",
   "execution_count": 103,
   "metadata": {},
   "outputs": [
    {
     "name": "stdout",
     "output_type": "stream",
     "text": [
      "     TOTAL_CHARGED_AMOUNT      Avg      VALC     VALSI     VALMN      VALP  \\\n",
      "MWh              0.164212  0.27376  0.123702 -0.029287  0.010509  0.176487   \n",
      "Avg              0.082988  1.00000  0.183296 -0.067148  0.042831  0.006402   \n",
      "\n",
      "         VALS    VALCU     VALCR     VALMO     VALNI      MWh  \n",
      "MWh  0.006808  0.05759 -0.102263  0.079136 -0.028749  1.00000  \n",
      "Avg  0.127088 -0.00602 -0.093582 -0.033448  0.053723  0.27376  \n"
     ]
    }
   ],
   "source": [
    "matrix=Finaldf.corr()\n",
    "result = matrix.loc[[\"MWh\",\"Avg\"]]\n",
    "\n",
    "print(result)"
   ]
  },
  {
   "cell_type": "markdown",
   "metadata": {},
   "source": [
    "it does not look like the correlations are going to be significantly better, so we will not take into account the new engineered column."
   ]
  },
  {
   "cell_type": "code",
   "execution_count": 104,
   "metadata": {},
   "outputs": [],
   "source": [
    "Finaldf1=Finaldf.drop([\"Avg\"],axis=1)"
   ]
  },
  {
   "cell_type": "code",
   "execution_count": 105,
   "metadata": {},
   "outputs": [
    {
     "name": "stdout",
     "output_type": "stream",
     "text": [
      "RSS:\n",
      "25464.23735505415\n",
      "MSE: 6.12\n",
      "RMSE: 2.47\n",
      "Mean Absolute Error: 1.95\n",
      "Median Absolute Error: 1.66\n",
      "Explained Variance Score: 0.08\n",
      "R²: 0.08\n"
     ]
    }
   ],
   "source": [
    "YFin=Finaldf1[\"MWh\"]\n",
    "XFin=Finaldf1.drop([\"MWh\"],axis=1)\n",
    "from sklearn.model_selection import train_test_split\n",
    "XTrainFin, XTestFin, yTrainFin, yTestFin = train_test_split(XFin, YFin, test_size=0.2)\n",
    "from sklearn.linear_model import LinearRegression\n",
    "lReg1Fin = LinearRegression()\n",
    "lReg1Fin.fit(XTrainFin, yTrainFin)\n",
    "\n",
    "yPredLFin= lReg1Fin.predict(XTestFin)\n",
    "my_performance_report(yPredLFin,yTestFin)"
   ]
  },
  {
   "cell_type": "markdown",
   "metadata": {},
   "source": [
    "Again, we make slow but constant progress."
   ]
  },
  {
   "cell_type": "code",
   "execution_count": 106,
   "metadata": {},
   "outputs": [
    {
     "name": "stdout",
     "output_type": "stream",
     "text": [
      "RSS:\n",
      "24438.04753751772\n",
      "MSE: 5.87\n",
      "RMSE: 2.42\n",
      "Mean Absolute Error: 1.89\n",
      "Median Absolute Error: 1.54\n",
      "Explained Variance Score: 0.11\n",
      "R²: 0.11\n"
     ]
    }
   ],
   "source": [
    "from xgboost import XGBRegressor\n",
    "xgbF = XGBRegressor(n_estimators=100).fit(XTrainFin, yTrainFin)\n",
    "yPredXFin= xgbF.predict(XTestFin)\n",
    "my_performance_report(yPredXFin,yTestFin)"
   ]
  },
  {
   "cell_type": "code",
   "execution_count": 107,
   "metadata": {},
   "outputs": [
    {
     "name": "stdout",
     "output_type": "stream",
     "text": [
      "       TOTAL_CHARGED_AMOUNT    VALC   VALSI   VALMN    VALP    VALS   VALCU  \\\n",
      "6910                 120594  0.1167  0.1892  0.4568  0.0054  0.0043  0.2024   \n",
      "10020                140246  0.1594  0.0978  0.4146  0.0085  0.0291  0.1990   \n",
      "7937                 128544  0.0681  0.5833  1.2197  0.0063  0.0149  0.2371   \n",
      "3103                 126220  0.1754  0.2005  0.4213  0.0088  0.0222  0.1334   \n",
      "10045                134696  0.1248  0.2287  0.5039  0.0103  0.0195  0.1739   \n",
      "...                     ...     ...     ...     ...     ...     ...     ...   \n",
      "18970                134772  0.3434  0.4466  1.2717  0.0144  0.0222  0.2079   \n",
      "14126                139142  0.3169  0.3902  1.3592  0.0078  0.0286  0.2350   \n",
      "19110                133228  0.2984  0.3951  1.1128  0.0124  0.0200  0.2064   \n",
      "3479                 141272  0.3211  0.3377  1.4081  0.0082  0.0140  0.2327   \n",
      "14127                139759  0.3376  0.4325  1.4441  0.0077  0.0269  0.2314   \n",
      "\n",
      "        VALCR   VALMO   VALNI  \n",
      "6910   0.4259  0.0130  0.1089  \n",
      "10020  0.0804  0.0135  0.1247  \n",
      "7937   0.0635  0.0186  0.1570  \n",
      "3103   0.1066  0.0083  0.0970  \n",
      "10045  0.8581  0.1449  0.1302  \n",
      "...       ...     ...     ...  \n",
      "18970  0.1222  0.0178  0.1236  \n",
      "14126  0.1002  0.0191  0.1410  \n",
      "19110  0.1136  0.0182  0.1312  \n",
      "3479   0.0807  0.0133  0.1299  \n",
      "14127  0.1235  0.0301  0.1473  \n",
      "\n",
      "[4160 rows x 10 columns]\n"
     ]
    }
   ],
   "source": [
    "print(XTestFin)"
   ]
  },
  {
   "cell_type": "markdown",
   "metadata": {},
   "source": [
    "We also add gas usage."
   ]
  },
  {
   "cell_type": "code",
   "execution_count": 108,
   "metadata": {},
   "outputs": [
    {
     "name": "stdout",
     "output_type": "stream",
     "text": [
      "                         REVTIME O2_AMOUNT GAS_AMOUNT   O2_FLOW GAS_FLOW  \\\n",
      "0        2016-01-01 18:31:46,003      0,00       0,00     0,000    0,000   \n",
      "1        2016-01-01 18:31:55,925   4555,00     548,00     0,000    0,000   \n",
      "2        2016-01-01 18:32:55,972      0,00       0,00     0,000    0,000   \n",
      "3        2016-01-01 18:33:05,956      0,00       0,00  2628,000    0,000   \n",
      "4        2016-01-01 18:33:16,019      1,00       0,00  1077,000  164,000   \n",
      "...                          ...       ...        ...       ...      ...   \n",
      "5748189  2015-12-31 22:40:26,420   3888,00     537,00     0,000    0,000   \n",
      "5748190  2015-12-31 22:40:36,654   3893,00     537,00     0,000    0,000   \n",
      "5748191  2015-12-31 22:40:46,513   3898,00     537,00  1817,000   83,000   \n",
      "5748192  2015-12-31 22:40:56,482   3903,00     537,00  1971,000   84,000   \n",
      "5748193  2015-12-31 22:43:26,498   3907,00     538,00     0,000    0,000   \n",
      "\n",
      "         HEATID  \n",
      "0        6F0020  \n",
      "1        6F0020  \n",
      "2        6F0020  \n",
      "3        6F0020  \n",
      "4        6F0020  \n",
      "...         ...  \n",
      "5748189  5F8442  \n",
      "5748190  5F8442  \n",
      "5748191  5F8442  \n",
      "5748192  5F8442  \n",
      "5748193  5F8442  \n",
      "\n",
      "[5748194 rows x 6 columns]\n"
     ]
    }
   ],
   "source": [
    "dfGas=pd.read_csv('eaf_gaslance_mat.csv', sep=',')\n",
    "\n",
    "print(dfGas)\n"
   ]
  },
  {
   "cell_type": "markdown",
   "metadata": {},
   "source": [
    "We get the most representative value of gas usage for each heatID"
   ]
  },
  {
   "cell_type": "code",
   "execution_count": 109,
   "metadata": {},
   "outputs": [],
   "source": [
    "dfGasLast = dfGas.groupby('HEATID')[['GAS_AMOUNT', 'O2_AMOUNT']].last().reset_index()"
   ]
  },
  {
   "cell_type": "code",
   "execution_count": 110,
   "metadata": {},
   "outputs": [
    {
     "name": "stdout",
     "output_type": "stream",
     "text": [
      "       HEATID GAS_AMOUNT O2_AMOUNT\n",
      "0      5F0002    1160,00   3659,00\n",
      "1      5F0003    1117,00   3469,00\n",
      "2      5F0004    1204,00   3605,00\n",
      "3      5F0005    1191,00   3678,00\n",
      "4      5F0006    1171,00   3655,00\n",
      "...       ...        ...       ...\n",
      "20822  8F5227     624,00   4219,00\n",
      "20823  8F5392     491,00   4456,00\n",
      "20824  8F5471     717,00   4416,00\n",
      "20825  8F5472     509,00   4028,00\n",
      "20826  8F5473     522,00   4255,00\n",
      "\n",
      "[20827 rows x 3 columns]\n"
     ]
    }
   ],
   "source": [
    "print(dfGasLast)"
   ]
  },
  {
   "cell_type": "code",
   "execution_count": 111,
   "metadata": {},
   "outputs": [
    {
     "data": {
      "text/plain": [
       "HEATID        object\n",
       "GAS_AMOUNT    object\n",
       "O2_AMOUNT     object\n",
       "dtype: object"
      ]
     },
     "execution_count": 111,
     "metadata": {},
     "output_type": "execute_result"
    }
   ],
   "source": [
    "dfGasLast.dtypes\n",
    "\n"
   ]
  },
  {
   "cell_type": "code",
   "execution_count": 112,
   "metadata": {},
   "outputs": [],
   "source": [
    "dfGasLast1=pd.DataFrame()\n",
    "dfGasLast1['GAS_AMOUNT'] = dfGasLast['GAS_AMOUNT'].str.replace(',', '.').astype(float)\n",
    "dfGasLast1['O2_AMOUNT'] = dfGasLast['O2_AMOUNT'].str.replace(',', '.').astype(float)\n",
    "dfGasLast1['HEATID']=dfGasLast['HEATID']"
   ]
  },
  {
   "cell_type": "code",
   "execution_count": 113,
   "metadata": {},
   "outputs": [
    {
     "name": "stdout",
     "output_type": "stream",
     "text": [
      "       GAS_AMOUNT  O2_AMOUNT  HEATID        MWh\n",
      "0          1160.0     3659.0  5F0002   4.781944\n",
      "1          1117.0     3469.0  5F0003  12.317708\n",
      "2          1204.0     3605.0  5F0004   7.157986\n",
      "3          1191.0     3678.0  5F0005  10.843160\n",
      "4          1171.0     3655.0  5F0006  11.211806\n",
      "...           ...        ...     ...        ...\n",
      "20534       575.0     4097.0  8F5223   9.416875\n",
      "20535       584.0     3801.0  8F5226   8.573194\n",
      "20536       624.0     4219.0  8F5227   9.683472\n",
      "20537       717.0     4416.0  8F5471   4.566250\n",
      "20538       509.0     4028.0  8F5472   2.290833\n",
      "\n",
      "[20539 rows x 4 columns]\n"
     ]
    }
   ],
   "source": [
    "dfXD = dfGasLast1.merge(dfT3, on='HEATID', how='inner')\n",
    "print(dfXD)\n",
    "\n",
    "\n"
   ]
  },
  {
   "cell_type": "code",
   "execution_count": 114,
   "metadata": {},
   "outputs": [
    {
     "data": {
      "text/html": [
       "<div>\n",
       "<style scoped>\n",
       "    .dataframe tbody tr th:only-of-type {\n",
       "        vertical-align: middle;\n",
       "    }\n",
       "\n",
       "    .dataframe tbody tr th {\n",
       "        vertical-align: top;\n",
       "    }\n",
       "\n",
       "    .dataframe thead th {\n",
       "        text-align: right;\n",
       "    }\n",
       "</style>\n",
       "<table border=\"1\" class=\"dataframe\">\n",
       "  <thead>\n",
       "    <tr style=\"text-align: right;\">\n",
       "      <th></th>\n",
       "      <th>GAS_AMOUNT</th>\n",
       "      <th>O2_AMOUNT</th>\n",
       "      <th>MWh</th>\n",
       "    </tr>\n",
       "  </thead>\n",
       "  <tbody>\n",
       "    <tr>\n",
       "      <th>GAS_AMOUNT</th>\n",
       "      <td>1.000000</td>\n",
       "      <td>0.138179</td>\n",
       "      <td>0.007298</td>\n",
       "    </tr>\n",
       "    <tr>\n",
       "      <th>O2_AMOUNT</th>\n",
       "      <td>0.138179</td>\n",
       "      <td>1.000000</td>\n",
       "      <td>-0.153128</td>\n",
       "    </tr>\n",
       "    <tr>\n",
       "      <th>MWh</th>\n",
       "      <td>0.007298</td>\n",
       "      <td>-0.153128</td>\n",
       "      <td>1.000000</td>\n",
       "    </tr>\n",
       "  </tbody>\n",
       "</table>\n",
       "</div>"
      ],
      "text/plain": [
       "            GAS_AMOUNT  O2_AMOUNT       MWh\n",
       "GAS_AMOUNT    1.000000   0.138179  0.007298\n",
       "O2_AMOUNT     0.138179   1.000000 -0.153128\n",
       "MWh           0.007298  -0.153128  1.000000"
      ]
     },
     "execution_count": 114,
     "metadata": {},
     "output_type": "execute_result"
    }
   ],
   "source": [
    "dfXD1=dfXD.drop([\"HEATID\"],axis=1)\n",
    "\n",
    "\n",
    "dfXD1.corr()\n",
    "\n"
   ]
  },
  {
   "cell_type": "markdown",
   "metadata": {},
   "source": [
    "Let's see if the results are better with our new column"
   ]
  },
  {
   "cell_type": "code",
   "execution_count": 115,
   "metadata": {},
   "outputs": [],
   "source": [
    "dfExtreme=dfGasLast1.merge(dfHopeMore, on='HEATID', how='inner')\n"
   ]
  },
  {
   "cell_type": "code",
   "execution_count": 116,
   "metadata": {},
   "outputs": [],
   "source": [
    "dfExtr2=dfExtreme.drop([\"TOTAL_MWF\",\"TOTAL_DURATION_MINUTES\",\"Avg\"],axis=1)"
   ]
  },
  {
   "cell_type": "code",
   "execution_count": 117,
   "metadata": {},
   "outputs": [
    {
     "name": "stdout",
     "output_type": "stream",
     "text": [
      "       GAS_AMOUNT  O2_AMOUNT  HEATID  TOTAL_CHARGED_AMOUNT    VALC   VALSI  \\\n",
      "0          1160.0     3659.0  5F0002                128590  0.1457  0.2760   \n",
      "1          1117.0     3469.0  5F0003                128826  0.1359  0.2898   \n",
      "2          1204.0     3605.0  5F0004                133715  0.2183  0.3296   \n",
      "3          1191.0     3678.0  5F0005                129233  0.1436  0.2701   \n",
      "4          1171.0     3655.0  5F0006                132505  0.2368  0.2227   \n",
      "...           ...        ...     ...                   ...     ...     ...   \n",
      "20791       584.0     3801.0  8F5226                128886  0.1443  0.1296   \n",
      "20792       624.0     4219.0  8F5227                128737  0.1122  0.0914   \n",
      "20793       717.0     4416.0  8F5471                124999  0.1059  0.0643   \n",
      "20794       509.0     4028.0  8F5472                128222  0.1440  0.1991   \n",
      "20795       522.0     4255.0  8F5473                128664  0.1239  0.1820   \n",
      "\n",
      "        VALMN    VALP    VALS   VALCU   VALCR   VALMO   VALNI        MWh  \n",
      "0      0.5306  0.1457  0.0167  0.1998  0.5240  0.2760  0.1201   4.781944  \n",
      "1      0.5285  0.1359  0.0048  0.1897  0.5159  0.2898  0.1076  12.317708  \n",
      "2      1.1203  0.2183  0.0273  0.2372  0.0942  0.3296  0.1003   7.157986  \n",
      "3      0.5227  0.1436  0.0092  0.1948  0.4835  0.2701  0.1021  10.843160  \n",
      "4      1.3179  0.2368  0.0165  0.2437  0.0839  0.2227  0.1216  11.211806  \n",
      "...       ...     ...     ...     ...     ...     ...     ...        ...  \n",
      "20791  0.4355  0.0072  0.0083  0.1998  0.8328  0.1157  0.1525   8.573194  \n",
      "20792  0.4283  0.0076  0.0322  0.1949  0.7945  0.1156  0.1264   9.683472  \n",
      "20793  0.4618  0.0088  0.0149  0.1367  0.4242  0.2353  0.1087   4.566250  \n",
      "20794  0.4518  0.0072  0.0030  0.1390  0.8715  0.2654  0.1226   2.290833  \n",
      "20795  0.4102  0.0076  0.0063  0.1026  0.7973  0.2386  0.1107  15.257361  \n",
      "\n",
      "[20796 rows x 14 columns]\n"
     ]
    }
   ],
   "source": [
    "print(dfExtr2)"
   ]
  },
  {
   "cell_type": "code",
   "execution_count": 118,
   "metadata": {},
   "outputs": [],
   "source": [
    "YExtr=dfExtr2[\"MWh\"]\n",
    "XExtr1=dfExtr2.drop([\"HEATID\",\"MWh\"],axis=1)"
   ]
  },
  {
   "cell_type": "code",
   "execution_count": 119,
   "metadata": {},
   "outputs": [
    {
     "name": "stdout",
     "output_type": "stream",
     "text": [
      "   GAS_AMOUNT  O2_AMOUNT  TOTAL_CHARGED_AMOUNT      VALC     VALSI     VALMN  \\\n",
      "0    0.239175   0.193465              0.629451  0.168699  0.205541  0.234213   \n",
      "1    0.230309   0.183419              0.630341  0.154298  0.216371  0.233161   \n",
      "2    0.248247   0.190610              0.648769  0.275386  0.247606  0.529521   \n",
      "3    0.245567   0.194469              0.631875  0.165614  0.200910  0.230257   \n",
      "4    0.241443   0.193253              0.644208  0.302572  0.163711  0.628474   \n",
      "\n",
      "       VALP      VALS     VALCU     VALCR     VALMO     VALNI  \n",
      "0  0.343151  0.170022  0.343998  0.203102  0.220332  0.139968  \n",
      "1  0.319684  0.036913  0.318948  0.199725  0.231564  0.107143  \n",
      "2  0.517002  0.288591  0.436756  0.023929  0.263959  0.087973  \n",
      "3  0.338123  0.086130  0.331597  0.186218  0.215530  0.092700  \n",
      "4  0.561303  0.167785  0.452877  0.019635  0.176949  0.143908  \n"
     ]
    }
   ],
   "source": [
    "from sklearn.preprocessing import MinMaxScaler\n",
    "\n",
    "scaler = MinMaxScaler()\n",
    "\n",
    "numerical_cols = XExtr1.select_dtypes(include=['float64', 'int64']).columns\n",
    "\n",
    "XExtr = XExtr1.copy()\n",
    "XExtr[numerical_cols] = scaler.fit_transform(XExtr1[numerical_cols])\n",
    "\n",
    "print(XExtr.head())"
   ]
  },
  {
   "cell_type": "code",
   "execution_count": 120,
   "metadata": {},
   "outputs": [
    {
     "name": "stdout",
     "output_type": "stream",
     "text": [
      "RSS:\n",
      "25177.737544813244\n",
      "MSE: 6.05\n",
      "RMSE: 2.46\n",
      "Mean Absolute Error: 1.95\n",
      "Median Absolute Error: 1.64\n",
      "Explained Variance Score: 0.08\n",
      "R²: 0.08\n"
     ]
    }
   ],
   "source": [
    "\n",
    "from sklearn.model_selection import train_test_split\n",
    "XTrainExt, XTestExt, yTrainExt, yTestExt = train_test_split(XExtr, YExtr,test_size=0.2, random_state=42)\n",
    "from sklearn.linear_model import LinearRegression\n",
    "lReg1Ext = LinearRegression()\n",
    "lReg1Ext.fit(XTrainExt, yTrainExt)\n",
    "\n",
    "yPredLExt= lReg1Ext.predict(XTestExt)\n",
    "my_performance_report(yPredLExt,yTestExt)"
   ]
  },
  {
   "cell_type": "code",
   "execution_count": 121,
   "metadata": {},
   "outputs": [
    {
     "name": "stdout",
     "output_type": "stream",
     "text": [
      "RSS:\n",
      "21764.913032432836\n",
      "MSE: 5.23\n",
      "RMSE: 2.29\n",
      "Mean Absolute Error: 1.77\n",
      "Median Absolute Error: 1.44\n",
      "Explained Variance Score: 0.21\n",
      "R²: 0.21\n"
     ]
    }
   ],
   "source": [
    "from xgboost import XGBRegressor\n",
    "xgbX = XGBRegressor(n_estimators=100).fit(XTrainExt, yTrainExt)\n",
    "yPredXExt= xgbX.predict(XTestExt)\n",
    "my_performance_report(yPredXExt,yTestExt)"
   ]
  },
  {
   "cell_type": "markdown",
   "metadata": {},
   "source": [
    "We get a very good result! (compared to the previous ones), at least with XGBoost. This tells us that the relationships in our data are not very linear (since we get a good increment of explained variance)"
   ]
  },
  {
   "cell_type": "code",
   "execution_count": 122,
   "metadata": {},
   "outputs": [],
   "source": [
    "from sklearn.ensemble import RandomForestRegressor\n"
   ]
  },
  {
   "cell_type": "code",
   "execution_count": 123,
   "metadata": {},
   "outputs": [
    {
     "data": {
      "text/plain": [
       "'model = RandomForestRegressor(n_estimators=100, random_state=42).fit(XTrainExt, yTrainExt)\\ndump(model,\"1stRandomForest.joblib\")'"
      ]
     },
     "execution_count": 123,
     "metadata": {},
     "output_type": "execute_result"
    }
   ],
   "source": [
    "\"\"\"model = RandomForestRegressor(n_estimators=100, random_state=42).fit(XTrainExt, yTrainExt)\n",
    "dump(model,\"1stRandomForest.joblib\")\"\"\""
   ]
  },
  {
   "cell_type": "code",
   "execution_count": 124,
   "metadata": {},
   "outputs": [],
   "source": [
    "model=load(\"1stRandomForest.joblib\")"
   ]
  },
  {
   "cell_type": "code",
   "execution_count": 125,
   "metadata": {},
   "outputs": [
    {
     "name": "stdout",
     "output_type": "stream",
     "text": [
      "RSS:\n",
      "20377.022251966122\n",
      "MSE: 4.90\n",
      "RMSE: 2.21\n",
      "Mean Absolute Error: 1.73\n",
      "Median Absolute Error: 1.39\n",
      "Explained Variance Score: 0.26\n",
      "R²: 0.26\n"
     ]
    }
   ],
   "source": [
    "yPredRExt=model.predict(XTestExt)\n",
    "my_performance_report(yPredRExt,yTestExt)"
   ]
  },
  {
   "cell_type": "markdown",
   "metadata": {},
   "source": [
    "This results are very good compared to what we were getting earlier. This makes us decide that we are going to continue with this configuartion of variables. Let's see if treating outliers betters performance of our baseline models. "
   ]
  },
  {
   "cell_type": "code",
   "execution_count": 126,
   "metadata": {},
   "outputs": [
    {
     "name": "stdout",
     "output_type": "stream",
     "text": [
      "       GAS_AMOUNT  O2_AMOUNT  HEATID  TOTAL_CHARGED_AMOUNT    VALC   VALSI  \\\n",
      "0          1160.0     3659.0  5F0002                128590  0.1457  0.2760   \n",
      "1          1117.0     3469.0  5F0003                128826  0.1359  0.2898   \n",
      "2          1204.0     3605.0  5F0004                133715  0.2183  0.3296   \n",
      "3          1191.0     3678.0  5F0005                129233  0.1436  0.2701   \n",
      "4          1171.0     3655.0  5F0006                132505  0.2368  0.2227   \n",
      "...           ...        ...     ...                   ...     ...     ...   \n",
      "20791       584.0     3801.0  8F5226                128886  0.1443  0.1296   \n",
      "20792       624.0     4219.0  8F5227                128737  0.1122  0.0914   \n",
      "20793       717.0     4416.0  8F5471                124999  0.1059  0.0643   \n",
      "20794       509.0     4028.0  8F5472                128222  0.1440  0.1991   \n",
      "20795       522.0     4255.0  8F5473                128664  0.1239  0.1820   \n",
      "\n",
      "        VALMN    VALP    VALS   VALCU   VALCR   VALMO   VALNI        MWh  \n",
      "0      0.5306  0.1457  0.0167  0.1998  0.5240  0.2760  0.1201   4.781944  \n",
      "1      0.5285  0.1359  0.0048  0.1897  0.5159  0.2898  0.1076  12.317708  \n",
      "2      1.1203  0.2183  0.0273  0.2372  0.0942  0.3296  0.1003   7.157986  \n",
      "3      0.5227  0.1436  0.0092  0.1948  0.4835  0.2701  0.1021  10.843160  \n",
      "4      1.3179  0.2368  0.0165  0.2437  0.0839  0.2227  0.1216  11.211806  \n",
      "...       ...     ...     ...     ...     ...     ...     ...        ...  \n",
      "20791  0.4355  0.0072  0.0083  0.1998  0.8328  0.1157  0.1525   8.573194  \n",
      "20792  0.4283  0.0076  0.0322  0.1949  0.7945  0.1156  0.1264   9.683472  \n",
      "20793  0.4618  0.0088  0.0149  0.1367  0.4242  0.2353  0.1087   4.566250  \n",
      "20794  0.4518  0.0072  0.0030  0.1390  0.8715  0.2654  0.1226   2.290833  \n",
      "20795  0.4102  0.0076  0.0063  0.1026  0.7973  0.2386  0.1107  15.257361  \n",
      "\n",
      "[20796 rows x 14 columns]\n"
     ]
    }
   ],
   "source": [
    "print(dfExtr2)"
   ]
  },
  {
   "cell_type": "markdown",
   "metadata": {},
   "source": [
    "We treat outliers in our material values variables by doing logarithmic transformation"
   ]
  },
  {
   "cell_type": "code",
   "execution_count": 127,
   "metadata": {},
   "outputs": [
    {
     "name": "stdout",
     "output_type": "stream",
     "text": [
      "       GAS_AMOUNT  O2_AMOUNT  HEATID  TOTAL_CHARGED_AMOUNT      VALC  \\\n",
      "0          1160.0     3659.0  5F0002                128590  0.136016   \n",
      "1          1117.0     3469.0  5F0003                128826  0.127425   \n",
      "2          1204.0     3605.0  5F0004                133715  0.197456   \n",
      "3          1191.0     3678.0  5F0005                129233  0.134181   \n",
      "4          1171.0     3655.0  5F0006                132505  0.212527   \n",
      "...           ...        ...     ...                   ...       ...   \n",
      "20791       584.0     3801.0  8F5226                128886  0.134793   \n",
      "20792       624.0     4219.0  8F5227                128737  0.106340   \n",
      "20793       717.0     4416.0  8F5471                124999  0.100659   \n",
      "20794       509.0     4028.0  8F5472                128222  0.134531   \n",
      "20795       522.0     4255.0  8F5473                128664  0.116805   \n",
      "\n",
      "          VALSI     VALMN      VALP      VALS     VALCU     VALCR     VALMO  \\\n",
      "0      0.243730  0.425660  0.136016  0.016562  0.182155  0.421338  0.243730   \n",
      "1      0.254487  0.424287  0.127425  0.004789  0.173701  0.416009  0.254487   \n",
      "2      0.284878  0.751558  0.197456  0.026934  0.212851  0.090024  0.284878   \n",
      "3      0.239096  0.420485  0.134181  0.009158  0.177979  0.394404  0.239096   \n",
      "4      0.201062  0.840662  0.212527  0.016365  0.218091  0.080566  0.201062   \n",
      "...         ...       ...       ...       ...       ...       ...       ...   \n",
      "20791  0.121864  0.361513  0.007174  0.008266  0.182155  0.605845  0.109482   \n",
      "20792  0.087461  0.356485  0.007571  0.031692  0.178062  0.584726  0.109392   \n",
      "20793  0.062317  0.379669  0.008762  0.014790  0.128129  0.353610  0.211314   \n",
      "20794  0.181571  0.372804  0.007174  0.002996  0.130151  0.626740  0.235388   \n",
      "20795  0.167208  0.343732  0.007571  0.006280  0.097671  0.586286  0.213982   \n",
      "\n",
      "          VALNI        MWh  \n",
      "0      0.113418   4.781944  \n",
      "1      0.102196  12.317708  \n",
      "2      0.095583   7.157986  \n",
      "3      0.097217  10.843160  \n",
      "4      0.114756  11.211806  \n",
      "...         ...        ...  \n",
      "20791  0.141933   8.573194  \n",
      "20792  0.119027   9.683472  \n",
      "20793  0.103188   4.566250  \n",
      "20794  0.115647   2.290833  \n",
      "20795  0.104990  15.257361  \n",
      "\n",
      "[20796 rows x 14 columns]\n"
     ]
    }
   ],
   "source": [
    "dfExtr3=dfExtr2.copy()\n",
    "\n",
    "val_columns = dfExtr2.filter(like=\"VAL\").columns\n",
    "\n",
    "dfExtr3[val_columns] = dfExtr2[val_columns].apply(lambda x: np.log(x + 1))\n",
    "\n",
    "print(dfExtr3)"
   ]
  },
  {
   "cell_type": "markdown",
   "metadata": {},
   "source": [
    "Now we look at charged amount outliers"
   ]
  },
  {
   "cell_type": "code",
   "execution_count": 128,
   "metadata": {},
   "outputs": [
    {
     "name": "stdout",
     "output_type": "stream",
     "text": [
      "20796\n",
      "IQR= ( 117148.5 , 152922.5 )\n",
      "Number of outliers for TOTAL_CHARGED_AMOUNT: 1480\n",
      "Max outlier: 226897\n",
      "Min outlier: -38404\n"
     ]
    }
   ],
   "source": [
    "outFCharged=find_outliers_IQR(dfExtr3,\"TOTAL_CHARGED_AMOUNT\")"
   ]
  },
  {
   "cell_type": "code",
   "execution_count": 129,
   "metadata": {},
   "outputs": [
    {
     "name": "stdout",
     "output_type": "stream",
     "text": [
      "2\n"
     ]
    }
   ],
   "source": [
    "print((dfExtr3['TOTAL_CHARGED_AMOUNT'] < 0).sum())"
   ]
  },
  {
   "cell_type": "markdown",
   "metadata": {},
   "source": [
    "We might have to re-engineer this column, since we might have added negative values to our total_charged_amount column."
   ]
  },
  {
   "cell_type": "code",
   "execution_count": 130,
   "metadata": {},
   "outputs": [
    {
     "name": "stdout",
     "output_type": "stream",
     "text": [
      "489\n"
     ]
    }
   ],
   "source": [
    "print((dfCharged1['CHARGED_AMOUNT'] < 0).sum())"
   ]
  },
  {
   "cell_type": "markdown",
   "metadata": {},
   "source": [
    "And we have, indeed, done so. This might also be a problem with our gas variables. We proceed with the treating of this column."
   ]
  },
  {
   "cell_type": "code",
   "execution_count": 131,
   "metadata": {},
   "outputs": [
    {
     "name": "stdout",
     "output_type": "stream",
     "text": [
      "       HEATID  TOTAL_CHARGED_AMOUNT2\n",
      "0      5F0002                 128590\n",
      "1      5F0003                 128826\n",
      "2      5F0004                 133715\n",
      "3      5F0005                 129233\n",
      "4      5F0006                 132505\n",
      "...       ...                    ...\n",
      "20801  8F5226                 128886\n",
      "20802  8F5227                 128737\n",
      "20803  8F5471                 124999\n",
      "20804  8F5472                 128222\n",
      "20805  8F5473                 128664\n",
      "\n",
      "[20806 rows x 2 columns]\n"
     ]
    }
   ],
   "source": [
    "dfCharged2=dfCharged1.loc[dfCharged1['CHARGED_AMOUNT'] >= 0]\n",
    "totalKg2 = dfCharged2.groupby('HEATID')['CHARGED_AMOUNT'].sum().reset_index()\n",
    "\n",
    "totalKg2.columns = ['HEATID', 'TOTAL_CHARGED_AMOUNT2']\n",
    "\n",
    "print(totalKg2)"
   ]
  },
  {
   "cell_type": "code",
   "execution_count": 132,
   "metadata": {},
   "outputs": [
    {
     "name": "stdout",
     "output_type": "stream",
     "text": [
      "20806\n",
      "IQR= ( 117250.0 , 152984.0 )\n",
      "Number of outliers for TOTAL_CHARGED_AMOUNT2: 1576\n",
      "Max outlier: 294360\n",
      "Min outlier: 0\n"
     ]
    }
   ],
   "source": [
    "outCharged2=find_outliers_IQR(totalKg2,\"TOTAL_CHARGED_AMOUNT2\")\n"
   ]
  },
  {
   "cell_type": "markdown",
   "metadata": {},
   "source": [
    "This, however, does not seem to bother too much the outliers"
   ]
  },
  {
   "cell_type": "code",
   "execution_count": 133,
   "metadata": {},
   "outputs": [
    {
     "data": {
      "text/plain": [
       "<seaborn.axisgrid.FacetGrid at 0x19928e20190>"
      ]
     },
     "execution_count": 133,
     "metadata": {},
     "output_type": "execute_result"
    },
    {
     "data": {
      "image/png": "[encoded data removed]",
      "text/plain": [
       "<Figure size 500x500 with 1 Axes>"
      ]
     },
     "metadata": {},
     "output_type": "display_data"
    }
   ],
   "source": [
    "sns.displot(totalKg2,x=\"TOTAL_CHARGED_AMOUNT2\",stat=\"probability\")\n",
    "\n"
   ]
  },
  {
   "cell_type": "code",
   "execution_count": 134,
   "metadata": {},
   "outputs": [
    {
     "data": {
      "text/plain": [
       "'totalKg3=totalKg2.copy()\\ntotalKg3[\"TOTAL_CHARGED_AMOUNT2\"]=totalKg3[\"TOTAL_CHARGED_AMOUNT2\"].apply(lambda x: np.log(x + 1))\\n\\nprint(totalKg3)'"
      ]
     },
     "execution_count": 134,
     "metadata": {},
     "output_type": "execute_result"
    }
   ],
   "source": [
    "\"\"\"totalKg3=totalKg2.copy()\n",
    "totalKg3[\"TOTAL_CHARGED_AMOUNT2\"]=totalKg3[\"TOTAL_CHARGED_AMOUNT2\"].apply(lambda x: np.log(x + 1))\n",
    "\n",
    "print(totalKg3)\"\"\"\n",
    "\n",
    "#we tried doing a log transformation, but it was not effective"
   ]
  },
  {
   "cell_type": "code",
   "execution_count": 135,
   "metadata": {},
   "outputs": [
    {
     "name": "stdout",
     "output_type": "stream",
     "text": [
      "number of under-normal values: 640\n",
      "number of up-normal values: 18\n"
     ]
    }
   ],
   "source": [
    "print(\"number of under-normal values:\",(totalKg2['TOTAL_CHARGED_AMOUNT2'] < 20000).sum())\n",
    "print(\"number of up-normal values:\",(totalKg2['TOTAL_CHARGED_AMOUNT2'] > 220000).sum())"
   ]
  },
  {
   "cell_type": "markdown",
   "metadata": {},
   "source": [
    "This seems like a reasonable number of rows to drop, about 3% of our dataset. It does look also like the values we are dropping are mainly mismeasurements"
   ]
  },
  {
   "cell_type": "code",
   "execution_count": 136,
   "metadata": {},
   "outputs": [],
   "source": [
    "totalKg3 = totalKg2[(totalKg2['TOTAL_CHARGED_AMOUNT2'] >= 20000) & (totalKg2['TOTAL_CHARGED_AMOUNT2'] <= 200000)]\n"
   ]
  },
  {
   "cell_type": "code",
   "execution_count": 137,
   "metadata": {},
   "outputs": [],
   "source": [
    "dfExtr4=totalKg3.merge(dfExtr3,on='HEATID',how=\"inner\")\n",
    "dfExtr5=dfExtr4.drop(\"TOTAL_CHARGED_AMOUNT\",axis=1)"
   ]
  },
  {
   "cell_type": "code",
   "execution_count": 138,
   "metadata": {},
   "outputs": [
    {
     "name": "stdout",
     "output_type": "stream",
     "text": [
      "       HEATID  TOTAL_CHARGED_AMOUNT2  GAS_AMOUNT  O2_AMOUNT  \\\n",
      "0      5F0002                 128590      1160.0     3659.0   \n",
      "1      5F0003                 128826      1117.0     3469.0   \n",
      "2      5F0004                 133715      1204.0     3605.0   \n",
      "3      5F0005                 129233      1191.0     3678.0   \n",
      "4      5F0006                 132505      1171.0     3655.0   \n",
      "...       ...                    ...         ...        ...   \n",
      "20113  8F5226                 128886       584.0     3801.0   \n",
      "20114  8F5227                 128737       624.0     4219.0   \n",
      "20115  8F5471                 124999       717.0     4416.0   \n",
      "20116  8F5472                 128222       509.0     4028.0   \n",
      "20117  8F5473                 128664       522.0     4255.0   \n",
      "\n",
      "       TOTAL_CHARGED_AMOUNT      VALC     VALSI     VALMN      VALP      VALS  \\\n",
      "0                    128590  0.136016  0.243730  0.425660  0.136016  0.016562   \n",
      "1                    128826  0.127425  0.254487  0.424287  0.127425  0.004789   \n",
      "2                    133715  0.197456  0.284878  0.751558  0.197456  0.026934   \n",
      "3                    129233  0.134181  0.239096  0.420485  0.134181  0.009158   \n",
      "4                    132505  0.212527  0.201062  0.840662  0.212527  0.016365   \n",
      "...                     ...       ...       ...       ...       ...       ...   \n",
      "20113                128886  0.134793  0.121864  0.361513  0.007174  0.008266   \n",
      "20114                128737  0.106340  0.087461  0.356485  0.007571  0.031692   \n",
      "20115                124999  0.100659  0.062317  0.379669  0.008762  0.014790   \n",
      "20116                128222  0.134531  0.181571  0.372804  0.007174  0.002996   \n",
      "20117                128664  0.116805  0.167208  0.343732  0.007571  0.006280   \n",
      "\n",
      "          VALCU     VALCR     VALMO     VALNI        MWh  \n",
      "0      0.182155  0.421338  0.243730  0.113418   4.781944  \n",
      "1      0.173701  0.416009  0.254487  0.102196  12.317708  \n",
      "2      0.212851  0.090024  0.284878  0.095583   7.157986  \n",
      "3      0.177979  0.394404  0.239096  0.097217  10.843160  \n",
      "4      0.218091  0.080566  0.201062  0.114756  11.211806  \n",
      "...         ...       ...       ...       ...        ...  \n",
      "20113  0.182155  0.605845  0.109482  0.141933   8.573194  \n",
      "20114  0.178062  0.584726  0.109392  0.119027   9.683472  \n",
      "20115  0.128129  0.353610  0.211314  0.103188   4.566250  \n",
      "20116  0.130151  0.626740  0.235388  0.115647   2.290833  \n",
      "20117  0.097671  0.586286  0.213982  0.104990  15.257361  \n",
      "\n",
      "[20118 rows x 15 columns]\n"
     ]
    }
   ],
   "source": [
    "print(dfExtr4)"
   ]
  },
  {
   "cell_type": "code",
   "execution_count": 139,
   "metadata": {},
   "outputs": [],
   "source": [
    "Yfff=dfExtr5[\"MWh\"]\n",
    "Xfff=dfExtr5.drop([\"MWh\",\"HEATID\"],axis=1)"
   ]
  },
  {
   "cell_type": "code",
   "execution_count": 140,
   "metadata": {},
   "outputs": [
    {
     "name": "stdout",
     "output_type": "stream",
     "text": [
      "   TOTAL_CHARGED_AMOUNT2  GAS_AMOUNT  O2_AMOUNT      VALC     VALSI     VALMN  \\\n",
      "0               0.603982    0.239175   0.193465  0.208301  0.282289  0.344880   \n",
      "1               0.605295    0.230309   0.183419  0.191353  0.295507  0.343582   \n",
      "2               0.632488    0.248247   0.190610  0.329515  0.332851  0.653102   \n",
      "3               0.607559    0.245567   0.194469  0.204682  0.276594  0.339986   \n",
      "4               0.625758    0.241443   0.193253  0.359247  0.229858  0.737373   \n",
      "\n",
      "       VALP      VALS     VALCU     VALCR     VALMO     VALNI  \n",
      "0  0.383675  0.176169  0.381434  0.321521  0.298629  0.159723  \n",
      "1  0.359008  0.038473  0.355186  0.317073  0.312101  0.122958  \n",
      "2  0.560097  0.297472  0.476741  0.044977  0.350163  0.101294  \n",
      "3  0.378407  0.089575  0.368467  0.299040  0.292825  0.106649  \n",
      "4  0.603372  0.173868  0.493011  0.037082  0.245190  0.164107  \n"
     ]
    }
   ],
   "source": [
    "\n",
    "\n",
    "from sklearn.preprocessing import MinMaxScaler\n",
    "\n",
    "scaler = MinMaxScaler()\n",
    "\n",
    "numerical_cols = Xfff.select_dtypes(include=['float64', 'int64']).columns\n",
    "\n",
    "Xfff1 = Xfff.copy()\n",
    "Xfff1[numerical_cols] = scaler.fit_transform(Xfff1[numerical_cols])\n",
    "\n",
    "print(Xfff1.head())\n",
    "\n",
    "\n",
    "\n"
   ]
  },
  {
   "cell_type": "code",
   "execution_count": 141,
   "metadata": {},
   "outputs": [
    {
     "name": "stdout",
     "output_type": "stream",
     "text": [
      "RSS:\n",
      "25825.722503349214\n",
      "MSE: 6.42\n",
      "RMSE: 2.53\n",
      "Mean Absolute Error: 1.98\n",
      "Median Absolute Error: 1.63\n",
      "Explained Variance Score: 0.09\n",
      "R²: 0.09\n"
     ]
    }
   ],
   "source": [
    "from sklearn.model_selection import train_test_split\n",
    "XTrainFff, XTestFff, yTrainFff, yTestFff = train_test_split(Xfff1, Yfff, test_size=0.2,random_state=42)\n",
    "from sklearn.linear_model import LinearRegression\n",
    "lReg1Fff = LinearRegression()\n",
    "lReg1Fff.fit(XTrainFff, yTrainFff)\n",
    "\n",
    "yPredLFff= lReg1Fff.predict(XTestFff)\n",
    "my_performance_report(yPredLFff,yTestFff)"
   ]
  },
  {
   "cell_type": "code",
   "execution_count": 142,
   "metadata": {},
   "outputs": [
    {
     "name": "stdout",
     "output_type": "stream",
     "text": [
      "RSS:\n",
      "22327.33196489308\n",
      "MSE: 5.55\n",
      "RMSE: 2.36\n",
      "Mean Absolute Error: 1.82\n",
      "Median Absolute Error: 1.50\n",
      "Explained Variance Score: 0.21\n",
      "R²: 0.21\n"
     ]
    }
   ],
   "source": [
    "from xgboost import XGBRegressor\n",
    "xgbF = XGBRegressor(n_estimators=100).fit(XTrainFff, yTrainFff)\n",
    "yPredXFff= xgbF.predict(XTestFff)\n",
    "my_performance_report(yPredXFff,yTestFff)"
   ]
  },
  {
   "cell_type": "markdown",
   "metadata": {},
   "source": [
    "Performance does not improve, but the data we are using is more consistent."
   ]
  },
  {
   "cell_type": "code",
   "execution_count": 143,
   "metadata": {},
   "outputs": [],
   "source": [
    "from sklearn.ensemble import RandomForestRegressor"
   ]
  },
  {
   "cell_type": "code",
   "execution_count": 144,
   "metadata": {},
   "outputs": [
    {
     "data": {
      "text/plain": [
       "'model2 = RandomForestRegressor(n_estimators=100, random_state=42).fit(XTrainFff, yTrainFff)\\ndump(model2,\"randomForestRegressor2nd.joblib\")'"
      ]
     },
     "execution_count": 144,
     "metadata": {},
     "output_type": "execute_result"
    }
   ],
   "source": [
    "\"\"\"model2 = RandomForestRegressor(n_estimators=100, random_state=42).fit(XTrainFff, yTrainFff)\n",
    "dump(model2,\"randomForestRegressor2nd.joblib\")\"\"\""
   ]
  },
  {
   "cell_type": "code",
   "execution_count": 145,
   "metadata": {},
   "outputs": [],
   "source": [
    "model2=load(\"randomForestRegressor2nd.joblib\")"
   ]
  },
  {
   "cell_type": "code",
   "execution_count": 146,
   "metadata": {},
   "outputs": [
    {
     "name": "stdout",
     "output_type": "stream",
     "text": [
      "RSS:\n",
      "21102.389424977504\n",
      "MSE: 5.24\n",
      "RMSE: 2.29\n",
      "Mean Absolute Error: 1.78\n",
      "Median Absolute Error: 1.44\n",
      "Explained Variance Score: 0.26\n",
      "R²: 0.26\n"
     ]
    }
   ],
   "source": [
    "yPredRFff=model2.predict(XTestFff)\n",
    "my_performance_report(yPredRFff,yTestFff)"
   ]
  },
  {
   "cell_type": "code",
   "execution_count": 147,
   "metadata": {},
   "outputs": [
    {
     "data": {
      "text/plain": [
       "\"modelnn = Sequential([\\n    Dense(128, activation='relu', input_shape=(12,)), \\n    Dense(64, activation='relu'),                     \\n    Dense(1)                                          \\n])\\n\\nmodelnn.compile(optimizer='adam', loss='mse', metrics=['mae'])\\n\\n\\nhistory = modelnn.fit(XTrainFff, yTrainFff, epochs=100, batch_size=32, validation_split=0.2, verbose=0)\\n\\nmodelnn.save('neuralNetworkModel1.keras')\\n\\n# Guardar el historial\\nwith open('modelnn_history1.pkl', 'wb') as file:\\n    pickle.dump(history.history, file)\\n\""
      ]
     },
     "execution_count": 147,
     "metadata": {},
     "output_type": "execute_result"
    }
   ],
   "source": [
    "import tensorflow as tf\n",
    "from tensorflow.keras.models import Sequential\n",
    "from tensorflow.keras.layers import Dense\n",
    "from tensorflow import keras\n",
    "import pickle\n",
    "\n",
    "\"\"\"modelnn = Sequential([\n",
    "    Dense(128, activation='relu', input_shape=(12,)), \n",
    "    Dense(64, activation='relu'),                     \n",
    "    Dense(1)                                          \n",
    "])\n",
    "\n",
    "modelnn.compile(optimizer='adam', loss='mse', metrics=['mae'])\n",
    "\n",
    "\n",
    "history = modelnn.fit(XTrainFff, yTrainFff, epochs=100, batch_size=32, validation_split=0.2, verbose=0)\n",
    "\n",
    "modelnn.save('neuralNetworkModel1.keras')\n",
    "\n",
    "# Guardar el historial\n",
    "with open('modelnn_history1.pkl', 'wb') as file:\n",
    "    pickle.dump(history.history, file)\n",
    "\"\"\""
   ]
  },
  {
   "cell_type": "code",
   "execution_count": 148,
   "metadata": {},
   "outputs": [],
   "source": [
    "modelnn = keras.models.load_model('neuralNetworkModel1.keras')\n",
    "\n",
    "# Cargar el historial\n",
    "with open('modelnn_history1.pkl', 'rb') as file:\n",
    "    history = pickle.load(file)"
   ]
  },
  {
   "cell_type": "code",
   "execution_count": null,
   "metadata": {},
   "outputs": [
    {
     "name": "stdout",
     "output_type": "stream",
     "text": [
      "\u001b[1m126/126\u001b[0m \u001b[32m━━━━━━━━━━━━━━━━━━━━\u001b[0m\u001b[37m\u001b[0m \u001b[1m0s\u001b[0m 2ms/step\n",
      "RSS:\n",
      "34171.09273147823\n",
      "MSE: 8.49\n",
      "RMSE: 2.91\n",
      "Mean Absolute Error: 2.17\n",
      "Median Absolute Error: 1.52\n",
      "Explained Variance Score: -0.03\n",
      "R²: -0.20\n"
     ]
    }
   ],
   "source": [
    "yPredNNFff=modelnn.predict(XTestFff).ravel()\n",
    "my_performance_report(yPredNNFff,yTestFff)\n",
    "#this values are a mistake, I will re-run this if I have time, original values were about 0.17 R2"
   ]
  },
  {
   "cell_type": "markdown",
   "metadata": {},
   "source": [
    "Even though results have not improved a lot, we think we have done an important task of removing faulty values. Since it seems like the extreme values in charged amount seem to be quite important (not the faulty values we have removed, but the values between 20 and 100 tons, which we hope are not mistakes) we will keep them. After trying multiple types of scaling, Standard Scaling worked the best for us, so it is the one we will be using from now on."
   ]
  },
  {
   "cell_type": "markdown",
   "metadata": {},
   "source": [
    "We tried dropping outliers in the dependent variable, but we lost some accuracy and the values made sense, so we focused on more pressing matters. For a more thorough analysis, it could be advisable to look into them further. "
   ]
  },
  {
   "cell_type": "markdown",
   "metadata": {},
   "source": [
    "We continue treating outliers"
   ]
  },
  {
   "cell_type": "code",
   "execution_count": 150,
   "metadata": {},
   "outputs": [
    {
     "name": "stdout",
     "output_type": "stream",
     "text": [
      "20118\n",
      "IQR= ( 1.7554904513888872 , 14.966914062500003 )\n",
      "Number of outliers for MWh: 224\n",
      "Max outlier: 47.222175\n",
      "Min outlier: 0.008125\n"
     ]
    }
   ],
   "source": [
    "out_MWhExt=find_outliers_IQR(dfExtr5,\"MWh\")"
   ]
  },
  {
   "cell_type": "markdown",
   "metadata": {},
   "source": [
    "We tried dropping all the outliers again, but we lost accuracy, so we are just going to drop some extreme isolated values. This will make us lose some accuracy anyway, but we feel like the dropping is justified, since these values are most likely mistakes."
   ]
  },
  {
   "cell_type": "code",
   "execution_count": 151,
   "metadata": {},
   "outputs": [
    {
     "data": {
      "text/plain": [
       "<seaborn.axisgrid.FacetGrid at 0x19969755fd0>"
      ]
     },
     "execution_count": 151,
     "metadata": {},
     "output_type": "execute_result"
    },
    {
     "data": {
      "image/png": "[encoded data removed]",
      "text/plain": [
       "<Figure size 500x500 with 1 Axes>"
      ]
     },
     "metadata": {},
     "output_type": "display_data"
    }
   ],
   "source": [
    "sns.displot(dfExtr5,x=\"MWh\",stat=\"probability\")"
   ]
  },
  {
   "cell_type": "code",
   "execution_count": 152,
   "metadata": {},
   "outputs": [
    {
     "name": "stdout",
     "output_type": "stream",
     "text": [
      "number of under-normal values: 25\n",
      "number of up-normal values: 3\n"
     ]
    }
   ],
   "source": [
    "print(\"number of under-normal values:\",(dfExtr5['MWh'] < 1.5).sum())\n",
    "print(\"number of up-normal values:\",(dfExtr5['MWh'] > 21).sum())"
   ]
  },
  {
   "cell_type": "code",
   "execution_count": 153,
   "metadata": {},
   "outputs": [],
   "source": [
    "dfExtr6=dfExtr5[(dfExtr5['MWh'] >= 1.5) & (dfExtr5['MWh'] <= 21)]\n"
   ]
  },
  {
   "cell_type": "markdown",
   "metadata": {},
   "source": [
    "Now we treat gas and oxygen outliers. "
   ]
  },
  {
   "cell_type": "code",
   "execution_count": 154,
   "metadata": {},
   "outputs": [
    {
     "name": "stdout",
     "output_type": "stream",
     "text": [
      "20090\n",
      "IQR= ( 3006.0 , 5542.0 )\n",
      "Number of outliers for O2_AMOUNT: 326\n",
      "Max outlier: 18913.0\n",
      "Min outlier: 979.0\n"
     ]
    }
   ],
   "source": [
    "out_o2Ext=find_outliers_IQR(dfExtr6,\"O2_AMOUNT\")"
   ]
  },
  {
   "cell_type": "code",
   "execution_count": 155,
   "metadata": {},
   "outputs": [
    {
     "data": {
      "text/plain": [
       "<seaborn.axisgrid.FacetGrid at 0x1997ad657d0>"
      ]
     },
     "execution_count": 155,
     "metadata": {},
     "output_type": "execute_result"
    },
    {
     "data": {
      "image/png": "[encoded data removed]",
      "text/plain": [
       "<Figure size 500x500 with 1 Axes>"
      ]
     },
     "metadata": {},
     "output_type": "display_data"
    }
   ],
   "source": [
    "sns.displot(dfExtr6,x=\"O2_AMOUNT\",stat=\"probability\")"
   ]
  },
  {
   "cell_type": "markdown",
   "metadata": {},
   "source": [
    "For both columns, it seemed like we lost vital information dropping the outliers, so we will not touch them. We will, however, perform a square root transformation to try to mitigate some of the sparsity of the data."
   ]
  },
  {
   "cell_type": "code",
   "execution_count": 156,
   "metadata": {},
   "outputs": [],
   "source": [
    "dfExtr7=dfExtr6.copy()\n",
    "\n",
    "dfExtr7['O2_AMOUNT'] = np.sqrt(dfExtr6['O2_AMOUNT'])"
   ]
  },
  {
   "cell_type": "code",
   "execution_count": 157,
   "metadata": {},
   "outputs": [
    {
     "data": {
      "text/plain": [
       "<seaborn.axisgrid.FacetGrid at 0x1997cc97cd0>"
      ]
     },
     "execution_count": 157,
     "metadata": {},
     "output_type": "execute_result"
    },
    {
     "data": {
      "image/png": "[encoded data removed]",
      "text/plain": [
       "<Figure size 500x500 with 1 Axes>"
      ]
     },
     "metadata": {},
     "output_type": "display_data"
    }
   ],
   "source": [
    "sns.displot(dfExtr7,x=\"O2_AMOUNT\",stat=\"probability\")"
   ]
  },
  {
   "cell_type": "code",
   "execution_count": 158,
   "metadata": {},
   "outputs": [
    {
     "name": "stdout",
     "output_type": "stream",
     "text": [
      "20090\n",
      "IQR= ( 55.62634682425599 , 75.03526145094992 )\n",
      "Number of outliers for O2_AMOUNT: 280\n",
      "Max outlier: 137.5245432641025\n",
      "Min outlier: 31.28897569432403\n"
     ]
    }
   ],
   "source": [
    "out_o2Ex2=find_outliers_IQR(dfExtr7,\"O2_AMOUNT\")"
   ]
  },
  {
   "cell_type": "code",
   "execution_count": 159,
   "metadata": {},
   "outputs": [],
   "source": [
    "Ymax=dfExtr7[\"MWh\"]\n",
    "Xmax=dfExtr7.drop([\"MWh\",\"HEATID\"],axis=1)"
   ]
  },
  {
   "cell_type": "code",
   "execution_count": 160,
   "metadata": {},
   "outputs": [
    {
     "name": "stdout",
     "output_type": "stream",
     "text": [
      "   TOTAL_CHARGED_AMOUNT2  GAS_AMOUNT  O2_AMOUNT      VALC     VALSI     VALMN  \\\n",
      "0              -0.336741    2.614297  -1.274638 -0.694751  0.124102 -0.855928   \n",
      "1              -0.320139    2.337109  -1.688350 -0.801798  0.233040 -0.861843   \n",
      "2               0.023784    2.897931  -1.391104  0.070862  0.540814  0.548100   \n",
      "3              -0.291508    2.814130  -1.233864 -0.717613  0.077167 -0.878221   \n",
      "4              -0.061335    2.685205  -1.283235  0.258661 -0.308010  0.931977   \n",
      "\n",
      "       VALP      VALS     VALCU     VALCR     VALMO     VALNI  \n",
      "0  4.620839 -0.529441  0.039019  2.640678  4.904990 -0.665700  \n",
      "1  4.301038 -1.912458 -0.350339  2.593153  5.147124 -1.205249  \n",
      "2  6.908103  0.688926  1.452802 -0.313950  5.831207 -1.523170  \n",
      "3  4.552542 -1.399191 -0.153321  2.400481  4.800669 -1.444583  \n",
      "4  7.469153 -0.552551  1.694147 -0.398294  3.944543 -0.601359  \n"
     ]
    }
   ],
   "source": [
    "from sklearn.preprocessing import StandardScaler\n",
    "\n",
    "scaler = StandardScaler()\n",
    "\n",
    "numerical_cols = Xmax.select_dtypes(include=['float64', 'int64']).columns\n",
    "\n",
    "Xmax1 = Xmax.copy()\n",
    "Xmax1[numerical_cols] = scaler.fit_transform(Xmax1[numerical_cols])\n",
    "\n",
    "print(Xmax1.head())\n",
    "\n"
   ]
  },
  {
   "cell_type": "code",
   "execution_count": 161,
   "metadata": {},
   "outputs": [
    {
     "name": "stdout",
     "output_type": "stream",
     "text": [
      "RSS:\n",
      "24072.63473424092\n",
      "MSE: 5.99\n",
      "RMSE: 2.45\n",
      "Mean Absolute Error: 1.93\n",
      "Median Absolute Error: 1.61\n",
      "Explained Variance Score: 0.09\n",
      "R²: 0.09\n"
     ]
    }
   ],
   "source": [
    "from sklearn.model_selection import train_test_split\n",
    "XTrainMax, XTestMax, yTrainMax, yTestMax = train_test_split(Xmax1, Ymax, test_size=0.2,random_state=42)\n",
    "from sklearn.linear_model import LinearRegression\n",
    "lReg1Max = LinearRegression()\n",
    "lReg1Max.fit(XTrainMax, yTrainMax)\n",
    "\n",
    "yPredLMax= lReg1Max.predict(XTestMax)\n",
    "my_performance_report(yPredLMax,yTestMax)\n",
    "\n",
    "\n"
   ]
  },
  {
   "cell_type": "code",
   "execution_count": 162,
   "metadata": {},
   "outputs": [
    {
     "name": "stdout",
     "output_type": "stream",
     "text": [
      "RSS:\n",
      "21092.079591239977\n",
      "MSE: 5.25\n",
      "RMSE: 2.29\n",
      "Mean Absolute Error: 1.79\n",
      "Median Absolute Error: 1.46\n",
      "Explained Variance Score: 0.21\n",
      "R²: 0.21\n"
     ]
    }
   ],
   "source": [
    "from xgboost import XGBRegressor\n",
    "xgbM = XGBRegressor(n_estimators=100).fit(XTrainMax, yTrainMax)\n",
    "yPredXMax= xgbM.predict(XTestMax)\n",
    "my_performance_report(yPredXMax,yTestMax)"
   ]
  },
  {
   "cell_type": "code",
   "execution_count": 163,
   "metadata": {},
   "outputs": [
    {
     "data": {
      "text/plain": [
       "'modelMax = RandomForestRegressor(n_estimators=100, random_state=42).fit(XTrainMax, yTrainMax)\\ndump(modelMax,\"randomforestregressor3.joblib\")'"
      ]
     },
     "execution_count": 163,
     "metadata": {},
     "output_type": "execute_result"
    }
   ],
   "source": [
    "from sklearn.ensemble import RandomForestRegressor\n",
    "\"\"\"modelMax = RandomForestRegressor(n_estimators=100, random_state=42).fit(XTrainMax, yTrainMax)\n",
    "dump(modelMax,\"randomforestregressor3.joblib\")\"\"\""
   ]
  },
  {
   "cell_type": "code",
   "execution_count": 164,
   "metadata": {},
   "outputs": [],
   "source": [
    "modelMax=load(\"randomforestregressor3.joblib\")"
   ]
  },
  {
   "cell_type": "code",
   "execution_count": 165,
   "metadata": {},
   "outputs": [
    {
     "name": "stdout",
     "output_type": "stream",
     "text": [
      "RSS:\n",
      "19920.250897287224\n",
      "MSE: 4.96\n",
      "RMSE: 2.23\n",
      "Mean Absolute Error: 1.73\n",
      "Median Absolute Error: 1.42\n",
      "Explained Variance Score: 0.25\n",
      "R²: 0.25\n"
     ]
    }
   ],
   "source": [
    "yPredRMax=modelMax.predict(XTestMax)\n",
    "my_performance_report(yPredRMax,yTestMax)"
   ]
  },
  {
   "cell_type": "code",
   "execution_count": 166,
   "metadata": {},
   "outputs": [
    {
     "name": "stdout",
     "output_type": "stream",
     "text": [
      "       TOTAL_CHARGED_AMOUNT2  GAS_AMOUNT  O2_AMOUNT      VALC     VALSI  \\\n",
      "8907                0.389234    0.293655  -0.930304 -0.236680 -0.154298   \n",
      "2813                0.530067    0.106715  -0.106137  0.810473 -0.227164   \n",
      "1606               -0.113391    0.184069  -1.897218  0.130045 -0.031857   \n",
      "10607               0.490392    0.158285  -0.058201  0.633800 -0.346182   \n",
      "19872              -0.249230   -0.853773  -0.198396  1.144283 -0.934968   \n",
      "...                      ...         ...        ...       ...       ...   \n",
      "6590               -0.354820    0.222747  -0.773365  0.061653 -0.610663   \n",
      "720                 0.147875    0.603074  -0.715162  0.110688 -0.394518   \n",
      "4340                0.395916   -0.408983  -0.513070 -0.019473 -0.632020   \n",
      "34                 -0.091865   -0.441214  -0.609681  1.446507 -0.107904   \n",
      "15913               0.034899   -0.202704   0.114440 -0.275530 -0.475875   \n",
      "\n",
      "          VALMN       VALP      VALS     VALCU     VALCR     VALMO     VALNI  \n",
      "8907  -1.123888  -0.120174 -1.399191  0.184662 -0.080674 -0.179670  1.606177  \n",
      "2813   0.690787  -0.190362  0.585969  1.530913 -0.461044 -0.268290 -0.434474  \n",
      "1606   0.938292  -0.175575  0.046835  0.409884 -0.381854 -0.223937 -0.285197  \n",
      "10607  0.681538  -0.046435  0.711793 -0.797713  0.279560 -0.084792  0.921697  \n",
      "19872  0.987929   0.041860 -0.022169 -0.524882 -0.097363 -0.230584 -0.344852  \n",
      "...         ...        ...       ...       ...       ...       ...       ...  \n",
      "6590   0.752072  -0.109104 -0.749169  0.092731 -0.257890 -0.292722 -0.443018  \n",
      "720    0.787775  -0.194060 -0.911338 -0.412323 -0.375286 -0.246103 -0.562795  \n",
      "4340   0.672665  -0.146017  0.035337  0.705954 -0.231203 -0.237234 -0.374708  \n",
      "34    -0.507323  11.017833  2.211259  0.872132 -0.178871  4.389314  0.763629  \n",
      "15913  0.529571  -0.138632 -0.402417 -1.391812 -0.362166 -0.254975 -1.335647  \n",
      "\n",
      "[4018 rows x 12 columns]\n"
     ]
    }
   ],
   "source": [
    "print(XTestMax) "
   ]
  },
  {
   "cell_type": "markdown",
   "metadata": {},
   "source": [
    "Now that we have more or less the preprocessing we wanted to do, it is time to start fine-tuning our models. When we have a satisfactory result for each of our models, we will create an ensemble model that hopefully can capture all the good things each method has."
   ]
  },
  {
   "cell_type": "markdown",
   "metadata": {},
   "source": [
    "MODEL AND PARAMETER TUNING."
   ]
  },
  {
   "cell_type": "markdown",
   "metadata": {},
   "source": [
    "L1 and L2 regression. "
   ]
  },
  {
   "cell_type": "code",
   "execution_count": 167,
   "metadata": {},
   "outputs": [
    {
     "name": "stdout",
     "output_type": "stream",
     "text": [
      "       HEATID  TOTAL_CHARGED_AMOUNT2  GAS_AMOUNT  O2_AMOUNT      VALC  \\\n",
      "0      5F0002                 128590      1160.0  60.489669  0.136016   \n",
      "1      5F0003                 128826      1117.0  58.898217  0.127425   \n",
      "2      5F0004                 133715      1204.0  60.041652  0.197456   \n",
      "3      5F0005                 129233      1191.0  60.646517  0.134181   \n",
      "4      5F0006                 132505      1171.0  60.456596  0.212527   \n",
      "...       ...                    ...         ...        ...       ...   \n",
      "20113  8F5226                 128886       584.0  61.652251  0.134793   \n",
      "20114  8F5227                 128737       624.0  64.953830  0.106340   \n",
      "20115  8F5471                 124999       717.0  66.452991  0.100659   \n",
      "20116  8F5472                 128222       509.0  63.466527  0.134531   \n",
      "20117  8F5473                 128664       522.0  65.230361  0.116805   \n",
      "\n",
      "          VALSI     VALMN      VALP      VALS     VALCU     VALCR     VALMO  \\\n",
      "0      0.243730  0.425660  0.136016  0.016562  0.182155  0.421338  0.243730   \n",
      "1      0.254487  0.424287  0.127425  0.004789  0.173701  0.416009  0.254487   \n",
      "2      0.284878  0.751558  0.197456  0.026934  0.212851  0.090024  0.284878   \n",
      "3      0.239096  0.420485  0.134181  0.009158  0.177979  0.394404  0.239096   \n",
      "4      0.201062  0.840662  0.212527  0.016365  0.218091  0.080566  0.201062   \n",
      "...         ...       ...       ...       ...       ...       ...       ...   \n",
      "20113  0.121864  0.361513  0.007174  0.008266  0.182155  0.605845  0.109482   \n",
      "20114  0.087461  0.356485  0.007571  0.031692  0.178062  0.584726  0.109392   \n",
      "20115  0.062317  0.379669  0.008762  0.014790  0.128129  0.353610  0.211314   \n",
      "20116  0.181571  0.372804  0.007174  0.002996  0.130151  0.626740  0.235388   \n",
      "20117  0.167208  0.343732  0.007571  0.006280  0.097671  0.586286  0.213982   \n",
      "\n",
      "          VALNI        MWh  \n",
      "0      0.113418   4.781944  \n",
      "1      0.102196  12.317708  \n",
      "2      0.095583   7.157986  \n",
      "3      0.097217  10.843160  \n",
      "4      0.114756  11.211806  \n",
      "...         ...        ...  \n",
      "20113  0.141933   8.573194  \n",
      "20114  0.119027   9.683472  \n",
      "20115  0.103188   4.566250  \n",
      "20116  0.115647   2.290833  \n",
      "20117  0.104990  15.257361  \n",
      "\n",
      "[20090 rows x 14 columns]\n"
     ]
    }
   ],
   "source": [
    "print(dfExtr7)"
   ]
  },
  {
   "cell_type": "code",
   "execution_count": 168,
   "metadata": {},
   "outputs": [],
   "source": [
    "Xtune=dfExtr7.drop([\"HEATID\",\"MWh\"],axis=1)\n",
    "yTune=dfExtr7[\"MWh\"]"
   ]
  },
  {
   "cell_type": "code",
   "execution_count": 169,
   "metadata": {},
   "outputs": [
    {
     "name": "stdout",
     "output_type": "stream",
     "text": [
      "   TOTAL_CHARGED_AMOUNT2  GAS_AMOUNT  O2_AMOUNT      VALC     VALSI     VALMN  \\\n",
      "0              -0.336741    2.614297  -1.274638 -0.694751  0.124102 -0.855928   \n",
      "1              -0.320139    2.337109  -1.688350 -0.801798  0.233040 -0.861843   \n",
      "2               0.023784    2.897931  -1.391104  0.070862  0.540814  0.548100   \n",
      "3              -0.291508    2.814130  -1.233864 -0.717613  0.077167 -0.878221   \n",
      "4              -0.061335    2.685205  -1.283235  0.258661 -0.308010  0.931977   \n",
      "\n",
      "       VALP      VALS     VALCU     VALCR     VALMO     VALNI  \n",
      "0  4.620839 -0.529441  0.039019  2.640678  4.904990 -0.665700  \n",
      "1  4.301038 -1.912458 -0.350339  2.593153  5.147124 -1.205249  \n",
      "2  6.908103  0.688926  1.452802 -0.313950  5.831207 -1.523170  \n",
      "3  4.552542 -1.399191 -0.153321  2.400481  4.800669 -1.444583  \n",
      "4  7.469153 -0.552551  1.694147 -0.398294  3.944543 -0.601359  \n"
     ]
    }
   ],
   "source": [
    "from sklearn.preprocessing import StandardScaler\n",
    "\n",
    "scaler = StandardScaler()\n",
    "\n",
    "numerical_cols = Xtune.select_dtypes(include=['float64', 'int64']).columns\n",
    "\n",
    "Xtune1 = Xtune.copy()\n",
    "Xtune1[numerical_cols] = scaler.fit_transform(Xtune1[numerical_cols])\n",
    "\n",
    "print(Xtune1.head())"
   ]
  },
  {
   "cell_type": "code",
   "execution_count": 170,
   "metadata": {},
   "outputs": [],
   "source": [
    "from sklearn.model_selection import train_test_split\n",
    "XTrainTune, XTestTune, yTrainTune, yTestTune = train_test_split(Xtune1, yTune, test_size=0.2,random_state=42)\n"
   ]
  },
  {
   "cell_type": "code",
   "execution_count": 171,
   "metadata": {},
   "outputs": [
    {
     "data": {
      "text/plain": [
       "'elastic_net = ElasticNet(max_iter=10000)\\n\\nparam_grid = {\\n    \\'alpha\\': [0.1, 1, 10, 100],  \\n    \\'l1_ratio\\': [0.1, 0.5, 0.7, 1.0] \\n}\\n\\ngrid_searchL1L2 = GridSearchCV(estimator=elastic_net, param_grid=param_grid, cv=5, scoring=\\'r2\\', n_jobs=-1)\\n\\ngrid_searchL1L2.fit(XTrainTune, yTrainTune)\\ndump(grid_searchL1L2,\"elasticGridSearchTune.joblib\")'"
      ]
     },
     "execution_count": 171,
     "metadata": {},
     "output_type": "execute_result"
    }
   ],
   "source": [
    "import numpy as np\n",
    "from sklearn.linear_model import ElasticNet\n",
    "from sklearn.model_selection import GridSearchCV\n",
    "\n",
    "\"\"\"elastic_net = ElasticNet(max_iter=10000)\n",
    "\n",
    "param_grid = {\n",
    "    'alpha': [0.1, 1, 10, 100],  \n",
    "    'l1_ratio': [0.1, 0.5, 0.7, 1.0] \n",
    "}\n",
    "\n",
    "grid_searchL1L2 = GridSearchCV(estimator=elastic_net, param_grid=param_grid, cv=5, scoring='r2', n_jobs=-1)\n",
    "\n",
    "grid_searchL1L2.fit(XTrainTune, yTrainTune)\n",
    "dump(grid_searchL1L2,\"elasticGridSearchTune.joblib\")\"\"\"\n"
   ]
  },
  {
   "cell_type": "code",
   "execution_count": 172,
   "metadata": {},
   "outputs": [],
   "source": [
    "grid_searchL1L2=load(\"elasticGridSearchTune.joblib\")"
   ]
  },
  {
   "cell_type": "code",
   "execution_count": 173,
   "metadata": {},
   "outputs": [
    {
     "name": "stdout",
     "output_type": "stream",
     "text": [
      "Best parameters found: {'alpha': 0.1, 'l1_ratio': 0.1}\n",
      "Best R2 score in cross validation: 0.08921073496876034\n"
     ]
    }
   ],
   "source": [
    "\n",
    "# Resultados\n",
    "print(\"Best parameters found:\", grid_searchL1L2.best_params_)\n",
    "print(\"Best R2 score in cross validation:\", grid_searchL1L2.best_score_)\n"
   ]
  },
  {
   "cell_type": "code",
   "execution_count": 174,
   "metadata": {},
   "outputs": [
    {
     "name": "stdout",
     "output_type": "stream",
     "text": [
      "RSS:\n",
      "24135.240628560976\n",
      "MSE: 6.01\n",
      "RMSE: 2.45\n",
      "Mean Absolute Error: 1.94\n",
      "Median Absolute Error: 1.60\n",
      "Explained Variance Score: 0.09\n",
      "R²: 0.09\n"
     ]
    }
   ],
   "source": [
    "y_predTuneL1L2 = grid_searchL1L2.best_estimator_.predict(XTestTune)\n",
    "my_performance_report(y_predTuneL1L2,yTestTune)"
   ]
  },
  {
   "cell_type": "code",
   "execution_count": 175,
   "metadata": {},
   "outputs": [
    {
     "data": {
      "image/png": "[encoded data removed]",
      "text/plain": [
       "<Figure size 800x600 with 1 Axes>"
      ]
     },
     "metadata": {},
     "output_type": "display_data"
    }
   ],
   "source": [
    "import seaborn as sns\n",
    "import matplotlib.pyplot as plt\n",
    "import pandas as pd\n",
    "\n",
    "\n",
    "\n",
    "plt.figure(figsize=(8, 6))\n",
    "plt.scatter(yTestTune, y_predTuneL1L2, alpha=0.7, color=\"blue\")\n",
    "plt.plot([yTestTune.min(), yTestTune.max()], [yTestTune.min(), yTestTune.max()], 'r--', lw=2)\n",
    "plt.title(\"predicted vs observed values\")\n",
    "plt.xlabel(\"observed values\")\n",
    "plt.ylabel(\"predicted values\")\n",
    "plt.grid()\n",
    "plt.show()\n",
    "\n",
    "\n"
   ]
  },
  {
   "cell_type": "markdown",
   "metadata": {},
   "source": [
    "XGBOOST"
   ]
  },
  {
   "cell_type": "code",
   "execution_count": 176,
   "metadata": {},
   "outputs": [
    {
     "data": {
      "text/plain": [
       "\"# Definir el modelo\\nxgb_modelTune = xgb.XGBRegressor()\\n\\n# Definir el espacio de hiperparámetros\\nparam_dist = {\\n    'n_estimators': randint(100, 500),\\n    'learning_rate': uniform(0.01, 0.2),\\n    'max_depth': randint(3, 10),\\n    'min_child_weight': randint(1, 10),\\n    'subsample': uniform(0.7, 0.3),\\n    'colsample_bytree': uniform(0.7, 0.3)\\n}\\n\\n# Realizar la búsqueda aleatoria\\nrandom_searchTuneXgb = RandomizedSearchCV(estimator=xgb_modelTune, param_distributions=param_dist, n_iter=120, scoring='r2', cv=3, random_state=42)\\nrandom_searchTuneXgb.fit(XTrainTune, yTrainTune)\""
      ]
     },
     "execution_count": 176,
     "metadata": {},
     "output_type": "execute_result"
    }
   ],
   "source": [
    "from sklearn.model_selection import RandomizedSearchCV\n",
    "import xgboost as xgb\n",
    "from scipy.stats import uniform, randint\n",
    "\n",
    "\"\"\"# Definir el modelo\n",
    "xgb_modelTune = xgb.XGBRegressor()\n",
    "\n",
    "# Definir el espacio de hiperparámetros\n",
    "param_dist = {\n",
    "    'n_estimators': randint(100, 500),\n",
    "    'learning_rate': uniform(0.01, 0.2),\n",
    "    'max_depth': randint(3, 10),\n",
    "    'min_child_weight': randint(1, 10),\n",
    "    'subsample': uniform(0.7, 0.3),\n",
    "    'colsample_bytree': uniform(0.7, 0.3)\n",
    "}\n",
    "\n",
    "# Realizar la búsqueda aleatoria\n",
    "random_searchTuneXgb = RandomizedSearchCV(estimator=xgb_modelTune, param_distributions=param_dist, n_iter=120, scoring='r2', cv=3, random_state=42)\n",
    "random_searchTuneXgb.fit(XTrainTune, yTrainTune)\"\"\"\n",
    "\n"
   ]
  },
  {
   "cell_type": "code",
   "execution_count": 177,
   "metadata": {},
   "outputs": [],
   "source": [
    "#dump(random_searchTuneXgb,\"xgbRandomSearchTune.joblib\")"
   ]
  },
  {
   "cell_type": "code",
   "execution_count": 178,
   "metadata": {},
   "outputs": [],
   "source": [
    "random_searchTuneXgb=load(\"xgbRandomSearchTune.joblib\")"
   ]
  },
  {
   "cell_type": "code",
   "execution_count": 179,
   "metadata": {},
   "outputs": [
    {
     "name": "stdout",
     "output_type": "stream",
     "text": [
      "Best parameters found: {'colsample_bytree': np.float64(0.7964748294040087), 'learning_rate': np.float64(0.028458117245749218), 'max_depth': 9, 'min_child_weight': 9, 'n_estimators': 313, 'subsample': np.float64(0.7245277095846615)}\n",
      "Best R2 score in cross validation: 0.24338944041996072\n"
     ]
    }
   ],
   "source": [
    "print(\"Best parameters found:\", random_searchTuneXgb.best_params_)\n",
    "print(\"Best R2 score in cross validation:\", random_searchTuneXgb.best_score_)"
   ]
  },
  {
   "cell_type": "code",
   "execution_count": 180,
   "metadata": {},
   "outputs": [
    {
     "name": "stdout",
     "output_type": "stream",
     "text": [
      "RSS:\n",
      "19534.973968508788\n",
      "MSE: 4.86\n",
      "RMSE: 2.20\n",
      "Mean Absolute Error: 1.72\n",
      "Median Absolute Error: 1.40\n",
      "Explained Variance Score: 0.26\n",
      "R²: 0.26\n"
     ]
    }
   ],
   "source": [
    "y_predTuneXgb = random_searchTuneXgb.best_estimator_.predict(XTestTune)\n",
    "my_performance_report(y_predTuneXgb,yTestTune)"
   ]
  },
  {
   "cell_type": "code",
   "execution_count": 181,
   "metadata": {},
   "outputs": [
    {
     "data": {
      "image/png": "[encoded data removed]",
      "text/plain": [
       "<Figure size 800x600 with 1 Axes>"
      ]
     },
     "metadata": {},
     "output_type": "display_data"
    }
   ],
   "source": [
    "import seaborn as sns\n",
    "import matplotlib.pyplot as plt\n",
    "import pandas as pd\n",
    "\n",
    "\n",
    "\n",
    "plt.figure(figsize=(8, 6))\n",
    "plt.scatter(yTestTune, y_predTuneXgb, alpha=0.7, color=\"blue\")\n",
    "plt.plot([yTestTune.min(), yTestTune.max()], [yTestTune.min(), yTestTune.max()], 'r--', lw=2)\n",
    "plt.title(\"predicted vs observed values\")\n",
    "plt.xlabel(\"observed values\")\n",
    "plt.ylabel(\"predicted values\")\n",
    "plt.grid()\n",
    "plt.show()"
   ]
  },
  {
   "cell_type": "markdown",
   "metadata": {},
   "source": [
    "Random Forest."
   ]
  },
  {
   "cell_type": "code",
   "execution_count": 182,
   "metadata": {},
   "outputs": [
    {
     "data": {
      "text/plain": [
       "\"rf_modelRandomTune = RandomForestRegressor(random_state=42)\\n\\nparam_dist_rf = {\\n    'n_estimators': randint(100, 500),\\n    'max_depth': randint(3, 10),\\n    'min_samples_split': randint(2, 10),\\n    'min_samples_leaf': randint(1, 10),\\n    'bootstrap': [True, False]\\n}\\n\\nrandom_searchTuneRF = RandomizedSearchCV(estimator=rf_modelRandomTune, param_distributions=param_dist_rf, n_iter=80, scoring='r2', cv=3, random_state=42)\\n\\nrandom_searchTuneRF.fit(XTrainTune, yTrainTune)\""
      ]
     },
     "execution_count": 182,
     "metadata": {},
     "output_type": "execute_result"
    }
   ],
   "source": [
    "from sklearn.ensemble import RandomForestRegressor\n",
    "from sklearn.model_selection import RandomizedSearchCV\n",
    "from scipy.stats import randint, uniform\n",
    "\n",
    "\"\"\"rf_modelRandomTune = RandomForestRegressor(random_state=42)\n",
    "\n",
    "param_dist_rf = {\n",
    "    'n_estimators': randint(100, 500),\n",
    "    'max_depth': randint(3, 10),\n",
    "    'min_samples_split': randint(2, 10),\n",
    "    'min_samples_leaf': randint(1, 10),\n",
    "    'bootstrap': [True, False]\n",
    "}\n",
    "\n",
    "random_searchTuneRF = RandomizedSearchCV(estimator=rf_modelRandomTune, param_distributions=param_dist_rf, n_iter=80, scoring='r2', cv=3, random_state=42)\n",
    "\n",
    "random_searchTuneRF.fit(XTrainTune, yTrainTune)\"\"\""
   ]
  },
  {
   "cell_type": "code",
   "execution_count": 183,
   "metadata": {},
   "outputs": [],
   "source": [
    "#dump(random_searchTuneRF,\"RandomForestRandomSearchTune.joblib\")\n"
   ]
  },
  {
   "cell_type": "code",
   "execution_count": 184,
   "metadata": {},
   "outputs": [],
   "source": [
    "random_searchTuneRF=load(\"RandomForestRandomSearchTune.joblib\")\n"
   ]
  },
  {
   "cell_type": "code",
   "execution_count": 185,
   "metadata": {},
   "outputs": [
    {
     "name": "stdout",
     "output_type": "stream",
     "text": [
      "Best parameters found: {'bootstrap': True, 'max_depth': 9, 'min_samples_leaf': 3, 'min_samples_split': 8, 'n_estimators': 451}\n",
      "Best R2 score in cross validation: 0.21803286982878775\n"
     ]
    }
   ],
   "source": [
    "print(\"Best parameters found:\", random_searchTuneRF.best_params_)\n",
    "print(\"Best R2 score in cross validation:\", random_searchTuneRF.best_score_)"
   ]
  },
  {
   "cell_type": "code",
   "execution_count": 186,
   "metadata": {},
   "outputs": [
    {
     "name": "stdout",
     "output_type": "stream",
     "text": [
      "RSS:\n",
      "20421.194820805813\n",
      "MSE: 5.08\n",
      "RMSE: 2.25\n",
      "Mean Absolute Error: 1.76\n",
      "Median Absolute Error: 1.45\n",
      "Explained Variance Score: 0.23\n",
      "R²: 0.23\n"
     ]
    }
   ],
   "source": [
    "y_predTuneRandFor = random_searchTuneRF.best_estimator_.predict(XTestTune)\n",
    "my_performance_report(y_predTuneRandFor,yTestTune)"
   ]
  },
  {
   "cell_type": "markdown",
   "metadata": {},
   "source": [
    "We get a worst score on Random Forest than what we should. Let's repeat with a different grid search."
   ]
  },
  {
   "cell_type": "code",
   "execution_count": 187,
   "metadata": {},
   "outputs": [],
   "source": [
    "param_grid = {\n",
    "    'n_estimators': [100, 200, 300],\n",
    "    'max_depth': [10, 20, None],\n",
    "    'min_samples_split': [2, 5, 10],\n",
    "    'min_samples_leaf': [1, 2, 4],\n",
    "    'max_features': ['sqrt', 'log2', None],\n",
    "    'bootstrap': [True, False]\n",
    "}"
   ]
  },
  {
   "cell_type": "code",
   "execution_count": 188,
   "metadata": {},
   "outputs": [
    {
     "data": {
      "text/plain": [
       "\"rfTune2 = RandomForestRegressor(random_state=42)\\n\\n# Búsqueda en cuadrícula\\ngrid_search = GridSearchCV(estimator=rfTune2, param_grid=param_grid, cv=3, scoring='neg_mean_squared_error', verbose=2, n_jobs=-1)\\ngrid_search.fit(XTrainMax, yTrainMax)\""
      ]
     },
     "execution_count": 188,
     "metadata": {},
     "output_type": "execute_result"
    }
   ],
   "source": [
    "\"\"\"rfTune2 = RandomForestRegressor(random_state=42)\n",
    "\n",
    "# Búsqueda en cuadrícula\n",
    "grid_search = GridSearchCV(estimator=rfTune2, param_grid=param_grid, cv=3, scoring='neg_mean_squared_error', verbose=2, n_jobs=-1)\n",
    "grid_search.fit(XTrainMax, yTrainMax)\"\"\"\n"
   ]
  },
  {
   "cell_type": "code",
   "execution_count": 189,
   "metadata": {},
   "outputs": [],
   "source": [
    "#dump(grid_search,\"RandomForestGridSearchTuneSecond.joblib\")"
   ]
  },
  {
   "cell_type": "code",
   "execution_count": 190,
   "metadata": {},
   "outputs": [],
   "source": [
    "grid_search=load(\"RandomForestGridSearchTuneSecond.joblib\")\n"
   ]
  },
  {
   "cell_type": "code",
   "execution_count": 191,
   "metadata": {},
   "outputs": [
    {
     "name": "stdout",
     "output_type": "stream",
     "text": [
      "Best parameters found: {'bootstrap': False, 'max_depth': None, 'max_features': 'sqrt', 'min_samples_leaf': 2, 'min_samples_split': 5, 'n_estimators': 300}\n",
      "Best MSE score in cross validation: -4.904288809085196\n"
     ]
    }
   ],
   "source": [
    "\n",
    "print(\"Best parameters found:\", grid_search.best_params_)\n",
    "print(\"Best MSE score in cross validation:\", grid_search.best_score_)"
   ]
  },
  {
   "cell_type": "code",
   "execution_count": 192,
   "metadata": {},
   "outputs": [
    {
     "name": "stdout",
     "output_type": "stream",
     "text": [
      "RSS:\n",
      "19653.570312435295\n",
      "MSE: 4.89\n",
      "RMSE: 2.21\n",
      "Mean Absolute Error: 1.72\n",
      "Median Absolute Error: 1.41\n",
      "Explained Variance Score: 0.26\n",
      "R²: 0.26\n"
     ]
    }
   ],
   "source": [
    "\n",
    "y_predTuneRandFor2 = grid_search.best_estimator_.predict(XTestTune)\n",
    "my_performance_report(y_predTuneRandFor2,yTestTune)"
   ]
  },
  {
   "cell_type": "code",
   "execution_count": 193,
   "metadata": {},
   "outputs": [
    {
     "data": {
      "image/png": "[encoded data removed]",
      "text/plain": [
       "<Figure size 800x600 with 1 Axes>"
      ]
     },
     "metadata": {},
     "output_type": "display_data"
    }
   ],
   "source": [
    "import seaborn as sns\n",
    "import matplotlib.pyplot as plt\n",
    "import pandas as pd\n",
    "\n",
    "\n",
    "\n",
    "plt.figure(figsize=(8, 6))\n",
    "plt.scatter(yTestTune, y_predTuneRandFor2, alpha=0.7, color=\"blue\")\n",
    "plt.plot([yTestTune.min(), yTestTune.max()], [yTestTune.min(), yTestTune.max()], 'r--', lw=2)\n",
    "plt.title(\"predicted vs observed values\")\n",
    "plt.xlabel(\"observed values\")\n",
    "plt.ylabel(\"predicted values\")\n",
    "plt.grid()\n",
    "plt.show()            "
   ]
  },
  {
   "cell_type": "markdown",
   "metadata": {},
   "source": [
    "Let's see how we do with more estimators."
   ]
  },
  {
   "cell_type": "code",
   "execution_count": 194,
   "metadata": {},
   "outputs": [],
   "source": [
    "param_grid3rf = {\n",
    "    'n_estimators': [300,350,400,450,500],\n",
    "    'max_depth': [None],\n",
    "    'min_samples_split': [5],\n",
    "    'min_samples_leaf': [2],\n",
    "    'max_features': ['sqrt'],\n",
    "    'bootstrap': [False]\n",
    "}"
   ]
  },
  {
   "cell_type": "markdown",
   "metadata": {},
   "source": [
    "Neural networks. "
   ]
  },
  {
   "cell_type": "markdown",
   "metadata": {},
   "source": [
    "In Neural networks I will do parameter tuning manually."
   ]
  },
  {
   "cell_type": "code",
   "execution_count": 195,
   "metadata": {},
   "outputs": [
    {
     "data": {
      "text/plain": [
       "\"rfTune3 = RandomForestRegressor(random_state=42)\\n\\n# Búsqueda en cuadrícula\\ngrid_searchrf3Tune = GridSearchCV(estimator=rfTune3, param_grid=param_grid3rf, cv=3, scoring='neg_mean_squared_error', verbose=2, n_jobs=-1)\\ngrid_searchrf3Tune.fit(XTrainMax, yTrainMax)\""
      ]
     },
     "execution_count": 195,
     "metadata": {},
     "output_type": "execute_result"
    }
   ],
   "source": [
    "\"\"\"rfTune3 = RandomForestRegressor(random_state=42)\n",
    "\n",
    "# Búsqueda en cuadrícula\n",
    "grid_searchrf3Tune = GridSearchCV(estimator=rfTune3, param_grid=param_grid3rf, cv=3, scoring='neg_mean_squared_error', verbose=2, n_jobs=-1)\n",
    "grid_searchrf3Tune.fit(XTrainMax, yTrainMax)\"\"\""
   ]
  },
  {
   "cell_type": "code",
   "execution_count": 196,
   "metadata": {},
   "outputs": [],
   "source": [
    "#dump(grid_searchrf3Tune,\"RandomForestGridSearchTuneThird.joblib\")"
   ]
  },
  {
   "cell_type": "code",
   "execution_count": 197,
   "metadata": {},
   "outputs": [],
   "source": [
    "grid_searchrf3Tune=load(\"RandomForestGridSearchTuneThird.joblib\")\n"
   ]
  },
  {
   "cell_type": "code",
   "execution_count": 198,
   "metadata": {},
   "outputs": [
    {
     "name": "stdout",
     "output_type": "stream",
     "text": [
      "Best parameters found: {'bootstrap': False, 'max_depth': None, 'max_features': 'sqrt', 'min_samples_leaf': 2, 'min_samples_split': 5, 'n_estimators': 450}\n",
      "Best MSE score in cross validation: -4.899322526943309\n"
     ]
    }
   ],
   "source": [
    "print(\"Best parameters found:\", grid_searchrf3Tune.best_params_)\n",
    "print(\"Best MSE score in cross validation:\", grid_searchrf3Tune.best_score_)\n"
   ]
  },
  {
   "cell_type": "code",
   "execution_count": 199,
   "metadata": {},
   "outputs": [
    {
     "name": "stdout",
     "output_type": "stream",
     "text": [
      "RSS:\n",
      "19610.992340967925\n",
      "MSE: 4.88\n",
      "RMSE: 2.21\n",
      "Mean Absolute Error: 1.72\n",
      "Median Absolute Error: 1.40\n",
      "Explained Variance Score: 0.26\n",
      "R²: 0.26\n"
     ]
    }
   ],
   "source": [
    "\n",
    "y_predTuneRandFor3 = grid_searchrf3Tune.best_estimator_.predict(XTestTune)\n",
    "my_performance_report(y_predTuneRandFor3,yTestTune)"
   ]
  },
  {
   "cell_type": "code",
   "execution_count": 200,
   "metadata": {},
   "outputs": [
    {
     "ename": "SyntaxError",
     "evalue": "(unicode error) 'unicodeescape' codec can't decode bytes in position 846-847: truncated \\UXXXXXXXX escape (667239339.py, line 43)",
     "output_type": "error",
     "traceback": [
      "\u001b[1;36m  Cell \u001b[1;32mIn[200], line 43\u001b[1;36m\u001b[0m\n\u001b[1;33m    \"\"\"\u001b[0m\n\u001b[1;37m       ^\u001b[0m\n\u001b[1;31mSyntaxError\u001b[0m\u001b[1;31m:\u001b[0m (unicode error) 'unicodeescape' codec can't decode bytes in position 846-847: truncated \\UXXXXXXXX escape\n"
     ]
    }
   ],
   "source": [
    "import kerastuner as kt\n",
    "from keras import layers\n",
    "from keras_tuner import HyperModel\n",
    "from keras_tuner.tuners import RandomSearch\n",
    "from tensorflow.keras.optimizers import Adam\n",
    "\n",
    "\n",
    "\"\"\"# Define a model-building function\n",
    "def build_model(hp):\n",
    "    model = Sequential()\n",
    "    model.add(layers.InputLayer(input_shape=(XTrainTune.shape[1],)))\n",
    "    \n",
    "    # Agregar capas ocultas con unidades ajustables\n",
    "    for i in range(hp.Int('num_layers', 1, 5)):\n",
    "        model.add(layers.Dense(units=hp.Int('units', min_value=32, max_value=128, step=32), activation='relu'))\n",
    "    \n",
    "    model.add(layers.Dense(1)) \n",
    "    \n",
    "    # Compilar el modelo\n",
    "    model.compile(optimizer=Adam(learning_rate=hp.Float('learning_rate', min_value=0.0001, max_value=0.01, sampling='LOG')), \n",
    "                  loss='mse', metrics=['mae'])\n",
    "    \n",
    "    return model\n",
    "\n",
    "# Inicializar el tunner RandomSearch\n",
    "tuner = kt.Hyperband(build_model,\n",
    "                     objective='val_loss',\n",
    "                     max_epochs=10,\n",
    "                     factor=3,\n",
    "                     directory=R'C:\\Users\\quinito\\ACADEMIA\\ano academico suecia\\Data Mining\\Project DM\\my_dir',\n",
    "                     project_name='intro_to_kt'\n",
    "                     )\n",
    "\n",
    "\n",
    "stop_early = tf.keras.callbacks.EarlyStopping(monitor='val_loss', patience=5)\n",
    "\n",
    "# Realizar la búsqueda, haciendo que 'epochs' sea un parámetro variable\n",
    "tuner.search(\n",
    "    XTrainTune, \n",
    "    yTrainTune, \n",
    "    epochs=50,  \n",
    "    validation_split=0.15)\n",
    "\"\"\"\n",
    "\n"
   ]
  },
  {
   "cell_type": "code",
   "execution_count": 214,
   "metadata": {},
   "outputs": [
    {
     "name": "stderr",
     "output_type": "stream",
     "text": [
      "C:\\Users\\quinito\\AppData\\Local\\Packages\\PythonSoftwareFoundation.Python.3.11_qbz5n2kfra8p0\\LocalCache\\local-packages\\Python311\\site-packages\\keras\\src\\layers\\core\\input_layer.py:27: UserWarning: Argument `input_shape` is deprecated. Use `shape` instead.\n",
      "  warnings.warn(\n",
      "C:\\Users\\quinito\\AppData\\Local\\Packages\\PythonSoftwareFoundation.Python.3.11_qbz5n2kfra8p0\\LocalCache\\local-packages\\Python311\\site-packages\\keras\\src\\saving\\saving_lib.py:757: UserWarning: Skipping variable loading for optimizer 'adam', because it has 2 variables whereas the saved optimizer has 18 variables. \n",
      "  saveable.load_own_variables(weights_store.get(inner_path))\n"
     ]
    }
   ],
   "source": [
    "# Obtener el mejor modelo\n",
    "#best_model = tuner.get_best_models(1)[0]"
   ]
  },
  {
   "cell_type": "code",
   "execution_count": 219,
   "metadata": {},
   "outputs": [],
   "source": [
    "#best_model.save('neuralSearchTune.keras')"
   ]
  },
  {
   "cell_type": "code",
   "execution_count": 220,
   "metadata": {},
   "outputs": [
    {
     "name": "stderr",
     "output_type": "stream",
     "text": [
      "C:\\Users\\quinito\\AppData\\Local\\Packages\\PythonSoftwareFoundation.Python.3.11_qbz5n2kfra8p0\\LocalCache\\local-packages\\Python311\\site-packages\\keras\\src\\saving\\saving_lib.py:757: UserWarning: Skipping variable loading for optimizer 'adam', because it has 18 variables whereas the saved optimizer has 2 variables. \n",
      "  saveable.load_own_variables(weights_store.get(inner_path))\n"
     ]
    }
   ],
   "source": [
    "best_model = keras.models.load_model('neuralSearchTune.keras')"
   ]
  },
  {
   "cell_type": "code",
   "execution_count": 221,
   "metadata": {},
   "outputs": [
    {
     "name": "stdout",
     "output_type": "stream",
     "text": [
      "\u001b[1m126/126\u001b[0m \u001b[32m━━━━━━━━━━━━━━━━━━━━\u001b[0m\u001b[37m\u001b[0m \u001b[1m0s\u001b[0m 2ms/step\n",
      "RSS:\n",
      "21011.338960941674\n",
      "MSE: 5.23\n",
      "RMSE: 2.29\n",
      "Mean Absolute Error: 1.78\n",
      "Median Absolute Error: 1.45\n",
      "Explained Variance Score: 0.21\n",
      "R²: 0.21\n"
     ]
    }
   ],
   "source": [
    "y_predTuneNnLowEpoch = best_model.predict(XTestTune).ravel()\n",
    "my_performance_report(y_predTuneNnLowEpoch,yTestTune)"
   ]
  },
  {
   "cell_type": "markdown",
   "metadata": {},
   "source": [
    "We have seen how the best model that we could find until now does. Let's see if we can get a little bit more value out of the hyperparameters of the model"
   ]
  },
  {
   "cell_type": "code",
   "execution_count": 202,
   "metadata": {},
   "outputs": [],
   "source": [
    "\n",
    "# Get the optimal hyperparameters\n",
    "#best_hps=tuner.get_best_hyperparameters(num_trials=1)[0]\n"
   ]
  },
  {
   "cell_type": "code",
   "execution_count": 222,
   "metadata": {},
   "outputs": [
    {
     "data": {
      "text/plain": [
       "['bestHyperParamTunerNN.pkl']"
      ]
     },
     "execution_count": 222,
     "metadata": {},
     "output_type": "execute_result"
    }
   ],
   "source": [
    "#dump(best_hps,\"bestHyperParamTunerNN.pkl\")"
   ]
  },
  {
   "cell_type": "code",
   "execution_count": 223,
   "metadata": {},
   "outputs": [],
   "source": [
    "best_hps=load(\"bestHyperParamTunerNN.pkl\")"
   ]
  },
  {
   "cell_type": "code",
   "execution_count": 211,
   "metadata": {},
   "outputs": [
    {
     "name": "stdout",
     "output_type": "stream",
     "text": [
      "Optimal number of layers: 3\n",
      "Optimal units per layer: 96\n",
      "Optimal learning rate: 0.0003047566454213899\n"
     ]
    }
   ],
   "source": [
    "print(f\"Optimal number of layers: {best_hps.get('num_layers')}\")\n",
    "print(f\"Optimal units per layer: {best_hps.get('units')}\")\n",
    "print(f\"Optimal learning rate: {best_hps.get('learning_rate')}\")"
   ]
  },
  {
   "cell_type": "code",
   "execution_count": 210,
   "metadata": {},
   "outputs": [
    {
     "name": "stdout",
     "output_type": "stream",
     "text": [
      "<keras_tuner.src.engine.hyperparameters.hyperparameters.HyperParameters object at 0x00000190B321E690>\n"
     ]
    }
   ],
   "source": [
    "print(best_hps)"
   ]
  },
  {
   "cell_type": "code",
   "execution_count": 203,
   "metadata": {},
   "outputs": [
    {
     "name": "stdout",
     "output_type": "stream",
     "text": [
      "Epoch 1/150\n"
     ]
    },
    {
     "name": "stderr",
     "output_type": "stream",
     "text": [
      "C:\\Users\\quinito\\AppData\\Local\\Packages\\PythonSoftwareFoundation.Python.3.11_qbz5n2kfra8p0\\LocalCache\\local-packages\\Python311\\site-packages\\keras\\src\\layers\\core\\input_layer.py:27: UserWarning: Argument `input_shape` is deprecated. Use `shape` instead.\n",
      "  warnings.warn(\n"
     ]
    },
    {
     "name": "stdout",
     "output_type": "stream",
     "text": [
      "\u001b[1m427/427\u001b[0m \u001b[32m━━━━━━━━━━━━━━━━━━━━\u001b[0m\u001b[37m\u001b[0m \u001b[1m3s\u001b[0m 3ms/step - loss: 32.9649 - mae: 4.5857 - val_loss: 7.1922 - val_mae: 2.0911\n",
      "Epoch 2/150\n",
      "\u001b[1m427/427\u001b[0m \u001b[32m━━━━━━━━━━━━━━━━━━━━\u001b[0m\u001b[37m\u001b[0m \u001b[1m1s\u001b[0m 2ms/step - loss: 6.6241 - mae: 2.0060 - val_loss: 6.3022 - val_mae: 1.9605\n",
      "Epoch 3/150\n",
      "\u001b[1m427/427\u001b[0m \u001b[32m━━━━━━━━━━━━━━━━━━━━\u001b[0m\u001b[37m\u001b[0m \u001b[1m1s\u001b[0m 2ms/step - loss: 5.9414 - mae: 1.9134 - val_loss: 5.9951 - val_mae: 1.9149\n",
      "Epoch 4/150\n",
      "\u001b[1m427/427\u001b[0m \u001b[32m━━━━━━━━━━━━━━━━━━━━\u001b[0m\u001b[37m\u001b[0m \u001b[1m1s\u001b[0m 2ms/step - loss: 5.4850 - mae: 1.8350 - val_loss: 5.7392 - val_mae: 1.8831\n",
      "Epoch 5/150\n",
      "\u001b[1m427/427\u001b[0m \u001b[32m━━━━━━━━━━━━━━━━━━━━\u001b[0m\u001b[37m\u001b[0m \u001b[1m1s\u001b[0m 2ms/step - loss: 5.4105 - mae: 1.8434 - val_loss: 5.6154 - val_mae: 1.8664\n",
      "Epoch 6/150\n",
      "\u001b[1m427/427\u001b[0m \u001b[32m━━━━━━━━━━━━━━━━━━━━\u001b[0m\u001b[37m\u001b[0m \u001b[1m1s\u001b[0m 2ms/step - loss: 5.2428 - mae: 1.8037 - val_loss: 5.5889 - val_mae: 1.8636\n",
      "Epoch 7/150\n",
      "\u001b[1m427/427\u001b[0m \u001b[32m━━━━━━━━━━━━━━━━━━━━\u001b[0m\u001b[37m\u001b[0m \u001b[1m1s\u001b[0m 3ms/step - loss: 5.2416 - mae: 1.7975 - val_loss: 5.6070 - val_mae: 1.8735\n",
      "Epoch 8/150\n",
      "\u001b[1m427/427\u001b[0m \u001b[32m━━━━━━━━━━━━━━━━━━━━\u001b[0m\u001b[37m\u001b[0m \u001b[1m1s\u001b[0m 2ms/step - loss: 5.2632 - mae: 1.8093 - val_loss: 5.4934 - val_mae: 1.8335\n",
      "Epoch 9/150\n",
      "\u001b[1m427/427\u001b[0m \u001b[32m━━━━━━━━━━━━━━━━━━━━\u001b[0m\u001b[37m\u001b[0m \u001b[1m1s\u001b[0m 2ms/step - loss: 5.0620 - mae: 1.7738 - val_loss: 5.4554 - val_mae: 1.8248\n",
      "Epoch 10/150\n",
      "\u001b[1m427/427\u001b[0m \u001b[32m━━━━━━━━━━━━━━━━━━━━\u001b[0m\u001b[37m\u001b[0m \u001b[1m1s\u001b[0m 2ms/step - loss: 5.0541 - mae: 1.7603 - val_loss: 5.4038 - val_mae: 1.8298\n",
      "Epoch 11/150\n",
      "\u001b[1m427/427\u001b[0m \u001b[32m━━━━━━━━━━━━━━━━━━━━\u001b[0m\u001b[37m\u001b[0m \u001b[1m1s\u001b[0m 2ms/step - loss: 5.1178 - mae: 1.7836 - val_loss: 5.3840 - val_mae: 1.8071\n",
      "Epoch 12/150\n",
      "\u001b[1m427/427\u001b[0m \u001b[32m━━━━━━━━━━━━━━━━━━━━\u001b[0m\u001b[37m\u001b[0m \u001b[1m1s\u001b[0m 2ms/step - loss: 5.0362 - mae: 1.7593 - val_loss: 5.4030 - val_mae: 1.8277\n",
      "Epoch 13/150\n",
      "\u001b[1m427/427\u001b[0m \u001b[32m━━━━━━━━━━━━━━━━━━━━\u001b[0m\u001b[37m\u001b[0m \u001b[1m1s\u001b[0m 2ms/step - loss: 4.9184 - mae: 1.7459 - val_loss: 5.4082 - val_mae: 1.8028\n",
      "Epoch 14/150\n",
      "\u001b[1m427/427\u001b[0m \u001b[32m━━━━━━━━━━━━━━━━━━━━\u001b[0m\u001b[37m\u001b[0m \u001b[1m1s\u001b[0m 3ms/step - loss: 4.8101 - mae: 1.7292 - val_loss: 5.4162 - val_mae: 1.8104\n",
      "Epoch 15/150\n",
      "\u001b[1m427/427\u001b[0m \u001b[32m━━━━━━━━━━━━━━━━━━━━\u001b[0m\u001b[37m\u001b[0m \u001b[1m1s\u001b[0m 2ms/step - loss: 4.8774 - mae: 1.7404 - val_loss: 5.3927 - val_mae: 1.8229\n",
      "Epoch 16/150\n",
      "\u001b[1m427/427\u001b[0m \u001b[32m━━━━━━━━━━━━━━━━━━━━\u001b[0m\u001b[37m\u001b[0m \u001b[1m1s\u001b[0m 2ms/step - loss: 4.8631 - mae: 1.7342 - val_loss: 5.3805 - val_mae: 1.8049\n",
      "Epoch 17/150\n",
      "\u001b[1m427/427\u001b[0m \u001b[32m━━━━━━━━━━━━━━━━━━━━\u001b[0m\u001b[37m\u001b[0m \u001b[1m1s\u001b[0m 2ms/step - loss: 4.9404 - mae: 1.7408 - val_loss: 5.3857 - val_mae: 1.8278\n",
      "Epoch 18/150\n",
      "\u001b[1m427/427\u001b[0m \u001b[32m━━━━━━━━━━━━━━━━━━━━\u001b[0m\u001b[37m\u001b[0m \u001b[1m1s\u001b[0m 2ms/step - loss: 4.7746 - mae: 1.7283 - val_loss: 5.4039 - val_mae: 1.8070\n",
      "Epoch 19/150\n",
      "\u001b[1m427/427\u001b[0m \u001b[32m━━━━━━━━━━━━━━━━━━━━\u001b[0m\u001b[37m\u001b[0m \u001b[1m1s\u001b[0m 2ms/step - loss: 4.7852 - mae: 1.7130 - val_loss: 5.3688 - val_mae: 1.8005\n",
      "Epoch 20/150\n",
      "\u001b[1m427/427\u001b[0m \u001b[32m━━━━━━━━━━━━━━━━━━━━\u001b[0m\u001b[37m\u001b[0m \u001b[1m1s\u001b[0m 2ms/step - loss: 4.8905 - mae: 1.7402 - val_loss: 5.3936 - val_mae: 1.8211\n",
      "Epoch 21/150\n",
      "\u001b[1m427/427\u001b[0m \u001b[32m━━━━━━━━━━━━━━━━━━━━\u001b[0m\u001b[37m\u001b[0m \u001b[1m1s\u001b[0m 2ms/step - loss: 4.7904 - mae: 1.7198 - val_loss: 5.3598 - val_mae: 1.8133\n",
      "Epoch 22/150\n",
      "\u001b[1m427/427\u001b[0m \u001b[32m━━━━━━━━━━━━━━━━━━━━\u001b[0m\u001b[37m\u001b[0m \u001b[1m1s\u001b[0m 2ms/step - loss: 4.6577 - mae: 1.6918 - val_loss: 5.4215 - val_mae: 1.8381\n",
      "Epoch 23/150\n",
      "\u001b[1m427/427\u001b[0m \u001b[32m━━━━━━━━━━━━━━━━━━━━\u001b[0m\u001b[37m\u001b[0m \u001b[1m1s\u001b[0m 2ms/step - loss: 4.7764 - mae: 1.7174 - val_loss: 5.3737 - val_mae: 1.7969\n",
      "Epoch 24/150\n",
      "\u001b[1m427/427\u001b[0m \u001b[32m━━━━━━━━━━━━━━━━━━━━\u001b[0m\u001b[37m\u001b[0m \u001b[1m1s\u001b[0m 2ms/step - loss: 4.6841 - mae: 1.7027 - val_loss: 5.4146 - val_mae: 1.8028\n",
      "Epoch 25/150\n",
      "\u001b[1m427/427\u001b[0m \u001b[32m━━━━━━━━━━━━━━━━━━━━\u001b[0m\u001b[37m\u001b[0m \u001b[1m1s\u001b[0m 2ms/step - loss: 4.7719 - mae: 1.7231 - val_loss: 5.3980 - val_mae: 1.8066\n",
      "Epoch 26/150\n",
      "\u001b[1m427/427\u001b[0m \u001b[32m━━━━━━━━━━━━━━━━━━━━\u001b[0m\u001b[37m\u001b[0m \u001b[1m1s\u001b[0m 2ms/step - loss: 4.8238 - mae: 1.7203 - val_loss: 5.3202 - val_mae: 1.8070\n",
      "Epoch 27/150\n",
      "\u001b[1m427/427\u001b[0m \u001b[32m━━━━━━━━━━━━━━━━━━━━\u001b[0m\u001b[37m\u001b[0m \u001b[1m1s\u001b[0m 2ms/step - loss: 4.7382 - mae: 1.7212 - val_loss: 5.3806 - val_mae: 1.8145\n",
      "Epoch 28/150\n",
      "\u001b[1m427/427\u001b[0m \u001b[32m━━━━━━━━━━━━━━━━━━━━\u001b[0m\u001b[37m\u001b[0m \u001b[1m1s\u001b[0m 2ms/step - loss: 4.6466 - mae: 1.7008 - val_loss: 5.3854 - val_mae: 1.8063\n",
      "Epoch 29/150\n",
      "\u001b[1m427/427\u001b[0m \u001b[32m━━━━━━━━━━━━━━━━━━━━\u001b[0m\u001b[37m\u001b[0m \u001b[1m1s\u001b[0m 2ms/step - loss: 4.6300 - mae: 1.6911 - val_loss: 5.3735 - val_mae: 1.8075\n",
      "Epoch 30/150\n",
      "\u001b[1m427/427\u001b[0m \u001b[32m━━━━━━━━━━━━━━━━━━━━\u001b[0m\u001b[37m\u001b[0m \u001b[1m1s\u001b[0m 2ms/step - loss: 4.5953 - mae: 1.6842 - val_loss: 5.3585 - val_mae: 1.8258\n",
      "Epoch 31/150\n",
      "\u001b[1m427/427\u001b[0m \u001b[32m━━━━━━━━━━━━━━━━━━━━\u001b[0m\u001b[37m\u001b[0m \u001b[1m1s\u001b[0m 2ms/step - loss: 4.6489 - mae: 1.6874 - val_loss: 5.3736 - val_mae: 1.7948\n",
      "Epoch 32/150\n",
      "\u001b[1m427/427\u001b[0m \u001b[32m━━━━━━━━━━━━━━━━━━━━\u001b[0m\u001b[37m\u001b[0m \u001b[1m1s\u001b[0m 2ms/step - loss: 4.6088 - mae: 1.6956 - val_loss: 5.3411 - val_mae: 1.7966\n",
      "Epoch 33/150\n",
      "\u001b[1m427/427\u001b[0m \u001b[32m━━━━━━━━━━━━━━━━━━━━\u001b[0m\u001b[37m\u001b[0m \u001b[1m1s\u001b[0m 2ms/step - loss: 4.4980 - mae: 1.6690 - val_loss: 5.3134 - val_mae: 1.8028\n",
      "Epoch 34/150\n",
      "\u001b[1m427/427\u001b[0m \u001b[32m━━━━━━━━━━━━━━━━━━━━\u001b[0m\u001b[37m\u001b[0m \u001b[1m1s\u001b[0m 2ms/step - loss: 4.5536 - mae: 1.6741 - val_loss: 5.4820 - val_mae: 1.8136\n",
      "Epoch 35/150\n",
      "\u001b[1m427/427\u001b[0m \u001b[32m━━━━━━━━━━━━━━━━━━━━\u001b[0m\u001b[37m\u001b[0m \u001b[1m1s\u001b[0m 2ms/step - loss: 4.5948 - mae: 1.6770 - val_loss: 5.3803 - val_mae: 1.8033\n",
      "Epoch 36/150\n",
      "\u001b[1m427/427\u001b[0m \u001b[32m━━━━━━━━━━━━━━━━━━━━\u001b[0m\u001b[37m\u001b[0m \u001b[1m1s\u001b[0m 2ms/step - loss: 4.5748 - mae: 1.6760 - val_loss: 5.5198 - val_mae: 1.8622\n",
      "Epoch 37/150\n",
      "\u001b[1m427/427\u001b[0m \u001b[32m━━━━━━━━━━━━━━━━━━━━\u001b[0m\u001b[37m\u001b[0m \u001b[1m1s\u001b[0m 2ms/step - loss: 4.4876 - mae: 1.6613 - val_loss: 5.4782 - val_mae: 1.7993\n",
      "Epoch 38/150\n",
      "\u001b[1m427/427\u001b[0m \u001b[32m━━━━━━━━━━━━━━━━━━━━\u001b[0m\u001b[37m\u001b[0m \u001b[1m1s\u001b[0m 2ms/step - loss: 4.4633 - mae: 1.6564 - val_loss: 5.4529 - val_mae: 1.8240\n",
      "Epoch 39/150\n",
      "\u001b[1m427/427\u001b[0m \u001b[32m━━━━━━━━━━━━━━━━━━━━\u001b[0m\u001b[37m\u001b[0m \u001b[1m1s\u001b[0m 2ms/step - loss: 4.5373 - mae: 1.6714 - val_loss: 5.4074 - val_mae: 1.8182\n",
      "Epoch 40/150\n",
      "\u001b[1m427/427\u001b[0m \u001b[32m━━━━━━━━━━━━━━━━━━━━\u001b[0m\u001b[37m\u001b[0m \u001b[1m1s\u001b[0m 2ms/step - loss: 4.4631 - mae: 1.6436 - val_loss: 5.4121 - val_mae: 1.8169\n",
      "Epoch 41/150\n",
      "\u001b[1m427/427\u001b[0m \u001b[32m━━━━━━━━━━━━━━━━━━━━\u001b[0m\u001b[37m\u001b[0m \u001b[1m1s\u001b[0m 2ms/step - loss: 4.3510 - mae: 1.6397 - val_loss: 5.4003 - val_mae: 1.8060\n",
      "Epoch 42/150\n",
      "\u001b[1m427/427\u001b[0m \u001b[32m━━━━━━━━━━━━━━━━━━━━\u001b[0m\u001b[37m\u001b[0m \u001b[1m1s\u001b[0m 2ms/step - loss: 4.4216 - mae: 1.6502 - val_loss: 5.5184 - val_mae: 1.8195\n",
      "Epoch 43/150\n",
      "\u001b[1m427/427\u001b[0m \u001b[32m━━━━━━━━━━━━━━━━━━━━\u001b[0m\u001b[37m\u001b[0m \u001b[1m1s\u001b[0m 3ms/step - loss: 4.4690 - mae: 1.6613 - val_loss: 5.4287 - val_mae: 1.8121\n",
      "Epoch 44/150\n",
      "\u001b[1m427/427\u001b[0m \u001b[32m━━━━━━━━━━━━━━━━━━━━\u001b[0m\u001b[37m\u001b[0m \u001b[1m1s\u001b[0m 2ms/step - loss: 4.4158 - mae: 1.6522 - val_loss: 5.5662 - val_mae: 1.8741\n",
      "Epoch 45/150\n",
      "\u001b[1m427/427\u001b[0m \u001b[32m━━━━━━━━━━━━━━━━━━━━\u001b[0m\u001b[37m\u001b[0m \u001b[1m1s\u001b[0m 2ms/step - loss: 4.4275 - mae: 1.6572 - val_loss: 5.4574 - val_mae: 1.8317\n",
      "Epoch 46/150\n",
      "\u001b[1m427/427\u001b[0m \u001b[32m━━━━━━━━━━━━━━━━━━━━\u001b[0m\u001b[37m\u001b[0m \u001b[1m1s\u001b[0m 3ms/step - loss: 4.4903 - mae: 1.6691 - val_loss: 5.4311 - val_mae: 1.8139\n",
      "Epoch 47/150\n",
      "\u001b[1m427/427\u001b[0m \u001b[32m━━━━━━━━━━━━━━━━━━━━\u001b[0m\u001b[37m\u001b[0m \u001b[1m1s\u001b[0m 3ms/step - loss: 4.4310 - mae: 1.6519 - val_loss: 5.4157 - val_mae: 1.8316\n",
      "Epoch 48/150\n",
      "\u001b[1m427/427\u001b[0m \u001b[32m━━━━━━━━━━━━━━━━━━━━\u001b[0m\u001b[37m\u001b[0m \u001b[1m1s\u001b[0m 3ms/step - loss: 4.3257 - mae: 1.6321 - val_loss: 5.4890 - val_mae: 1.8439\n",
      "Epoch 49/150\n",
      "\u001b[1m427/427\u001b[0m \u001b[32m━━━━━━━━━━━━━━━━━━━━\u001b[0m\u001b[37m\u001b[0m \u001b[1m1s\u001b[0m 2ms/step - loss: 4.3000 - mae: 1.6234 - val_loss: 5.4342 - val_mae: 1.8142\n",
      "Epoch 50/150\n",
      "\u001b[1m427/427\u001b[0m \u001b[32m━━━━━━━━━━━━━━━━━━━━\u001b[0m\u001b[37m\u001b[0m \u001b[1m1s\u001b[0m 2ms/step - loss: 4.3371 - mae: 1.6341 - val_loss: 5.4453 - val_mae: 1.8415\n",
      "Epoch 51/150\n",
      "\u001b[1m427/427\u001b[0m \u001b[32m━━━━━━━━━━━━━━━━━━━━\u001b[0m\u001b[37m\u001b[0m \u001b[1m1s\u001b[0m 3ms/step - loss: 4.2763 - mae: 1.6264 - val_loss: 5.4177 - val_mae: 1.8171\n",
      "Epoch 52/150\n",
      "\u001b[1m427/427\u001b[0m \u001b[32m━━━━━━━━━━━━━━━━━━━━\u001b[0m\u001b[37m\u001b[0m \u001b[1m1s\u001b[0m 2ms/step - loss: 4.3118 - mae: 1.6250 - val_loss: 5.6093 - val_mae: 1.8878\n",
      "Epoch 53/150\n",
      "\u001b[1m427/427\u001b[0m \u001b[32m━━━━━━━━━━━━━━━━━━━━\u001b[0m\u001b[37m\u001b[0m \u001b[1m1s\u001b[0m 2ms/step - loss: 4.3868 - mae: 1.6410 - val_loss: 5.4604 - val_mae: 1.8243\n",
      "Epoch 54/150\n",
      "\u001b[1m427/427\u001b[0m \u001b[32m━━━━━━━━━━━━━━━━━━━━\u001b[0m\u001b[37m\u001b[0m \u001b[1m1s\u001b[0m 2ms/step - loss: 4.2485 - mae: 1.6187 - val_loss: 5.5878 - val_mae: 1.8395\n",
      "Epoch 55/150\n",
      "\u001b[1m427/427\u001b[0m \u001b[32m━━━━━━━━━━━━━━━━━━━━\u001b[0m\u001b[37m\u001b[0m \u001b[1m1s\u001b[0m 2ms/step - loss: 4.2283 - mae: 1.6094 - val_loss: 5.4377 - val_mae: 1.8324\n",
      "Epoch 56/150\n",
      "\u001b[1m427/427\u001b[0m \u001b[32m━━━━━━━━━━━━━━━━━━━━\u001b[0m\u001b[37m\u001b[0m \u001b[1m1s\u001b[0m 2ms/step - loss: 4.2830 - mae: 1.6246 - val_loss: 5.7625 - val_mae: 1.8491\n",
      "Epoch 57/150\n",
      "\u001b[1m427/427\u001b[0m \u001b[32m━━━━━━━━━━━━━━━━━━━━\u001b[0m\u001b[37m\u001b[0m \u001b[1m1s\u001b[0m 2ms/step - loss: 4.2373 - mae: 1.6123 - val_loss: 5.4169 - val_mae: 1.8171\n",
      "Epoch 58/150\n",
      "\u001b[1m427/427\u001b[0m \u001b[32m━━━━━━━━━━━━━━━━━━━━\u001b[0m\u001b[37m\u001b[0m \u001b[1m1s\u001b[0m 3ms/step - loss: 4.2673 - mae: 1.6206 - val_loss: 5.4173 - val_mae: 1.8302\n",
      "Epoch 59/150\n",
      "\u001b[1m427/427\u001b[0m \u001b[32m━━━━━━━━━━━━━━━━━━━━\u001b[0m\u001b[37m\u001b[0m \u001b[1m1s\u001b[0m 2ms/step - loss: 4.1982 - mae: 1.6042 - val_loss: 5.5231 - val_mae: 1.8283\n",
      "Epoch 60/150\n",
      "\u001b[1m427/427\u001b[0m \u001b[32m━━━━━━━━━━━━━━━━━━━━\u001b[0m\u001b[37m\u001b[0m \u001b[1m1s\u001b[0m 2ms/step - loss: 4.1955 - mae: 1.6089 - val_loss: 5.6971 - val_mae: 1.8984\n",
      "Epoch 61/150\n",
      "\u001b[1m427/427\u001b[0m \u001b[32m━━━━━━━━━━━━━━━━━━━━\u001b[0m\u001b[37m\u001b[0m \u001b[1m1s\u001b[0m 2ms/step - loss: 4.2098 - mae: 1.6127 - val_loss: 5.4498 - val_mae: 1.8379\n",
      "Epoch 62/150\n",
      "\u001b[1m427/427\u001b[0m \u001b[32m━━━━━━━━━━━━━━━━━━━━\u001b[0m\u001b[37m\u001b[0m \u001b[1m1s\u001b[0m 3ms/step - loss: 4.3682 - mae: 1.6320 - val_loss: 5.5716 - val_mae: 1.8573\n",
      "Epoch 63/150\n",
      "\u001b[1m427/427\u001b[0m \u001b[32m━━━━━━━━━━━━━━━━━━━━\u001b[0m\u001b[37m\u001b[0m \u001b[1m1s\u001b[0m 2ms/step - loss: 4.0889 - mae: 1.5797 - val_loss: 5.4551 - val_mae: 1.8199\n",
      "Epoch 64/150\n",
      "\u001b[1m427/427\u001b[0m \u001b[32m━━━━━━━━━━━━━━━━━━━━\u001b[0m\u001b[37m\u001b[0m \u001b[1m1s\u001b[0m 3ms/step - loss: 4.1738 - mae: 1.6052 - val_loss: 5.5006 - val_mae: 1.8195\n",
      "Epoch 65/150\n",
      "\u001b[1m427/427\u001b[0m \u001b[32m━━━━━━━━━━━━━━━━━━━━\u001b[0m\u001b[37m\u001b[0m \u001b[1m1s\u001b[0m 3ms/step - loss: 4.0802 - mae: 1.5779 - val_loss: 5.4413 - val_mae: 1.8275\n",
      "Epoch 66/150\n",
      "\u001b[1m427/427\u001b[0m \u001b[32m━━━━━━━━━━━━━━━━━━━━\u001b[0m\u001b[37m\u001b[0m \u001b[1m1s\u001b[0m 3ms/step - loss: 4.1775 - mae: 1.5976 - val_loss: 5.4627 - val_mae: 1.8383\n",
      "Epoch 67/150\n",
      "\u001b[1m427/427\u001b[0m \u001b[32m━━━━━━━━━━━━━━━━━━━━\u001b[0m\u001b[37m\u001b[0m \u001b[1m1s\u001b[0m 2ms/step - loss: 4.1624 - mae: 1.5976 - val_loss: 5.5078 - val_mae: 1.8318\n",
      "Epoch 68/150\n",
      "\u001b[1m427/427\u001b[0m \u001b[32m━━━━━━━━━━━━━━━━━━━━\u001b[0m\u001b[37m\u001b[0m \u001b[1m1s\u001b[0m 2ms/step - loss: 4.0811 - mae: 1.5826 - val_loss: 5.5267 - val_mae: 1.8199\n",
      "Epoch 69/150\n",
      "\u001b[1m427/427\u001b[0m \u001b[32m━━━━━━━━━━━━━━━━━━━━\u001b[0m\u001b[37m\u001b[0m \u001b[1m1s\u001b[0m 2ms/step - loss: 4.1503 - mae: 1.5940 - val_loss: 5.9180 - val_mae: 1.8747\n",
      "Epoch 70/150\n",
      "\u001b[1m427/427\u001b[0m \u001b[32m━━━━━━━━━━━━━━━━━━━━\u001b[0m\u001b[37m\u001b[0m \u001b[1m1s\u001b[0m 3ms/step - loss: 4.2114 - mae: 1.6093 - val_loss: 5.5380 - val_mae: 1.8461\n",
      "Epoch 71/150\n",
      "\u001b[1m427/427\u001b[0m \u001b[32m━━━━━━━━━━━━━━━━━━━━\u001b[0m\u001b[37m\u001b[0m \u001b[1m1s\u001b[0m 2ms/step - loss: 4.0598 - mae: 1.5732 - val_loss: 5.5553 - val_mae: 1.8554\n",
      "Epoch 72/150\n",
      "\u001b[1m427/427\u001b[0m \u001b[32m━━━━━━━━━━━━━━━━━━━━\u001b[0m\u001b[37m\u001b[0m \u001b[1m1s\u001b[0m 2ms/step - loss: 4.1052 - mae: 1.5814 - val_loss: 5.5284 - val_mae: 1.8484\n",
      "Epoch 73/150\n",
      "\u001b[1m427/427\u001b[0m \u001b[32m━━━━━━━━━━━━━━━━━━━━\u001b[0m\u001b[37m\u001b[0m \u001b[1m1s\u001b[0m 2ms/step - loss: 4.0543 - mae: 1.5772 - val_loss: 5.5359 - val_mae: 1.8291\n",
      "Epoch 74/150\n",
      "\u001b[1m427/427\u001b[0m \u001b[32m━━━━━━━━━━━━━━━━━━━━\u001b[0m\u001b[37m\u001b[0m \u001b[1m1s\u001b[0m 3ms/step - loss: 3.9873 - mae: 1.5676 - val_loss: 5.4701 - val_mae: 1.8288\n",
      "Epoch 75/150\n",
      "\u001b[1m427/427\u001b[0m \u001b[32m━━━━━━━━━━━━━━━━━━━━\u001b[0m\u001b[37m\u001b[0m \u001b[1m1s\u001b[0m 2ms/step - loss: 3.9486 - mae: 1.5615 - val_loss: 5.5425 - val_mae: 1.8374\n",
      "Epoch 76/150\n",
      "\u001b[1m427/427\u001b[0m \u001b[32m━━━━━━━━━━━━━━━━━━━━\u001b[0m\u001b[37m\u001b[0m \u001b[1m1s\u001b[0m 2ms/step - loss: 4.0716 - mae: 1.5891 - val_loss: 5.4979 - val_mae: 1.8343\n",
      "Epoch 77/150\n",
      "\u001b[1m427/427\u001b[0m \u001b[32m━━━━━━━━━━━━━━━━━━━━\u001b[0m\u001b[37m\u001b[0m \u001b[1m1s\u001b[0m 2ms/step - loss: 3.9256 - mae: 1.5496 - val_loss: 5.5092 - val_mae: 1.8421\n",
      "Epoch 78/150\n",
      "\u001b[1m427/427\u001b[0m \u001b[32m━━━━━━━━━━━━━━━━━━━━\u001b[0m\u001b[37m\u001b[0m \u001b[1m1s\u001b[0m 2ms/step - loss: 3.9948 - mae: 1.5738 - val_loss: 5.5677 - val_mae: 1.8296\n",
      "Epoch 79/150\n",
      "\u001b[1m427/427\u001b[0m \u001b[32m━━━━━━━━━━━━━━━━━━━━\u001b[0m\u001b[37m\u001b[0m \u001b[1m1s\u001b[0m 2ms/step - loss: 4.0070 - mae: 1.5678 - val_loss: 5.5444 - val_mae: 1.8510\n",
      "Epoch 80/150\n",
      "\u001b[1m427/427\u001b[0m \u001b[32m━━━━━━━━━━━━━━━━━━━━\u001b[0m\u001b[37m\u001b[0m \u001b[1m1s\u001b[0m 2ms/step - loss: 4.0297 - mae: 1.5656 - val_loss: 5.5713 - val_mae: 1.8541\n",
      "Epoch 81/150\n",
      "\u001b[1m427/427\u001b[0m \u001b[32m━━━━━━━━━━━━━━━━━━━━\u001b[0m\u001b[37m\u001b[0m \u001b[1m1s\u001b[0m 3ms/step - loss: 3.9190 - mae: 1.5463 - val_loss: 5.7818 - val_mae: 1.9091\n",
      "Epoch 82/150\n",
      "\u001b[1m427/427\u001b[0m \u001b[32m━━━━━━━━━━━━━━━━━━━━\u001b[0m\u001b[37m\u001b[0m \u001b[1m1s\u001b[0m 2ms/step - loss: 3.8531 - mae: 1.5423 - val_loss: 5.6287 - val_mae: 1.8794\n",
      "Epoch 83/150\n",
      "\u001b[1m427/427\u001b[0m \u001b[32m━━━━━━━━━━━━━━━━━━━━\u001b[0m\u001b[37m\u001b[0m \u001b[1m1s\u001b[0m 2ms/step - loss: 3.8502 - mae: 1.5280 - val_loss: 5.5219 - val_mae: 1.8283\n",
      "Epoch 84/150\n",
      "\u001b[1m427/427\u001b[0m \u001b[32m━━━━━━━━━━━━━━━━━━━━\u001b[0m\u001b[37m\u001b[0m \u001b[1m1s\u001b[0m 2ms/step - loss: 3.9490 - mae: 1.5577 - val_loss: 5.6268 - val_mae: 1.8644\n",
      "Epoch 85/150\n",
      "\u001b[1m427/427\u001b[0m \u001b[32m━━━━━━━━━━━━━━━━━━━━\u001b[0m\u001b[37m\u001b[0m \u001b[1m1s\u001b[0m 3ms/step - loss: 3.9359 - mae: 1.5503 - val_loss: 5.4994 - val_mae: 1.8315\n",
      "Epoch 86/150\n",
      "\u001b[1m427/427\u001b[0m \u001b[32m━━━━━━━━━━━━━━━━━━━━\u001b[0m\u001b[37m\u001b[0m \u001b[1m1s\u001b[0m 3ms/step - loss: 3.8506 - mae: 1.5375 - val_loss: 5.5450 - val_mae: 1.8446\n",
      "Epoch 87/150\n",
      "\u001b[1m427/427\u001b[0m \u001b[32m━━━━━━━━━━━━━━━━━━━━\u001b[0m\u001b[37m\u001b[0m \u001b[1m1s\u001b[0m 2ms/step - loss: 3.9326 - mae: 1.5484 - val_loss: 5.5889 - val_mae: 1.8532\n",
      "Epoch 88/150\n",
      "\u001b[1m427/427\u001b[0m \u001b[32m━━━━━━━━━━━━━━━━━━━━\u001b[0m\u001b[37m\u001b[0m \u001b[1m1s\u001b[0m 2ms/step - loss: 3.8588 - mae: 1.5427 - val_loss: 5.7000 - val_mae: 1.8572\n",
      "Epoch 89/150\n",
      "\u001b[1m427/427\u001b[0m \u001b[32m━━━━━━━━━━━━━━━━━━━━\u001b[0m\u001b[37m\u001b[0m \u001b[1m1s\u001b[0m 2ms/step - loss: 3.8039 - mae: 1.5317 - val_loss: 5.6825 - val_mae: 1.8800\n",
      "Epoch 90/150\n",
      "\u001b[1m427/427\u001b[0m \u001b[32m━━━━━━━━━━━━━━━━━━━━\u001b[0m\u001b[37m\u001b[0m \u001b[1m1s\u001b[0m 2ms/step - loss: 3.8150 - mae: 1.5302 - val_loss: 5.6576 - val_mae: 1.8560\n",
      "Epoch 91/150\n",
      "\u001b[1m427/427\u001b[0m \u001b[32m━━━━━━━━━━━━━━━━━━━━\u001b[0m\u001b[37m\u001b[0m \u001b[1m1s\u001b[0m 2ms/step - loss: 3.8020 - mae: 1.5264 - val_loss: 5.7139 - val_mae: 1.8615\n",
      "Epoch 92/150\n",
      "\u001b[1m427/427\u001b[0m \u001b[32m━━━━━━━━━━━━━━━━━━━━\u001b[0m\u001b[37m\u001b[0m \u001b[1m1s\u001b[0m 2ms/step - loss: 3.8643 - mae: 1.5398 - val_loss: 5.7050 - val_mae: 1.8931\n",
      "Epoch 93/150\n",
      "\u001b[1m427/427\u001b[0m \u001b[32m━━━━━━━━━━━━━━━━━━━━\u001b[0m\u001b[37m\u001b[0m \u001b[1m1s\u001b[0m 2ms/step - loss: 3.8735 - mae: 1.5397 - val_loss: 5.6286 - val_mae: 1.8578\n",
      "Epoch 94/150\n",
      "\u001b[1m427/427\u001b[0m \u001b[32m━━━━━━━━━━━━━━━━━━━━\u001b[0m\u001b[37m\u001b[0m \u001b[1m1s\u001b[0m 2ms/step - loss: 3.7724 - mae: 1.5208 - val_loss: 5.7405 - val_mae: 1.8733\n",
      "Epoch 95/150\n",
      "\u001b[1m427/427\u001b[0m \u001b[32m━━━━━━━━━━━━━━━━━━━━\u001b[0m\u001b[37m\u001b[0m \u001b[1m1s\u001b[0m 2ms/step - loss: 3.8495 - mae: 1.5466 - val_loss: 5.6853 - val_mae: 1.8703\n",
      "Epoch 96/150\n",
      "\u001b[1m427/427\u001b[0m \u001b[32m━━━━━━━━━━━━━━━━━━━━\u001b[0m\u001b[37m\u001b[0m \u001b[1m1s\u001b[0m 2ms/step - loss: 3.7703 - mae: 1.5140 - val_loss: 5.6254 - val_mae: 1.8480\n",
      "Epoch 97/150\n",
      "\u001b[1m427/427\u001b[0m \u001b[32m━━━━━━━━━━━━━━━━━━━━\u001b[0m\u001b[37m\u001b[0m \u001b[1m1s\u001b[0m 2ms/step - loss: 3.7612 - mae: 1.5212 - val_loss: 5.7020 - val_mae: 1.8719\n",
      "Epoch 98/150\n",
      "\u001b[1m427/427\u001b[0m \u001b[32m━━━━━━━━━━━━━━━━━━━━\u001b[0m\u001b[37m\u001b[0m \u001b[1m1s\u001b[0m 3ms/step - loss: 3.7508 - mae: 1.5168 - val_loss: 5.6324 - val_mae: 1.8611\n",
      "Epoch 99/150\n",
      "\u001b[1m427/427\u001b[0m \u001b[32m━━━━━━━━━━━━━━━━━━━━\u001b[0m\u001b[37m\u001b[0m \u001b[1m1s\u001b[0m 2ms/step - loss: 3.6840 - mae: 1.5000 - val_loss: 5.6068 - val_mae: 1.8562\n",
      "Epoch 100/150\n",
      "\u001b[1m427/427\u001b[0m \u001b[32m━━━━━━━━━━━━━━━━━━━━\u001b[0m\u001b[37m\u001b[0m \u001b[1m1s\u001b[0m 2ms/step - loss: 3.7978 - mae: 1.5279 - val_loss: 5.6532 - val_mae: 1.8491\n",
      "Epoch 101/150\n",
      "\u001b[1m427/427\u001b[0m \u001b[32m━━━━━━━━━━━━━━━━━━━━\u001b[0m\u001b[37m\u001b[0m \u001b[1m1s\u001b[0m 2ms/step - loss: 3.7044 - mae: 1.4988 - val_loss: 5.6545 - val_mae: 1.8638\n",
      "Epoch 102/150\n",
      "\u001b[1m427/427\u001b[0m \u001b[32m━━━━━━━━━━━━━━━━━━━━\u001b[0m\u001b[37m\u001b[0m \u001b[1m1s\u001b[0m 2ms/step - loss: 3.7104 - mae: 1.4996 - val_loss: 5.6163 - val_mae: 1.8532\n",
      "Epoch 103/150\n",
      "\u001b[1m427/427\u001b[0m \u001b[32m━━━━━━━━━━━━━━━━━━━━\u001b[0m\u001b[37m\u001b[0m \u001b[1m1s\u001b[0m 2ms/step - loss: 3.6874 - mae: 1.5005 - val_loss: 5.8867 - val_mae: 1.9268\n",
      "Epoch 104/150\n",
      "\u001b[1m427/427\u001b[0m \u001b[32m━━━━━━━━━━━━━━━━━━━━\u001b[0m\u001b[37m\u001b[0m \u001b[1m1s\u001b[0m 2ms/step - loss: 3.7730 - mae: 1.5192 - val_loss: 5.7331 - val_mae: 1.8629\n",
      "Epoch 105/150\n",
      "\u001b[1m427/427\u001b[0m \u001b[32m━━━━━━━━━━━━━━━━━━━━\u001b[0m\u001b[37m\u001b[0m \u001b[1m1s\u001b[0m 2ms/step - loss: 3.6598 - mae: 1.4980 - val_loss: 5.6828 - val_mae: 1.8673\n",
      "Epoch 106/150\n",
      "\u001b[1m427/427\u001b[0m \u001b[32m━━━━━━━━━━━━━━━━━━━━\u001b[0m\u001b[37m\u001b[0m \u001b[1m1s\u001b[0m 2ms/step - loss: 3.6933 - mae: 1.4994 - val_loss: 5.6557 - val_mae: 1.8638\n",
      "Epoch 107/150\n",
      "\u001b[1m427/427\u001b[0m \u001b[32m━━━━━━━━━━━━━━━━━━━━\u001b[0m\u001b[37m\u001b[0m \u001b[1m1s\u001b[0m 2ms/step - loss: 3.6431 - mae: 1.4903 - val_loss: 5.6790 - val_mae: 1.8687\n",
      "Epoch 108/150\n",
      "\u001b[1m427/427\u001b[0m \u001b[32m━━━━━━━━━━━━━━━━━━━━\u001b[0m\u001b[37m\u001b[0m \u001b[1m1s\u001b[0m 2ms/step - loss: 3.6527 - mae: 1.4971 - val_loss: 5.7921 - val_mae: 1.8763\n",
      "Epoch 109/150\n",
      "\u001b[1m427/427\u001b[0m \u001b[32m━━━━━━━━━━━━━━━━━━━━\u001b[0m\u001b[37m\u001b[0m \u001b[1m1s\u001b[0m 2ms/step - loss: 3.6650 - mae: 1.5026 - val_loss: 5.6813 - val_mae: 1.8592\n",
      "Epoch 110/150\n",
      "\u001b[1m427/427\u001b[0m \u001b[32m━━━━━━━━━━━━━━━━━━━━\u001b[0m\u001b[37m\u001b[0m \u001b[1m1s\u001b[0m 2ms/step - loss: 3.6580 - mae: 1.4877 - val_loss: 5.6753 - val_mae: 1.8766\n",
      "Epoch 111/150\n",
      "\u001b[1m427/427\u001b[0m \u001b[32m━━━━━━━━━━━━━━━━━━━━\u001b[0m\u001b[37m\u001b[0m \u001b[1m1s\u001b[0m 2ms/step - loss: 3.6413 - mae: 1.4919 - val_loss: 5.6705 - val_mae: 1.8655\n",
      "Epoch 112/150\n",
      "\u001b[1m427/427\u001b[0m \u001b[32m━━━━━━━━━━━━━━━━━━━━\u001b[0m\u001b[37m\u001b[0m \u001b[1m1s\u001b[0m 2ms/step - loss: 3.6036 - mae: 1.4825 - val_loss: 5.8123 - val_mae: 1.8899\n",
      "Epoch 113/150\n",
      "\u001b[1m427/427\u001b[0m \u001b[32m━━━━━━━━━━━━━━━━━━━━\u001b[0m\u001b[37m\u001b[0m \u001b[1m1s\u001b[0m 2ms/step - loss: 3.5486 - mae: 1.4729 - val_loss: 5.8404 - val_mae: 1.8799\n",
      "Epoch 114/150\n",
      "\u001b[1m427/427\u001b[0m \u001b[32m━━━━━━━━━━━━━━━━━━━━\u001b[0m\u001b[37m\u001b[0m \u001b[1m1s\u001b[0m 2ms/step - loss: 3.6142 - mae: 1.4840 - val_loss: 5.7410 - val_mae: 1.8842\n",
      "Epoch 115/150\n",
      "\u001b[1m427/427\u001b[0m \u001b[32m━━━━━━━━━━━━━━━━━━━━\u001b[0m\u001b[37m\u001b[0m \u001b[1m1s\u001b[0m 2ms/step - loss: 3.6700 - mae: 1.5011 - val_loss: 5.8507 - val_mae: 1.8842\n",
      "Epoch 116/150\n",
      "\u001b[1m427/427\u001b[0m \u001b[32m━━━━━━━━━━━━━━━━━━━━\u001b[0m\u001b[37m\u001b[0m \u001b[1m1s\u001b[0m 2ms/step - loss: 3.5528 - mae: 1.4686 - val_loss: 5.7218 - val_mae: 1.8766\n",
      "Epoch 117/150\n",
      "\u001b[1m427/427\u001b[0m \u001b[32m━━━━━━━━━━━━━━━━━━━━\u001b[0m\u001b[37m\u001b[0m \u001b[1m1s\u001b[0m 2ms/step - loss: 3.5550 - mae: 1.4778 - val_loss: 5.8812 - val_mae: 1.8821\n",
      "Epoch 118/150\n",
      "\u001b[1m427/427\u001b[0m \u001b[32m━━━━━━━━━━━━━━━━━━━━\u001b[0m\u001b[37m\u001b[0m \u001b[1m1s\u001b[0m 2ms/step - loss: 3.5608 - mae: 1.4787 - val_loss: 5.7601 - val_mae: 1.8783\n",
      "Epoch 119/150\n",
      "\u001b[1m427/427\u001b[0m \u001b[32m━━━━━━━━━━━━━━━━━━━━\u001b[0m\u001b[37m\u001b[0m \u001b[1m1s\u001b[0m 2ms/step - loss: 3.5828 - mae: 1.4798 - val_loss: 5.7297 - val_mae: 1.8798\n",
      "Epoch 120/150\n",
      "\u001b[1m427/427\u001b[0m \u001b[32m━━━━━━━━━━━━━━━━━━━━\u001b[0m\u001b[37m\u001b[0m \u001b[1m1s\u001b[0m 2ms/step - loss: 3.5341 - mae: 1.4728 - val_loss: 5.8033 - val_mae: 1.8803\n",
      "Epoch 121/150\n",
      "\u001b[1m427/427\u001b[0m \u001b[32m━━━━━━━━━━━━━━━━━━━━\u001b[0m\u001b[37m\u001b[0m \u001b[1m1s\u001b[0m 2ms/step - loss: 3.5121 - mae: 1.4588 - val_loss: 5.7796 - val_mae: 1.8764\n",
      "Epoch 122/150\n",
      "\u001b[1m427/427\u001b[0m \u001b[32m━━━━━━━━━━━━━━━━━━━━\u001b[0m\u001b[37m\u001b[0m \u001b[1m1s\u001b[0m 2ms/step - loss: 3.4692 - mae: 1.4538 - val_loss: 5.8797 - val_mae: 1.8860\n",
      "Epoch 123/150\n",
      "\u001b[1m427/427\u001b[0m \u001b[32m━━━━━━━━━━━━━━━━━━━━\u001b[0m\u001b[37m\u001b[0m \u001b[1m1s\u001b[0m 2ms/step - loss: 3.5893 - mae: 1.4746 - val_loss: 5.7608 - val_mae: 1.8716\n",
      "Epoch 124/150\n",
      "\u001b[1m427/427\u001b[0m \u001b[32m━━━━━━━━━━━━━━━━━━━━\u001b[0m\u001b[37m\u001b[0m \u001b[1m1s\u001b[0m 2ms/step - loss: 3.5118 - mae: 1.4643 - val_loss: 5.7341 - val_mae: 1.8686\n",
      "Epoch 125/150\n",
      "\u001b[1m427/427\u001b[0m \u001b[32m━━━━━━━━━━━━━━━━━━━━\u001b[0m\u001b[37m\u001b[0m \u001b[1m1s\u001b[0m 2ms/step - loss: 3.4981 - mae: 1.4600 - val_loss: 5.8432 - val_mae: 1.9044\n",
      "Epoch 126/150\n",
      "\u001b[1m427/427\u001b[0m \u001b[32m━━━━━━━━━━━━━━━━━━━━\u001b[0m\u001b[37m\u001b[0m \u001b[1m1s\u001b[0m 2ms/step - loss: 3.4633 - mae: 1.4467 - val_loss: 5.7598 - val_mae: 1.8691\n",
      "Epoch 127/150\n",
      "\u001b[1m427/427\u001b[0m \u001b[32m━━━━━━━━━━━━━━━━━━━━\u001b[0m\u001b[37m\u001b[0m \u001b[1m1s\u001b[0m 2ms/step - loss: 3.4273 - mae: 1.4473 - val_loss: 5.7853 - val_mae: 1.8790\n",
      "Epoch 128/150\n",
      "\u001b[1m427/427\u001b[0m \u001b[32m━━━━━━━━━━━━━━━━━━━━\u001b[0m\u001b[37m\u001b[0m \u001b[1m1s\u001b[0m 2ms/step - loss: 3.4782 - mae: 1.4601 - val_loss: 5.8679 - val_mae: 1.9215\n",
      "Epoch 129/150\n",
      "\u001b[1m427/427\u001b[0m \u001b[32m━━━━━━━━━━━━━━━━━━━━\u001b[0m\u001b[37m\u001b[0m \u001b[1m1s\u001b[0m 2ms/step - loss: 3.4644 - mae: 1.4474 - val_loss: 5.7561 - val_mae: 1.8907\n",
      "Epoch 130/150\n",
      "\u001b[1m427/427\u001b[0m \u001b[32m━━━━━━━━━━━━━━━━━━━━\u001b[0m\u001b[37m\u001b[0m \u001b[1m1s\u001b[0m 2ms/step - loss: 3.4283 - mae: 1.4492 - val_loss: 5.9985 - val_mae: 1.9353\n",
      "Epoch 131/150\n",
      "\u001b[1m427/427\u001b[0m \u001b[32m━━━━━━━━━━━━━━━━━━━━\u001b[0m\u001b[37m\u001b[0m \u001b[1m1s\u001b[0m 2ms/step - loss: 3.4493 - mae: 1.4457 - val_loss: 5.8574 - val_mae: 1.8900\n",
      "Epoch 132/150\n",
      "\u001b[1m427/427\u001b[0m \u001b[32m━━━━━━━━━━━━━━━━━━━━\u001b[0m\u001b[37m\u001b[0m \u001b[1m1s\u001b[0m 2ms/step - loss: 3.4564 - mae: 1.4496 - val_loss: 5.8083 - val_mae: 1.8827\n",
      "Epoch 133/150\n",
      "\u001b[1m427/427\u001b[0m \u001b[32m━━━━━━━━━━━━━━━━━━━━\u001b[0m\u001b[37m\u001b[0m \u001b[1m1s\u001b[0m 2ms/step - loss: 3.3688 - mae: 1.4349 - val_loss: 5.7922 - val_mae: 1.8882\n",
      "Epoch 134/150\n",
      "\u001b[1m427/427\u001b[0m \u001b[32m━━━━━━━━━━━━━━━━━━━━\u001b[0m\u001b[37m\u001b[0m \u001b[1m1s\u001b[0m 2ms/step - loss: 3.4759 - mae: 1.4544 - val_loss: 5.8531 - val_mae: 1.9009\n",
      "Epoch 135/150\n",
      "\u001b[1m427/427\u001b[0m \u001b[32m━━━━━━━━━━━━━━━━━━━━\u001b[0m\u001b[37m\u001b[0m \u001b[1m1s\u001b[0m 2ms/step - loss: 3.5034 - mae: 1.4584 - val_loss: 5.7968 - val_mae: 1.8875\n",
      "Epoch 136/150\n",
      "\u001b[1m427/427\u001b[0m \u001b[32m━━━━━━━━━━━━━━━━━━━━\u001b[0m\u001b[37m\u001b[0m \u001b[1m1s\u001b[0m 2ms/step - loss: 3.4199 - mae: 1.4463 - val_loss: 5.8408 - val_mae: 1.8866\n",
      "Epoch 137/150\n",
      "\u001b[1m427/427\u001b[0m \u001b[32m━━━━━━━━━━━━━━━━━━━━\u001b[0m\u001b[37m\u001b[0m \u001b[1m1s\u001b[0m 2ms/step - loss: 3.3595 - mae: 1.4302 - val_loss: 5.8607 - val_mae: 1.8923\n",
      "Epoch 138/150\n",
      "\u001b[1m427/427\u001b[0m \u001b[32m━━━━━━━━━━━━━━━━━━━━\u001b[0m\u001b[37m\u001b[0m \u001b[1m1s\u001b[0m 2ms/step - loss: 3.3073 - mae: 1.4240 - val_loss: 5.9496 - val_mae: 1.9066\n",
      "Epoch 139/150\n",
      "\u001b[1m427/427\u001b[0m \u001b[32m━━━━━━━━━━━━━━━━━━━━\u001b[0m\u001b[37m\u001b[0m \u001b[1m1s\u001b[0m 2ms/step - loss: 3.3657 - mae: 1.4313 - val_loss: 5.8549 - val_mae: 1.8886\n",
      "Epoch 140/150\n",
      "\u001b[1m427/427\u001b[0m \u001b[32m━━━━━━━━━━━━━━━━━━━━\u001b[0m\u001b[37m\u001b[0m \u001b[1m1s\u001b[0m 2ms/step - loss: 3.3499 - mae: 1.4241 - val_loss: 5.9604 - val_mae: 1.9289\n",
      "Epoch 141/150\n",
      "\u001b[1m427/427\u001b[0m \u001b[32m━━━━━━━━━━━━━━━━━━━━\u001b[0m\u001b[37m\u001b[0m \u001b[1m1s\u001b[0m 2ms/step - loss: 3.3621 - mae: 1.4278 - val_loss: 5.8782 - val_mae: 1.8923\n",
      "Epoch 142/150\n",
      "\u001b[1m427/427\u001b[0m \u001b[32m━━━━━━━━━━━━━━━━━━━━\u001b[0m\u001b[37m\u001b[0m \u001b[1m1s\u001b[0m 2ms/step - loss: 3.3213 - mae: 1.4206 - val_loss: 6.0190 - val_mae: 1.9114\n",
      "Epoch 143/150\n",
      "\u001b[1m427/427\u001b[0m \u001b[32m━━━━━━━━━━━━━━━━━━━━\u001b[0m\u001b[37m\u001b[0m \u001b[1m1s\u001b[0m 2ms/step - loss: 3.3266 - mae: 1.4216 - val_loss: 5.8296 - val_mae: 1.8937\n",
      "Epoch 144/150\n",
      "\u001b[1m427/427\u001b[0m \u001b[32m━━━━━━━━━━━━━━━━━━━━\u001b[0m\u001b[37m\u001b[0m \u001b[1m1s\u001b[0m 2ms/step - loss: 3.2907 - mae: 1.4104 - val_loss: 5.9556 - val_mae: 1.9054\n",
      "Epoch 145/150\n",
      "\u001b[1m427/427\u001b[0m \u001b[32m━━━━━━━━━━━━━━━━━━━━\u001b[0m\u001b[37m\u001b[0m \u001b[1m1s\u001b[0m 2ms/step - loss: 3.3842 - mae: 1.4354 - val_loss: 6.0069 - val_mae: 1.9306\n",
      "Epoch 146/150\n",
      "\u001b[1m427/427\u001b[0m \u001b[32m━━━━━━━━━━━━━━━━━━━━\u001b[0m\u001b[37m\u001b[0m \u001b[1m1s\u001b[0m 2ms/step - loss: 3.2688 - mae: 1.4046 - val_loss: 6.0011 - val_mae: 1.9416\n",
      "Epoch 147/150\n",
      "\u001b[1m427/427\u001b[0m \u001b[32m━━━━━━━━━━━━━━━━━━━━\u001b[0m\u001b[37m\u001b[0m \u001b[1m1s\u001b[0m 2ms/step - loss: 3.1928 - mae: 1.3987 - val_loss: 5.9721 - val_mae: 1.9314\n",
      "Epoch 148/150\n",
      "\u001b[1m427/427\u001b[0m \u001b[32m━━━━━━━━━━━━━━━━━━━━\u001b[0m\u001b[37m\u001b[0m \u001b[1m1s\u001b[0m 2ms/step - loss: 3.2881 - mae: 1.4163 - val_loss: 5.9253 - val_mae: 1.9114\n",
      "Epoch 149/150\n",
      "\u001b[1m427/427\u001b[0m \u001b[32m━━━━━━━━━━━━━━━━━━━━\u001b[0m\u001b[37m\u001b[0m \u001b[1m1s\u001b[0m 2ms/step - loss: 3.2887 - mae: 1.4119 - val_loss: 5.8958 - val_mae: 1.8959\n",
      "Epoch 150/150\n",
      "\u001b[1m427/427\u001b[0m \u001b[32m━━━━━━━━━━━━━━━━━━━━\u001b[0m\u001b[37m\u001b[0m \u001b[1m1s\u001b[0m 2ms/step - loss: 3.3488 - mae: 1.4305 - val_loss: 5.8895 - val_mae: 1.9046\n"
     ]
    }
   ],
   "source": [
    "\"\"\"modelnnTune = tuner.hypermodel.build(best_hps)\n",
    "historynnTune = modelnnTune.fit(XTrainTune, yTrainTune, epochs=150, validation_split=0.15)\"\"\""
   ]
  },
  {
   "cell_type": "code",
   "execution_count": 224,
   "metadata": {},
   "outputs": [],
   "source": [
    "\"\"\"modelnnTune.save('modelnnTuneHyperparamrebuild.keras')\n",
    "\n",
    "with open('modelnnTuneHyperparamrebuild_history.pkl', 'wb') as file:\n",
    "    pickle.dump(historynnTune.history, file)\"\"\""
   ]
  },
  {
   "cell_type": "code",
   "execution_count": null,
   "metadata": {},
   "outputs": [],
   "source": [
    "modelnn = keras.models.load_model('modelnnTuneHyperparamrebuild.keras')\n",
    "\n",
    "# Cargar el historial\n",
    "with open('modelnnTuneHyperparamrebuild_history.pkl', 'rb') as file:\n",
    "    historynnTune = pickle.load(file)"
   ]
  },
  {
   "cell_type": "code",
   "execution_count": 204,
   "metadata": {},
   "outputs": [
    {
     "name": "stdout",
     "output_type": "stream",
     "text": [
      "Best epoch: 33\n"
     ]
    }
   ],
   "source": [
    "val_acc_per_epoch = historynnTune.history['val_loss']\n",
    "best_epoch = val_acc_per_epoch.index(min(val_acc_per_epoch)) + 1\n",
    "print('Best epoch: %d' % (best_epoch,))"
   ]
  },
  {
   "cell_type": "code",
   "execution_count": null,
   "metadata": {},
   "outputs": [
    {
     "name": "stderr",
     "output_type": "stream",
     "text": [
      "C:\\Users\\quinito\\AppData\\Local\\Packages\\PythonSoftwareFoundation.Python.3.11_qbz5n2kfra8p0\\LocalCache\\local-packages\\Python311\\site-packages\\keras\\src\\layers\\core\\input_layer.py:27: UserWarning: Argument `input_shape` is deprecated. Use `shape` instead.\n",
      "  warnings.warn(\n"
     ]
    },
    {
     "name": "stdout",
     "output_type": "stream",
     "text": [
      "Epoch 1/33\n",
      "\u001b[1m427/427\u001b[0m \u001b[32m━━━━━━━━━━━━━━━━━━━━\u001b[0m\u001b[37m\u001b[0m \u001b[1m3s\u001b[0m 3ms/step - loss: 30.2985 - mae: 4.4022 - val_loss: 7.5273 - val_mae: 2.1389\n",
      "Epoch 2/33\n",
      "\u001b[1m427/427\u001b[0m \u001b[32m━━━━━━━━━━━━━━━━━━━━\u001b[0m\u001b[37m\u001b[0m \u001b[1m1s\u001b[0m 2ms/step - loss: 6.6026 - mae: 2.0077 - val_loss: 6.3525 - val_mae: 1.9948\n",
      "Epoch 3/33\n",
      "\u001b[1m427/427\u001b[0m \u001b[32m━━━━━━━━━━━━━━━━━━━━\u001b[0m\u001b[37m\u001b[0m \u001b[1m1s\u001b[0m 2ms/step - loss: 5.9811 - mae: 1.9127 - val_loss: 5.9352 - val_mae: 1.9170\n",
      "Epoch 4/33\n",
      "\u001b[1m427/427\u001b[0m \u001b[32m━━━━━━━━━━━━━━━━━━━━\u001b[0m\u001b[37m\u001b[0m \u001b[1m1s\u001b[0m 2ms/step - loss: 5.5912 - mae: 1.8643 - val_loss: 5.7831 - val_mae: 1.9170\n",
      "Epoch 5/33\n",
      "\u001b[1m427/427\u001b[0m \u001b[32m━━━━━━━━━━━━━━━━━━━━\u001b[0m\u001b[37m\u001b[0m \u001b[1m1s\u001b[0m 2ms/step - loss: 5.3273 - mae: 1.8274 - val_loss: 5.6201 - val_mae: 1.8594\n",
      "Epoch 6/33\n",
      "\u001b[1m427/427\u001b[0m \u001b[32m━━━━━━━━━━━━━━━━━━━━\u001b[0m\u001b[37m\u001b[0m \u001b[1m1s\u001b[0m 3ms/step - loss: 5.3084 - mae: 1.8162 - val_loss: 5.5703 - val_mae: 1.8481\n",
      "Epoch 7/33\n",
      "\u001b[1m427/427\u001b[0m \u001b[32m━━━━━━━━━━━━━━━━━━━━\u001b[0m\u001b[37m\u001b[0m \u001b[1m1s\u001b[0m 2ms/step - loss: 5.2142 - mae: 1.7984 - val_loss: 5.5190 - val_mae: 1.8577\n",
      "Epoch 8/33\n",
      "\u001b[1m427/427\u001b[0m \u001b[32m━━━━━━━━━━━━━━━━━━━━\u001b[0m\u001b[37m\u001b[0m \u001b[1m1s\u001b[0m 2ms/step - loss: 5.1481 - mae: 1.7860 - val_loss: 5.5408 - val_mae: 1.8774\n",
      "Epoch 9/33\n",
      "\u001b[1m427/427\u001b[0m \u001b[32m━━━━━━━━━━━━━━━━━━━━\u001b[0m\u001b[37m\u001b[0m \u001b[1m1s\u001b[0m 2ms/step - loss: 5.0774 - mae: 1.7808 - val_loss: 5.4897 - val_mae: 1.8327\n",
      "Epoch 10/33\n",
      "\u001b[1m427/427\u001b[0m \u001b[32m━━━━━━━━━━━━━━━━━━━━\u001b[0m\u001b[37m\u001b[0m \u001b[1m1s\u001b[0m 3ms/step - loss: 5.0903 - mae: 1.7753 - val_loss: 5.4374 - val_mae: 1.8199\n",
      "Epoch 11/33\n",
      "\u001b[1m427/427\u001b[0m \u001b[32m━━━━━━━━━━━━━━━━━━━━\u001b[0m\u001b[37m\u001b[0m \u001b[1m1s\u001b[0m 3ms/step - loss: 4.9880 - mae: 1.7558 - val_loss: 5.3750 - val_mae: 1.8151\n",
      "Epoch 12/33\n",
      "\u001b[1m427/427\u001b[0m \u001b[32m━━━━━━━━━━━━━━━━━━━━\u001b[0m\u001b[37m\u001b[0m \u001b[1m1s\u001b[0m 3ms/step - loss: 4.9405 - mae: 1.7506 - val_loss: 5.4091 - val_mae: 1.8306\n",
      "Epoch 13/33\n",
      "\u001b[1m427/427\u001b[0m \u001b[32m━━━━━━━━━━━━━━━━━━━━\u001b[0m\u001b[37m\u001b[0m \u001b[1m1s\u001b[0m 3ms/step - loss: 4.9784 - mae: 1.7588 - val_loss: 5.3708 - val_mae: 1.8159\n",
      "Epoch 14/33\n",
      "\u001b[1m427/427\u001b[0m \u001b[32m━━━━━━━━━━━━━━━━━━━━\u001b[0m\u001b[37m\u001b[0m \u001b[1m1s\u001b[0m 3ms/step - loss: 4.9571 - mae: 1.7465 - val_loss: 5.4041 - val_mae: 1.8249\n",
      "Epoch 15/33\n",
      "\u001b[1m427/427\u001b[0m \u001b[32m━━━━━━━━━━━━━━━━━━━━\u001b[0m\u001b[37m\u001b[0m \u001b[1m1s\u001b[0m 3ms/step - loss: 4.8440 - mae: 1.7404 - val_loss: 5.4085 - val_mae: 1.8228\n",
      "Epoch 16/33\n",
      "\u001b[1m427/427\u001b[0m \u001b[32m━━━━━━━━━━━━━━━━━━━━\u001b[0m\u001b[37m\u001b[0m \u001b[1m1s\u001b[0m 3ms/step - loss: 4.7901 - mae: 1.7213 - val_loss: 5.3967 - val_mae: 1.8209\n",
      "Epoch 17/33\n",
      "\u001b[1m427/427\u001b[0m \u001b[32m━━━━━━━━━━━━━━━━━━━━\u001b[0m\u001b[37m\u001b[0m \u001b[1m1s\u001b[0m 3ms/step - loss: 4.7684 - mae: 1.7193 - val_loss: 5.3377 - val_mae: 1.8007\n",
      "Epoch 18/33\n",
      "\u001b[1m427/427\u001b[0m \u001b[32m━━━━━━━━━━━━━━━━━━━━\u001b[0m\u001b[37m\u001b[0m \u001b[1m1s\u001b[0m 3ms/step - loss: 4.7569 - mae: 1.7192 - val_loss: 5.4109 - val_mae: 1.8024\n",
      "Epoch 19/33\n",
      "\u001b[1m427/427\u001b[0m \u001b[32m━━━━━━━━━━━━━━━━━━━━\u001b[0m\u001b[37m\u001b[0m \u001b[1m1s\u001b[0m 2ms/step - loss: 4.8463 - mae: 1.7304 - val_loss: 5.4911 - val_mae: 1.8644\n",
      "Epoch 20/33\n",
      "\u001b[1m427/427\u001b[0m \u001b[32m━━━━━━━━━━━━━━━━━━━━\u001b[0m\u001b[37m\u001b[0m \u001b[1m1s\u001b[0m 2ms/step - loss: 4.6932 - mae: 1.7061 - val_loss: 5.3231 - val_mae: 1.8039\n",
      "Epoch 21/33\n",
      "\u001b[1m427/427\u001b[0m \u001b[32m━━━━━━━━━━━━━━━━━━━━\u001b[0m\u001b[37m\u001b[0m \u001b[1m1s\u001b[0m 2ms/step - loss: 4.7124 - mae: 1.7066 - val_loss: 5.4729 - val_mae: 1.8482\n",
      "Epoch 22/33\n",
      "\u001b[1m427/427\u001b[0m \u001b[32m━━━━━━━━━━━━━━━━━━━━\u001b[0m\u001b[37m\u001b[0m \u001b[1m1s\u001b[0m 2ms/step - loss: 4.7634 - mae: 1.7214 - val_loss: 5.3282 - val_mae: 1.7855\n",
      "Epoch 23/33\n",
      "\u001b[1m427/427\u001b[0m \u001b[32m━━━━━━━━━━━━━━━━━━━━\u001b[0m\u001b[37m\u001b[0m \u001b[1m1s\u001b[0m 2ms/step - loss: 4.7216 - mae: 1.7012 - val_loss: 5.4067 - val_mae: 1.7986\n",
      "Epoch 24/33\n",
      "\u001b[1m427/427\u001b[0m \u001b[32m━━━━━━━━━━━━━━━━━━━━\u001b[0m\u001b[37m\u001b[0m \u001b[1m1s\u001b[0m 2ms/step - loss: 4.7167 - mae: 1.7098 - val_loss: 5.3071 - val_mae: 1.7831\n",
      "Epoch 25/33\n",
      "\u001b[1m427/427\u001b[0m \u001b[32m━━━━━━━━━━━━━━━━━━━━\u001b[0m\u001b[37m\u001b[0m \u001b[1m1s\u001b[0m 3ms/step - loss: 4.7362 - mae: 1.7045 - val_loss: 5.3240 - val_mae: 1.7987\n",
      "Epoch 26/33\n",
      "\u001b[1m427/427\u001b[0m \u001b[32m━━━━━━━━━━━━━━━━━━━━\u001b[0m\u001b[37m\u001b[0m \u001b[1m1s\u001b[0m 2ms/step - loss: 4.5979 - mae: 1.6848 - val_loss: 5.3056 - val_mae: 1.7996\n",
      "Epoch 27/33\n",
      "\u001b[1m427/427\u001b[0m \u001b[32m━━━━━━━━━━━━━━━━━━━━\u001b[0m\u001b[37m\u001b[0m \u001b[1m1s\u001b[0m 2ms/step - loss: 4.4586 - mae: 1.6512 - val_loss: 5.3384 - val_mae: 1.8087\n",
      "Epoch 28/33\n",
      "\u001b[1m427/427\u001b[0m \u001b[32m━━━━━━━━━━━━━━━━━━━━\u001b[0m\u001b[37m\u001b[0m \u001b[1m1s\u001b[0m 2ms/step - loss: 4.5432 - mae: 1.6755 - val_loss: 5.2694 - val_mae: 1.7863\n",
      "Epoch 29/33\n",
      "\u001b[1m427/427\u001b[0m \u001b[32m━━━━━━━━━━━━━━━━━━━━\u001b[0m\u001b[37m\u001b[0m \u001b[1m1s\u001b[0m 2ms/step - loss: 4.5647 - mae: 1.6707 - val_loss: 5.3855 - val_mae: 1.7934\n",
      "Epoch 30/33\n",
      "\u001b[1m427/427\u001b[0m \u001b[32m━━━━━━━━━━━━━━━━━━━━\u001b[0m\u001b[37m\u001b[0m \u001b[1m1s\u001b[0m 2ms/step - loss: 4.5722 - mae: 1.6636 - val_loss: 5.3263 - val_mae: 1.8005\n",
      "Epoch 31/33\n",
      "\u001b[1m427/427\u001b[0m \u001b[32m━━━━━━━━━━━━━━━━━━━━\u001b[0m\u001b[37m\u001b[0m \u001b[1m1s\u001b[0m 2ms/step - loss: 4.7782 - mae: 1.7249 - val_loss: 5.3739 - val_mae: 1.8225\n",
      "Epoch 32/33\n",
      "\u001b[1m427/427\u001b[0m \u001b[32m━━━━━━━━━━━━━━━━━━━━\u001b[0m\u001b[37m\u001b[0m \u001b[1m1s\u001b[0m 2ms/step - loss: 4.6074 - mae: 1.6736 - val_loss: 5.3773 - val_mae: 1.7870\n",
      "Epoch 33/33\n",
      "\u001b[1m427/427\u001b[0m \u001b[32m━━━━━━━━━━━━━━━━━━━━\u001b[0m\u001b[37m\u001b[0m \u001b[1m1s\u001b[0m 2ms/step - loss: 4.6052 - mae: 1.6901 - val_loss: 5.5084 - val_mae: 1.8021\n"
     ]
    },
    {
     "data": {
      "text/plain": [
       "<keras.src.callbacks.history.History at 0x190b673ead0>"
      ]
     },
     "execution_count": 213,
     "metadata": {},
     "output_type": "execute_result"
    }
   ],
   "source": [
    "\"\"\"hypermodel = tuner.hypermodel.build(best_hps)\n",
    "\n",
    "hypermodel.fit(XTrainTune, yTrainTune, epochs=best_epoch, validation_split=0.15)\"\"\""
   ]
  },
  {
   "cell_type": "code",
   "execution_count": 225,
   "metadata": {},
   "outputs": [],
   "source": [
    "#hypermodel.save('modelnnTuneHyperparamrebuildOptEpochs.keras')"
   ]
  },
  {
   "cell_type": "code",
   "execution_count": 226,
   "metadata": {},
   "outputs": [],
   "source": [
    "hypermodel = keras.models.load_model('modelnnTuneHyperparamrebuildOptEpochs.keras')"
   ]
  },
  {
   "cell_type": "code",
   "execution_count": 218,
   "metadata": {},
   "outputs": [
    {
     "name": "stdout",
     "output_type": "stream",
     "text": [
      "\u001b[1m126/126\u001b[0m \u001b[32m━━━━━━━━━━━━━━━━━━━━\u001b[0m\u001b[37m\u001b[0m \u001b[1m0s\u001b[0m 1ms/step\n",
      "RSS:\n",
      "21268.31852789565\n",
      "MSE: 5.29\n",
      "RMSE: 2.30\n",
      "Mean Absolute Error: 1.77\n",
      "Median Absolute Error: 1.42\n",
      "Explained Variance Score: 0.23\n",
      "R²: 0.20\n"
     ]
    }
   ],
   "source": [
    "y_predTuneNnLowEpoch = hypermodel.predict(XTestTune).ravel()\n",
    "my_performance_report(y_predTuneNnLowEpoch,yTestTune)"
   ]
  },
  {
   "cell_type": "markdown",
   "metadata": {},
   "source": [
    "Let's see if we can build a similar neural network with better accuracy manually."
   ]
  },
  {
   "cell_type": "code",
   "execution_count": 270,
   "metadata": {},
   "outputs": [
    {
     "name": "stderr",
     "output_type": "stream",
     "text": [
      "C:\\Users\\quinito\\AppData\\Local\\Packages\\PythonSoftwareFoundation.Python.3.11_qbz5n2kfra8p0\\LocalCache\\local-packages\\Python311\\site-packages\\keras\\src\\layers\\core\\dense.py:87: UserWarning: Do not pass an `input_shape`/`input_dim` argument to a layer. When using Sequential models, prefer using an `Input(shape)` object as the first layer in the model instead.\n",
      "  super().__init__(activity_regularizer=activity_regularizer, **kwargs)\n"
     ]
    }
   ],
   "source": [
    "\"\"\"modelnnLast = Sequential([\n",
    "    Dense(128, activation='relu', input_shape=(12,)), \n",
    "    Dense(96, activation='relu'),            \n",
    "    Dense(64, activation='relu'),           \n",
    "    Dense(1)                                          \n",
    "])\n",
    "\n",
    "optimizerMine = Adam(learning_rate=0.0005)  \n",
    "\n",
    "\n",
    "modelnnLast.compile(optimizerMine, loss='mse', metrics=['mae'])\n",
    "\n",
    "\n",
    "history = modelnnLast.fit(XTrainTune, yTrainTune, epochs=28, batch_size=32, validation_split=0.15, verbose=0)\"\"\""
   ]
  },
  {
   "cell_type": "code",
   "execution_count": 272,
   "metadata": {},
   "outputs": [],
   "source": [
    "\"\"\"modelnnLast.save('modelnnLast.keras')\n",
    "\n",
    "with open('modelnnLast_history.pkl', 'wb') as file:\n",
    "    pickle.dump(history.history, file)\"\"\"\n",
    "\n"
   ]
  },
  {
   "cell_type": "code",
   "execution_count": 273,
   "metadata": {},
   "outputs": [],
   "source": [
    "modelnnLast = keras.models.load_model('modelnnLast.keras')\n",
    "\n",
    "with open('modelnnLast_history.pkl', 'rb') as file:\n",
    "    history = pickle.load(file)"
   ]
  },
  {
   "cell_type": "code",
   "execution_count": 274,
   "metadata": {},
   "outputs": [
    {
     "name": "stdout",
     "output_type": "stream",
     "text": [
      "\u001b[1m126/126\u001b[0m \u001b[32m━━━━━━━━━━━━━━━━━━━━\u001b[0m\u001b[37m\u001b[0m \u001b[1m0s\u001b[0m 2ms/step\n",
      "RSS:\n",
      "20773.233694788687\n",
      "MSE: 5.17\n",
      "RMSE: 2.27\n",
      "Mean Absolute Error: 1.79\n",
      "Median Absolute Error: 1.48\n",
      "Explained Variance Score: 0.22\n",
      "R²: 0.22\n"
     ]
    }
   ],
   "source": [
    "y_predTuneNNLast = modelnnLast.predict(XTestTune).ravel()\n",
    "my_performance_report(y_predTuneNNLast,yTestTune)"
   ]
  },
  {
   "cell_type": "markdown",
   "metadata": {},
   "source": [
    "Now we will run an ensemble that hopefully can combine the strengths of all our previous models."
   ]
  },
  {
   "cell_type": "code",
   "execution_count": 289,
   "metadata": {},
   "outputs": [],
   "source": [
    "ensemble_prediction = (0.4*y_predTuneRandFor3 + 0.4*y_predTuneXgb + 0.2*y_predTuneNNLast)"
   ]
  },
  {
   "cell_type": "code",
   "execution_count": 290,
   "metadata": {},
   "outputs": [
    {
     "name": "stdout",
     "output_type": "stream",
     "text": [
      "RSS:\n",
      "19320.88323595978\n",
      "MSE: 4.81\n",
      "RMSE: 2.19\n",
      "Mean Absolute Error: 1.71\n",
      "Median Absolute Error: 1.41\n",
      "Explained Variance Score: 0.27\n",
      "R²: 0.27\n"
     ]
    }
   ],
   "source": [
    "my_performance_report(ensemble_prediction,yTestTune)"
   ]
  },
  {
   "cell_type": "markdown",
   "metadata": {},
   "source": [
    "Our ensemble is a little bit better than the separate models. This is not a great result, but it shows that we can explain at least some of the variance in energy. Also, taking into account the broadness of our dependent variable (From 0.5 to 18 MWh), our error does not seem so bad. "
   ]
  }
 ],
 "metadata": {
  "kernelspec": {
   "display_name": "Python 3",
   "language": "python",
   "name": "python3"
  },
  "language_info": {
   "codemirror_mode": {
    "name": "ipython",
    "version": 3
   },
   "file_extension": ".py",
   "mimetype": "text/x-python",
   "name": "python",
   "nbconvert_exporter": "python",
   "pygments_lexer": "ipython3",
   "version": "3.11.9"
  }
 },
 "nbformat": 4,
 "nbformat_minor": 2
}
